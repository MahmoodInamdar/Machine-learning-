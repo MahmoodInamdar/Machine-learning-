{
  "nbformat": 4,
  "nbformat_minor": 0,
  "metadata": {
    "colab": {
      "provenance": [],
      "authorship_tag": "ABX9TyMicVnzjD4mfZYYE+4Fz4hx",
      "include_colab_link": true
    },
    "kernelspec": {
      "name": "python3",
      "display_name": "Python 3"
    },
    "language_info": {
      "name": "python"
    }
  },
  "cells": [
    {
      "cell_type": "markdown",
      "metadata": {
        "id": "view-in-github",
        "colab_type": "text"
      },
      "source": [
        "<a href=\"https://colab.research.google.com/github/MahmoodInamdar/Python-projects-MI/blob/main/Final_Assignment.ipynb\" target=\"_parent\"><img src=\"https://colab.research.google.com/assets/colab-badge.svg\" alt=\"Open In Colab\"/></a>"
      ]
    },
    {
      "cell_type": "markdown",
      "source": [
        "Mahmood Inamdar: GH1023619\n",
        "\n",
        "This will be my final Assessment which will be submitted on canva.\n",
        "\n",
        "The Data which is used by me is Heart Stroke Prediction based on few features labels.\n",
        "\n",
        "The data was exported from https://www.kaggle.com/datasets/swetha0406/heart-stroke-prediction.\n",
        "\n",
        "Below I have imported all the libraries together which are:\n",
        "\n",
        "1. Pandas for Data. \n",
        "2. Model selection for grid search.\n",
        "3. sklearn.metrics for support vector machine.\n",
        "4. sklearn.preprocessing for Encoding and Building a standardization model.\n",
        "5. sklearn.decomposition for reducing the dimentionality. \n",
        "6. imblearn.over_sampling for SMOTE\n"
      ],
      "metadata": {
        "id": "K6GdyZsIyqMc"
      }
    },
    {
      "cell_type": "code",
      "execution_count": 126,
      "metadata": {
        "id": "u0hL5GOpemv6"
      },
      "outputs": [],
      "source": [
        "import pandas as pd\n",
        "import sklearn.model_selection\n",
        "import sklearn.svm\n",
        "import sklearn.metrics\n",
        "import sklearn.preprocessing\n",
        "import imblearn.over_sampling\n",
        "import sklearn.decomposition\n",
        "import numpy as np\n",
        "\n"
      ]
    },
    {
      "cell_type": "markdown",
      "source": [
        "Importing Data:\n",
        "\n",
        "The Data Stroke.csv has in total of 43410 rows and 11 coloums. \n",
        "\n",
        "Features such as:\n",
        "1. Gender ( male, Female)\n",
        "2. Age (Int)\n",
        "3. Hypertension (0=no,1=yes)\n",
        "4. Heart Disease (0=no,1=yes)\n",
        "5. Ever_Married\t(no , yes)\n",
        "6. Work_Type (children,Private,Self-employed,Govt_job)\n",
        "7. Residence_Type\t( Rural , Urban )\n",
        "8. Avg_Glucose_Level\t(Float)\n",
        "9. BMI\t(Float)\n",
        "10. Smoking_Status\t(null,never smoked,formerly smoked\n",
        ",smokes)\n",
        "\n",
        "Target Label:\n",
        "\n",
        "11. Stroke.\n",
        "\n",
        "In the below steps, I have imported the data and added it to a variable df (data frame).\n",
        "\n",
        "As of now, I will go ahead with the sample of 5000 dataset to complete the pipeline.\n",
        "\n",
        "Just to remove the non important feature which is 'ID' which has been dropped from my dataset moving forward. \n",
        "\n",
        "Printing my data head just to check if the data was properly updated and ID was removed or not. \n"
      ],
      "metadata": {
        "id": "XjyUCcSXzofK"
      }
    },
    {
      "cell_type": "code",
      "source": [
        "df = pd.read_csv(\"Stroke.csv\")\n",
        "df = df.sample(10000)\n",
        "df = df.drop(['ID'], axis=1)\n",
        "\n",
        "df.head(2)"
      ],
      "metadata": {
        "colab": {
          "base_uri": "https://localhost:8080/",
          "height": 176
        },
        "id": "xJNis7d5WuOR",
        "outputId": "d22367d0-a70b-4c41-cded-6ca67adf8364"
      },
      "execution_count": 127,
      "outputs": [
        {
          "output_type": "execute_result",
          "data": {
            "text/plain": [
              "       Gender   Age  Hypertension  Heart_Disease Ever_Married Work_Type  \\\n",
              "34936  Female  71.0             1              0          Yes   Private   \n",
              "27661    Male  73.0             0              0          Yes   Private   \n",
              "\n",
              "      Residence_Type  Avg_Glucose_Level   BMI   Smoking_Status  Stroke  \n",
              "34936          Urban              73.72  23.7     never smoked       0  \n",
              "27661          Rural              68.53  29.5  formerly smoked       0  "
            ],
            "text/html": [
              "\n",
              "  <div id=\"df-bd3ab945-4d1d-488e-af57-25216abeb318\">\n",
              "    <div class=\"colab-df-container\">\n",
              "      <div>\n",
              "<style scoped>\n",
              "    .dataframe tbody tr th:only-of-type {\n",
              "        vertical-align: middle;\n",
              "    }\n",
              "\n",
              "    .dataframe tbody tr th {\n",
              "        vertical-align: top;\n",
              "    }\n",
              "\n",
              "    .dataframe thead th {\n",
              "        text-align: right;\n",
              "    }\n",
              "</style>\n",
              "<table border=\"1\" class=\"dataframe\">\n",
              "  <thead>\n",
              "    <tr style=\"text-align: right;\">\n",
              "      <th></th>\n",
              "      <th>Gender</th>\n",
              "      <th>Age</th>\n",
              "      <th>Hypertension</th>\n",
              "      <th>Heart_Disease</th>\n",
              "      <th>Ever_Married</th>\n",
              "      <th>Work_Type</th>\n",
              "      <th>Residence_Type</th>\n",
              "      <th>Avg_Glucose_Level</th>\n",
              "      <th>BMI</th>\n",
              "      <th>Smoking_Status</th>\n",
              "      <th>Stroke</th>\n",
              "    </tr>\n",
              "  </thead>\n",
              "  <tbody>\n",
              "    <tr>\n",
              "      <th>34936</th>\n",
              "      <td>Female</td>\n",
              "      <td>71.0</td>\n",
              "      <td>1</td>\n",
              "      <td>0</td>\n",
              "      <td>Yes</td>\n",
              "      <td>Private</td>\n",
              "      <td>Urban</td>\n",
              "      <td>73.72</td>\n",
              "      <td>23.7</td>\n",
              "      <td>never smoked</td>\n",
              "      <td>0</td>\n",
              "    </tr>\n",
              "    <tr>\n",
              "      <th>27661</th>\n",
              "      <td>Male</td>\n",
              "      <td>73.0</td>\n",
              "      <td>0</td>\n",
              "      <td>0</td>\n",
              "      <td>Yes</td>\n",
              "      <td>Private</td>\n",
              "      <td>Rural</td>\n",
              "      <td>68.53</td>\n",
              "      <td>29.5</td>\n",
              "      <td>formerly smoked</td>\n",
              "      <td>0</td>\n",
              "    </tr>\n",
              "  </tbody>\n",
              "</table>\n",
              "</div>\n",
              "      <button class=\"colab-df-convert\" onclick=\"convertToInteractive('df-bd3ab945-4d1d-488e-af57-25216abeb318')\"\n",
              "              title=\"Convert this dataframe to an interactive table.\"\n",
              "              style=\"display:none;\">\n",
              "        \n",
              "  <svg xmlns=\"http://www.w3.org/2000/svg\" height=\"24px\"viewBox=\"0 0 24 24\"\n",
              "       width=\"24px\">\n",
              "    <path d=\"M0 0h24v24H0V0z\" fill=\"none\"/>\n",
              "    <path d=\"M18.56 5.44l.94 2.06.94-2.06 2.06-.94-2.06-.94-.94-2.06-.94 2.06-2.06.94zm-11 1L8.5 8.5l.94-2.06 2.06-.94-2.06-.94L8.5 2.5l-.94 2.06-2.06.94zm10 10l.94 2.06.94-2.06 2.06-.94-2.06-.94-.94-2.06-.94 2.06-2.06.94z\"/><path d=\"M17.41 7.96l-1.37-1.37c-.4-.4-.92-.59-1.43-.59-.52 0-1.04.2-1.43.59L10.3 9.45l-7.72 7.72c-.78.78-.78 2.05 0 2.83L4 21.41c.39.39.9.59 1.41.59.51 0 1.02-.2 1.41-.59l7.78-7.78 2.81-2.81c.8-.78.8-2.07 0-2.86zM5.41 20L4 18.59l7.72-7.72 1.47 1.35L5.41 20z\"/>\n",
              "  </svg>\n",
              "      </button>\n",
              "      \n",
              "  <style>\n",
              "    .colab-df-container {\n",
              "      display:flex;\n",
              "      flex-wrap:wrap;\n",
              "      gap: 12px;\n",
              "    }\n",
              "\n",
              "    .colab-df-convert {\n",
              "      background-color: #E8F0FE;\n",
              "      border: none;\n",
              "      border-radius: 50%;\n",
              "      cursor: pointer;\n",
              "      display: none;\n",
              "      fill: #1967D2;\n",
              "      height: 32px;\n",
              "      padding: 0 0 0 0;\n",
              "      width: 32px;\n",
              "    }\n",
              "\n",
              "    .colab-df-convert:hover {\n",
              "      background-color: #E2EBFA;\n",
              "      box-shadow: 0px 1px 2px rgba(60, 64, 67, 0.3), 0px 1px 3px 1px rgba(60, 64, 67, 0.15);\n",
              "      fill: #174EA6;\n",
              "    }\n",
              "\n",
              "    [theme=dark] .colab-df-convert {\n",
              "      background-color: #3B4455;\n",
              "      fill: #D2E3FC;\n",
              "    }\n",
              "\n",
              "    [theme=dark] .colab-df-convert:hover {\n",
              "      background-color: #434B5C;\n",
              "      box-shadow: 0px 1px 3px 1px rgba(0, 0, 0, 0.15);\n",
              "      filter: drop-shadow(0px 1px 2px rgba(0, 0, 0, 0.3));\n",
              "      fill: #FFFFFF;\n",
              "    }\n",
              "  </style>\n",
              "\n",
              "      <script>\n",
              "        const buttonEl =\n",
              "          document.querySelector('#df-bd3ab945-4d1d-488e-af57-25216abeb318 button.colab-df-convert');\n",
              "        buttonEl.style.display =\n",
              "          google.colab.kernel.accessAllowed ? 'block' : 'none';\n",
              "\n",
              "        async function convertToInteractive(key) {\n",
              "          const element = document.querySelector('#df-bd3ab945-4d1d-488e-af57-25216abeb318');\n",
              "          const dataTable =\n",
              "            await google.colab.kernel.invokeFunction('convertToInteractive',\n",
              "                                                     [key], {});\n",
              "          if (!dataTable) return;\n",
              "\n",
              "          const docLinkHtml = 'Like what you see? Visit the ' +\n",
              "            '<a target=\"_blank\" href=https://colab.research.google.com/notebooks/data_table.ipynb>data table notebook</a>'\n",
              "            + ' to learn more about interactive tables.';\n",
              "          element.innerHTML = '';\n",
              "          dataTable['output_type'] = 'display_data';\n",
              "          await google.colab.output.renderOutput(dataTable, element);\n",
              "          const docLink = document.createElement('div');\n",
              "          docLink.innerHTML = docLinkHtml;\n",
              "          element.appendChild(docLink);\n",
              "        }\n",
              "      </script>\n",
              "    </div>\n",
              "  </div>\n",
              "  "
            ]
          },
          "metadata": {},
          "execution_count": 127
        }
      ]
    },
    {
      "cell_type": "markdown",
      "source": [
        "Converting Age feature label to integer.\n"
      ],
      "metadata": {
        "id": "YLP1XHIz4MTj"
      }
    },
    {
      "cell_type": "code",
      "source": [
        "df.Age = df.Age.astype(int)"
      ],
      "metadata": {
        "id": "hTvO5O97WuMQ"
      },
      "execution_count": 128,
      "outputs": []
    },
    {
      "cell_type": "markdown",
      "source": [
        "Printing the data head just for checking my data.\n"
      ],
      "metadata": {
        "id": "ifyYqF0F4VVr"
      }
    },
    {
      "cell_type": "code",
      "source": [
        "df.head()"
      ],
      "metadata": {
        "colab": {
          "base_uri": "https://localhost:8080/",
          "height": 305
        },
        "id": "-JP_Sw6tWuJu",
        "outputId": "a5dadd2f-d3da-43ef-8d40-c0d4cea2a09e"
      },
      "execution_count": 129,
      "outputs": [
        {
          "output_type": "execute_result",
          "data": {
            "text/plain": [
              "       Gender  Age  Hypertension  Heart_Disease Ever_Married      Work_Type  \\\n",
              "34936  Female   71             1              0          Yes        Private   \n",
              "27661    Male   73             0              0          Yes        Private   \n",
              "5797   Female   39             0              0          Yes  Self-employed   \n",
              "17422  Female   45             0              0          Yes        Private   \n",
              "14974  Female   42             0              0          Yes  Self-employed   \n",
              "\n",
              "      Residence_Type  Avg_Glucose_Level   BMI   Smoking_Status  Stroke  \n",
              "34936          Urban              73.72  23.7     never smoked       0  \n",
              "27661          Rural              68.53  29.5  formerly smoked       0  \n",
              "5797           Rural              69.64  26.7  formerly smoked       0  \n",
              "17422          Rural              57.49  25.8     never smoked       0  \n",
              "14974          Urban             101.33  23.2  formerly smoked       0  "
            ],
            "text/html": [
              "\n",
              "  <div id=\"df-710f575a-ca3f-4bf8-a385-74490d1b2be5\">\n",
              "    <div class=\"colab-df-container\">\n",
              "      <div>\n",
              "<style scoped>\n",
              "    .dataframe tbody tr th:only-of-type {\n",
              "        vertical-align: middle;\n",
              "    }\n",
              "\n",
              "    .dataframe tbody tr th {\n",
              "        vertical-align: top;\n",
              "    }\n",
              "\n",
              "    .dataframe thead th {\n",
              "        text-align: right;\n",
              "    }\n",
              "</style>\n",
              "<table border=\"1\" class=\"dataframe\">\n",
              "  <thead>\n",
              "    <tr style=\"text-align: right;\">\n",
              "      <th></th>\n",
              "      <th>Gender</th>\n",
              "      <th>Age</th>\n",
              "      <th>Hypertension</th>\n",
              "      <th>Heart_Disease</th>\n",
              "      <th>Ever_Married</th>\n",
              "      <th>Work_Type</th>\n",
              "      <th>Residence_Type</th>\n",
              "      <th>Avg_Glucose_Level</th>\n",
              "      <th>BMI</th>\n",
              "      <th>Smoking_Status</th>\n",
              "      <th>Stroke</th>\n",
              "    </tr>\n",
              "  </thead>\n",
              "  <tbody>\n",
              "    <tr>\n",
              "      <th>34936</th>\n",
              "      <td>Female</td>\n",
              "      <td>71</td>\n",
              "      <td>1</td>\n",
              "      <td>0</td>\n",
              "      <td>Yes</td>\n",
              "      <td>Private</td>\n",
              "      <td>Urban</td>\n",
              "      <td>73.72</td>\n",
              "      <td>23.7</td>\n",
              "      <td>never smoked</td>\n",
              "      <td>0</td>\n",
              "    </tr>\n",
              "    <tr>\n",
              "      <th>27661</th>\n",
              "      <td>Male</td>\n",
              "      <td>73</td>\n",
              "      <td>0</td>\n",
              "      <td>0</td>\n",
              "      <td>Yes</td>\n",
              "      <td>Private</td>\n",
              "      <td>Rural</td>\n",
              "      <td>68.53</td>\n",
              "      <td>29.5</td>\n",
              "      <td>formerly smoked</td>\n",
              "      <td>0</td>\n",
              "    </tr>\n",
              "    <tr>\n",
              "      <th>5797</th>\n",
              "      <td>Female</td>\n",
              "      <td>39</td>\n",
              "      <td>0</td>\n",
              "      <td>0</td>\n",
              "      <td>Yes</td>\n",
              "      <td>Self-employed</td>\n",
              "      <td>Rural</td>\n",
              "      <td>69.64</td>\n",
              "      <td>26.7</td>\n",
              "      <td>formerly smoked</td>\n",
              "      <td>0</td>\n",
              "    </tr>\n",
              "    <tr>\n",
              "      <th>17422</th>\n",
              "      <td>Female</td>\n",
              "      <td>45</td>\n",
              "      <td>0</td>\n",
              "      <td>0</td>\n",
              "      <td>Yes</td>\n",
              "      <td>Private</td>\n",
              "      <td>Rural</td>\n",
              "      <td>57.49</td>\n",
              "      <td>25.8</td>\n",
              "      <td>never smoked</td>\n",
              "      <td>0</td>\n",
              "    </tr>\n",
              "    <tr>\n",
              "      <th>14974</th>\n",
              "      <td>Female</td>\n",
              "      <td>42</td>\n",
              "      <td>0</td>\n",
              "      <td>0</td>\n",
              "      <td>Yes</td>\n",
              "      <td>Self-employed</td>\n",
              "      <td>Urban</td>\n",
              "      <td>101.33</td>\n",
              "      <td>23.2</td>\n",
              "      <td>formerly smoked</td>\n",
              "      <td>0</td>\n",
              "    </tr>\n",
              "  </tbody>\n",
              "</table>\n",
              "</div>\n",
              "      <button class=\"colab-df-convert\" onclick=\"convertToInteractive('df-710f575a-ca3f-4bf8-a385-74490d1b2be5')\"\n",
              "              title=\"Convert this dataframe to an interactive table.\"\n",
              "              style=\"display:none;\">\n",
              "        \n",
              "  <svg xmlns=\"http://www.w3.org/2000/svg\" height=\"24px\"viewBox=\"0 0 24 24\"\n",
              "       width=\"24px\">\n",
              "    <path d=\"M0 0h24v24H0V0z\" fill=\"none\"/>\n",
              "    <path d=\"M18.56 5.44l.94 2.06.94-2.06 2.06-.94-2.06-.94-.94-2.06-.94 2.06-2.06.94zm-11 1L8.5 8.5l.94-2.06 2.06-.94-2.06-.94L8.5 2.5l-.94 2.06-2.06.94zm10 10l.94 2.06.94-2.06 2.06-.94-2.06-.94-.94-2.06-.94 2.06-2.06.94z\"/><path d=\"M17.41 7.96l-1.37-1.37c-.4-.4-.92-.59-1.43-.59-.52 0-1.04.2-1.43.59L10.3 9.45l-7.72 7.72c-.78.78-.78 2.05 0 2.83L4 21.41c.39.39.9.59 1.41.59.51 0 1.02-.2 1.41-.59l7.78-7.78 2.81-2.81c.8-.78.8-2.07 0-2.86zM5.41 20L4 18.59l7.72-7.72 1.47 1.35L5.41 20z\"/>\n",
              "  </svg>\n",
              "      </button>\n",
              "      \n",
              "  <style>\n",
              "    .colab-df-container {\n",
              "      display:flex;\n",
              "      flex-wrap:wrap;\n",
              "      gap: 12px;\n",
              "    }\n",
              "\n",
              "    .colab-df-convert {\n",
              "      background-color: #E8F0FE;\n",
              "      border: none;\n",
              "      border-radius: 50%;\n",
              "      cursor: pointer;\n",
              "      display: none;\n",
              "      fill: #1967D2;\n",
              "      height: 32px;\n",
              "      padding: 0 0 0 0;\n",
              "      width: 32px;\n",
              "    }\n",
              "\n",
              "    .colab-df-convert:hover {\n",
              "      background-color: #E2EBFA;\n",
              "      box-shadow: 0px 1px 2px rgba(60, 64, 67, 0.3), 0px 1px 3px 1px rgba(60, 64, 67, 0.15);\n",
              "      fill: #174EA6;\n",
              "    }\n",
              "\n",
              "    [theme=dark] .colab-df-convert {\n",
              "      background-color: #3B4455;\n",
              "      fill: #D2E3FC;\n",
              "    }\n",
              "\n",
              "    [theme=dark] .colab-df-convert:hover {\n",
              "      background-color: #434B5C;\n",
              "      box-shadow: 0px 1px 3px 1px rgba(0, 0, 0, 0.15);\n",
              "      filter: drop-shadow(0px 1px 2px rgba(0, 0, 0, 0.3));\n",
              "      fill: #FFFFFF;\n",
              "    }\n",
              "  </style>\n",
              "\n",
              "      <script>\n",
              "        const buttonEl =\n",
              "          document.querySelector('#df-710f575a-ca3f-4bf8-a385-74490d1b2be5 button.colab-df-convert');\n",
              "        buttonEl.style.display =\n",
              "          google.colab.kernel.accessAllowed ? 'block' : 'none';\n",
              "\n",
              "        async function convertToInteractive(key) {\n",
              "          const element = document.querySelector('#df-710f575a-ca3f-4bf8-a385-74490d1b2be5');\n",
              "          const dataTable =\n",
              "            await google.colab.kernel.invokeFunction('convertToInteractive',\n",
              "                                                     [key], {});\n",
              "          if (!dataTable) return;\n",
              "\n",
              "          const docLinkHtml = 'Like what you see? Visit the ' +\n",
              "            '<a target=\"_blank\" href=https://colab.research.google.com/notebooks/data_table.ipynb>data table notebook</a>'\n",
              "            + ' to learn more about interactive tables.';\n",
              "          element.innerHTML = '';\n",
              "          dataTable['output_type'] = 'display_data';\n",
              "          await google.colab.output.renderOutput(dataTable, element);\n",
              "          const docLink = document.createElement('div');\n",
              "          docLink.innerHTML = docLinkHtml;\n",
              "          element.appendChild(docLink);\n",
              "        }\n",
              "      </script>\n",
              "    </div>\n",
              "  </div>\n",
              "  "
            ]
          },
          "metadata": {},
          "execution_count": 129
        }
      ]
    },
    {
      "cell_type": "markdown",
      "source": [
        "In the below step, \n",
        "\n",
        "I have splitted the data in df train and df test to avoid data leakage and be fair with the testing model. To make sure that the final model works as predicted, test and training data are seperated.\n",
        "\n",
        "1. Train Data - The model will be trained with the training set and learn from the data and parameters. \n",
        "\n",
        "2. Test Data - The model will be used to test the final model and evaluate the final algorithm. "
      ],
      "metadata": {
        "id": "tQVeHRvU4cGu"
      }
    },
    {
      "cell_type": "code",
      "source": [
        "df_train, df_test = sklearn.model_selection.train_test_split(df)\n",
        "\n",
        "print(\"df_train size:\" , df_train.shape)\n",
        "print(\"df_test size:\" , df_test.shape)"
      ],
      "metadata": {
        "colab": {
          "base_uri": "https://localhost:8080/"
        },
        "id": "Vgw0IdfyWuHq",
        "outputId": "0ef69455-a485-41e2-9680-9f7f4258d65b"
      },
      "execution_count": 130,
      "outputs": [
        {
          "output_type": "stream",
          "name": "stdout",
          "text": [
            "df_train size: (7500, 11)\n",
            "df_test size: (2500, 11)\n"
          ]
        }
      ]
    },
    {
      "cell_type": "markdown",
      "source": [
        "Data preprosessing and feature engineering:\n",
        "\n",
        "1. Data exploration\n",
        "  \n",
        "  Using For loop to check if the train set has any explicit or implicit value. \n",
        "\n",
        "  In the coloumn Age: \n",
        "\n",
        "  I have found 1 implicit value which is '0'. \n",
        "\n",
        "  In the coloumn Smoking_Status:\n",
        "\n",
        "  I have found an explicit value which is a null value 'nan'.\n",
        "\n",
        "\n"
      ],
      "metadata": {
        "id": "FQuB8qCg7X5j"
      }
    },
    {
      "cell_type": "code",
      "source": [
        "for i in df_train.columns:\n",
        "  print(i)\n",
        "  print(df_train[i].unique(),\"\\n\")"
      ],
      "metadata": {
        "colab": {
          "base_uri": "https://localhost:8080/"
        },
        "id": "5hjjW7eLWuFD",
        "outputId": "eff5598f-1f91-40f1-a4ba-b2db7e331339"
      },
      "execution_count": 131,
      "outputs": [
        {
          "output_type": "stream",
          "name": "stdout",
          "text": [
            "Gender\n",
            "['Female' 'Male' 'Other'] \n",
            "\n",
            "Age\n",
            "[53 61 79 38 28 41 42  5 70  3 74 37 60 56 72 57 80 17 44 43 32  1 50 63\n",
            " 20 62  9 47 73 22 40 69 36 76 58 64 19 48 24 81 45 39 29 59 26 31 52 78\n",
            " 14 12 66 15 33  8  2 54 46 55 51 21 49 18 65 27 13 82 11 25 23 67 68  0\n",
            " 75 34 30  7 35 71  4 16 77 10  6] \n",
            "\n",
            "Hypertension\n",
            "[0 1] \n",
            "\n",
            "Heart_Disease\n",
            "[0 1] \n",
            "\n",
            "Ever_Married\n",
            "['Yes' 'No'] \n",
            "\n",
            "Work_Type\n",
            "['Private' 'Self-employed' 'Govt_job' 'children' 'Never_worked'] \n",
            "\n",
            "Residence_Type\n",
            "['Urban' 'Rural'] \n",
            "\n",
            "Avg_Glucose_Level\n",
            "[ 79.38  97.49  74.56 ... 143.33  94.69  79.7 ] \n",
            "\n",
            "BMI\n",
            "[21.5 36.2 43.2 57.3 25.9  nan 30.4 16.4 19.3 33.5 32.8 38.9 25.2 36.\n",
            " 29.3 18.6 24.1 50.6 30.9 28.8 18.9 36.6 28.9 17.2 28.1 23.1 24.  26.2\n",
            " 21.8 17.  32.9 25.6 22.7 28.2 19.6 22.4 41.  23.2 22.8 35.3 31.4 36.9\n",
            " 19.7 24.3 20.7 41.1 30.6 23.3 27.1 25.3 31.3 21.3 30.1 27.9 24.9 28.5\n",
            " 22.  23.8 29.1 29.8 30.5 39.  16.7 16.1 35.6 35.5 19.5 15.7 29.6 26.8\n",
            " 23.7 16.9 25.  18.5 19.1 17.7 31.1 39.2 37.9 38.2 20.8 46.9 24.2 21.1\n",
            " 39.1 17.8 26.1 42.4 21.2 19.  26.9 38.7 50.  17.1 32.5 20.4 20.9 44.7\n",
            " 26.4 35.2 18.7 33.3 39.5 14.1 33.8 24.7 22.1 30.8 34.3 22.5 29.4 33.1\n",
            " 34.8 27.  30.3 32.1 20.5 26.7 19.8 21.6 23.9 39.8 23.  30.7 19.9 21.4\n",
            " 43.8 31.  44.2 39.7 24.6 25.8 28.6 28.7 34.9 34.  28.  36.1 28.4 35.1\n",
            " 37.2 31.7 28.3 22.2 24.8 19.4 29.7 25.7 15.  32.  22.6 27.8 34.7 37.5\n",
            " 22.3 32.2 14.6 26.3 35.  18.1 30.  13.9 31.8 17.6 38.1 43.4 27.7 20.1\n",
            " 40.9 47.9 27.3 15.2 29.9 16.6 34.6 21.  34.4 24.5 16.3 44.9 42.7 40.2\n",
            " 36.3 20.2 46.1 27.2 31.5 23.4 48.1 16.2 33.2 20.6 38.  13.7 33.  51.8\n",
            " 25.5 17.4 18.3 37.6 40.1 27.5 53.8 42.8 31.9 34.2 40.4 26.5 32.3 40.6\n",
            " 38.5 52.1 15.5 37.  23.6 33.7 38.4 35.7 27.4 38.8 33.9 36.7 44.8 25.4\n",
            " 45.6 29.5 37.7 41.4 19.2 31.6 39.9 45.3 42.2 13.8 47.7 35.8 31.2 43.5\n",
            " 21.9 41.2 37.4 12.8 38.6 41.6 14.7 16.  30.2 35.9 18.4 37.1 44.  53.6\n",
            " 62.2 32.4 15.9 18.2 29.2 14.3 49.1 14.8 21.7 40.  15.6 27.6 23.5 39.6\n",
            " 18.8 36.5 20.  51.7 45.9 47.6 26.  17.9 26.6 35.4 15.8 29.  39.4 20.3\n",
            " 18.  52.  44.1 16.8 32.6 34.1 41.9 25.1 36.8 13.3 17.5 47.2 16.5 50.3\n",
            " 52.8 47.  15.1 37.3 32.7 22.9 55.  33.6 37.8 17.3 14.4 55.2 33.4 47.5\n",
            " 42.3 14.2 36.4 50.5 41.5 51.  45.8 24.4 46.  58.6 52.4 42.6 41.3 43.7\n",
            " 46.8 46.3 47.4 56.2 50.2 11.3 52.7 42.  43.1 45.7 46.7 43.3 45.4 39.3\n",
            " 34.5 65.5 13.1 47.1 44.5 40.7 38.3 40.5 41.8 40.8 50.8 42.1 45.5 64.8\n",
            " 44.3 42.5 54.5 48.4 47.8 15.3 42.9 49.8 49.7 50.4 45.2 55.5 40.3 53.1\n",
            " 60.7 14.  49.3 15.4 46.5 50.9 45.  43.9 44.4 48.9 45.1 58.3 61.9 46.2\n",
            " 43.  56.1 14.5 48.2 54.  41.7 63.2 49.2 49.4 53.4 50.1 48.6 49.5 55.7\n",
            " 78.  55.6 58.5 48.8 59.1 13.5 44.6 47.3 54.9 56.  14.9 48.5 64.  46.6\n",
            " 52.3 56.7 61.1 80.2 52.9 61.2 59.9 51.1 58.8 48.  57.6 46.4 55.3 60.5\n",
            " 51.5 13.6 43.6 65.3 49.6 51.9 58.2 57.5 54.8 54.1 11.1 51.3 88.6 49.9\n",
            " 51.4] \n",
            "\n",
            "Smoking_Status\n",
            "['smokes' 'formerly smoked' 'never smoked' nan] \n",
            "\n",
            "Stroke\n",
            "[0 1] \n",
            "\n"
          ]
        }
      ]
    },
    {
      "cell_type": "markdown",
      "source": [
        "Checking how many null values are present in my training set."
      ],
      "metadata": {
        "id": "6wJu4wV6A04c"
      }
    },
    {
      "cell_type": "code",
      "source": [
        "df_train.isnull().sum()"
      ],
      "metadata": {
        "colab": {
          "base_uri": "https://localhost:8080/"
        },
        "id": "MPlBSe-9WuAn",
        "outputId": "eaad5a45-c8e1-43eb-b7d7-39c454178073"
      },
      "execution_count": 132,
      "outputs": [
        {
          "output_type": "execute_result",
          "data": {
            "text/plain": [
              "Gender                  0\n",
              "Age                     0\n",
              "Hypertension            0\n",
              "Heart_Disease           0\n",
              "Ever_Married            0\n",
              "Work_Type               0\n",
              "Residence_Type          0\n",
              "Avg_Glucose_Level       0\n",
              "BMI                   241\n",
              "Smoking_Status       2301\n",
              "Stroke                  0\n",
              "dtype: int64"
            ]
          },
          "metadata": {},
          "execution_count": 132
        }
      ]
    },
    {
      "cell_type": "markdown",
      "source": [
        "Replacing all the implicit missing values to null values and dropping them.\n",
        "\n",
        "Replacing all the explicit  values to null values and dropping them.\n"
      ],
      "metadata": {
        "id": "RNfKjGynBCzU"
      }
    },
    {
      "cell_type": "code",
      "source": [
        "df_train = df_train.replace(\" \", pd.NaT)   \n",
        "df_train[\"Age\"] = df_train[\"Age\"].replace(0, pd.NaT)\n",
        "df_train = df_train.dropna()\n",
        "\n",
        "\n",
        "df_test = df_test.replace(\" \", pd.NaT)     \n",
        "df_test[\"Age\"] = df_test[\"Age\"].replace(0, pd.NaT)\n",
        "df_test = df_test.dropna()\n",
        "\n",
        "\n",
        "\n",
        "print(\"df_train size:\", df_train.shape)\n",
        "print(\"df_test size:\", df_test.shape)"
      ],
      "metadata": {
        "colab": {
          "base_uri": "https://localhost:8080/"
        },
        "id": "e5W-8x0bWt8M",
        "outputId": "70da8564-f472-41b6-f286-b388fdc8f59a"
      },
      "execution_count": 133,
      "outputs": [
        {
          "output_type": "stream",
          "name": "stdout",
          "text": [
            "df_train size: (5025, 11)\n",
            "df_test size: (1658, 11)\n"
          ]
        }
      ]
    },
    {
      "cell_type": "markdown",
      "source": [
        "Checking my data head and tail. \n"
      ],
      "metadata": {
        "id": "SsTTe7s-BhU1"
      }
    },
    {
      "cell_type": "code",
      "source": [
        "df_train.head(10)"
      ],
      "metadata": {
        "colab": {
          "base_uri": "https://localhost:8080/",
          "height": 444
        },
        "id": "Q3Yh8IvfWt6F",
        "outputId": "5d8252f6-54a9-4c7c-ec43-c7955a650581"
      },
      "execution_count": 134,
      "outputs": [
        {
          "output_type": "execute_result",
          "data": {
            "text/plain": [
              "       Gender Age  Hypertension  Heart_Disease Ever_Married      Work_Type  \\\n",
              "20021  Female  53             0              0          Yes        Private   \n",
              "26014    Male  61             0              0          Yes        Private   \n",
              "18398  Female  79             0              0          Yes  Self-employed   \n",
              "17413    Male  38             0              0          Yes       Govt_job   \n",
              "36777  Female  28             0              0          Yes       Govt_job   \n",
              "25853    Male  74             0              0          Yes        Private   \n",
              "36641  Female  37             0              0          Yes        Private   \n",
              "37553    Male  60             0              0          Yes        Private   \n",
              "37733    Male  72             1              1          Yes       Govt_job   \n",
              "21231    Male  57             0              0          Yes       Govt_job   \n",
              "\n",
              "      Residence_Type  Avg_Glucose_Level   BMI   Smoking_Status  Stroke  \n",
              "20021          Urban              79.38  21.5           smokes       0  \n",
              "26014          Rural              97.49  36.2           smokes       0  \n",
              "18398          Urban              74.56  43.2  formerly smoked       0  \n",
              "17413          Urban             101.60  57.3  formerly smoked       0  \n",
              "36777          Urban              82.25  25.9     never smoked       0  \n",
              "25853          Urban              77.67  33.5  formerly smoked       0  \n",
              "36641          Urban             100.13  32.8           smokes       0  \n",
              "37553          Urban             106.47  38.9     never smoked       0  \n",
              "37733          Urban             135.23  36.0  formerly smoked       1  \n",
              "21231          Urban              68.17  29.3           smokes       0  "
            ],
            "text/html": [
              "\n",
              "  <div id=\"df-3e6e6f5b-16f0-4800-abc1-562dcaee323e\">\n",
              "    <div class=\"colab-df-container\">\n",
              "      <div>\n",
              "<style scoped>\n",
              "    .dataframe tbody tr th:only-of-type {\n",
              "        vertical-align: middle;\n",
              "    }\n",
              "\n",
              "    .dataframe tbody tr th {\n",
              "        vertical-align: top;\n",
              "    }\n",
              "\n",
              "    .dataframe thead th {\n",
              "        text-align: right;\n",
              "    }\n",
              "</style>\n",
              "<table border=\"1\" class=\"dataframe\">\n",
              "  <thead>\n",
              "    <tr style=\"text-align: right;\">\n",
              "      <th></th>\n",
              "      <th>Gender</th>\n",
              "      <th>Age</th>\n",
              "      <th>Hypertension</th>\n",
              "      <th>Heart_Disease</th>\n",
              "      <th>Ever_Married</th>\n",
              "      <th>Work_Type</th>\n",
              "      <th>Residence_Type</th>\n",
              "      <th>Avg_Glucose_Level</th>\n",
              "      <th>BMI</th>\n",
              "      <th>Smoking_Status</th>\n",
              "      <th>Stroke</th>\n",
              "    </tr>\n",
              "  </thead>\n",
              "  <tbody>\n",
              "    <tr>\n",
              "      <th>20021</th>\n",
              "      <td>Female</td>\n",
              "      <td>53</td>\n",
              "      <td>0</td>\n",
              "      <td>0</td>\n",
              "      <td>Yes</td>\n",
              "      <td>Private</td>\n",
              "      <td>Urban</td>\n",
              "      <td>79.38</td>\n",
              "      <td>21.5</td>\n",
              "      <td>smokes</td>\n",
              "      <td>0</td>\n",
              "    </tr>\n",
              "    <tr>\n",
              "      <th>26014</th>\n",
              "      <td>Male</td>\n",
              "      <td>61</td>\n",
              "      <td>0</td>\n",
              "      <td>0</td>\n",
              "      <td>Yes</td>\n",
              "      <td>Private</td>\n",
              "      <td>Rural</td>\n",
              "      <td>97.49</td>\n",
              "      <td>36.2</td>\n",
              "      <td>smokes</td>\n",
              "      <td>0</td>\n",
              "    </tr>\n",
              "    <tr>\n",
              "      <th>18398</th>\n",
              "      <td>Female</td>\n",
              "      <td>79</td>\n",
              "      <td>0</td>\n",
              "      <td>0</td>\n",
              "      <td>Yes</td>\n",
              "      <td>Self-employed</td>\n",
              "      <td>Urban</td>\n",
              "      <td>74.56</td>\n",
              "      <td>43.2</td>\n",
              "      <td>formerly smoked</td>\n",
              "      <td>0</td>\n",
              "    </tr>\n",
              "    <tr>\n",
              "      <th>17413</th>\n",
              "      <td>Male</td>\n",
              "      <td>38</td>\n",
              "      <td>0</td>\n",
              "      <td>0</td>\n",
              "      <td>Yes</td>\n",
              "      <td>Govt_job</td>\n",
              "      <td>Urban</td>\n",
              "      <td>101.60</td>\n",
              "      <td>57.3</td>\n",
              "      <td>formerly smoked</td>\n",
              "      <td>0</td>\n",
              "    </tr>\n",
              "    <tr>\n",
              "      <th>36777</th>\n",
              "      <td>Female</td>\n",
              "      <td>28</td>\n",
              "      <td>0</td>\n",
              "      <td>0</td>\n",
              "      <td>Yes</td>\n",
              "      <td>Govt_job</td>\n",
              "      <td>Urban</td>\n",
              "      <td>82.25</td>\n",
              "      <td>25.9</td>\n",
              "      <td>never smoked</td>\n",
              "      <td>0</td>\n",
              "    </tr>\n",
              "    <tr>\n",
              "      <th>25853</th>\n",
              "      <td>Male</td>\n",
              "      <td>74</td>\n",
              "      <td>0</td>\n",
              "      <td>0</td>\n",
              "      <td>Yes</td>\n",
              "      <td>Private</td>\n",
              "      <td>Urban</td>\n",
              "      <td>77.67</td>\n",
              "      <td>33.5</td>\n",
              "      <td>formerly smoked</td>\n",
              "      <td>0</td>\n",
              "    </tr>\n",
              "    <tr>\n",
              "      <th>36641</th>\n",
              "      <td>Female</td>\n",
              "      <td>37</td>\n",
              "      <td>0</td>\n",
              "      <td>0</td>\n",
              "      <td>Yes</td>\n",
              "      <td>Private</td>\n",
              "      <td>Urban</td>\n",
              "      <td>100.13</td>\n",
              "      <td>32.8</td>\n",
              "      <td>smokes</td>\n",
              "      <td>0</td>\n",
              "    </tr>\n",
              "    <tr>\n",
              "      <th>37553</th>\n",
              "      <td>Male</td>\n",
              "      <td>60</td>\n",
              "      <td>0</td>\n",
              "      <td>0</td>\n",
              "      <td>Yes</td>\n",
              "      <td>Private</td>\n",
              "      <td>Urban</td>\n",
              "      <td>106.47</td>\n",
              "      <td>38.9</td>\n",
              "      <td>never smoked</td>\n",
              "      <td>0</td>\n",
              "    </tr>\n",
              "    <tr>\n",
              "      <th>37733</th>\n",
              "      <td>Male</td>\n",
              "      <td>72</td>\n",
              "      <td>1</td>\n",
              "      <td>1</td>\n",
              "      <td>Yes</td>\n",
              "      <td>Govt_job</td>\n",
              "      <td>Urban</td>\n",
              "      <td>135.23</td>\n",
              "      <td>36.0</td>\n",
              "      <td>formerly smoked</td>\n",
              "      <td>1</td>\n",
              "    </tr>\n",
              "    <tr>\n",
              "      <th>21231</th>\n",
              "      <td>Male</td>\n",
              "      <td>57</td>\n",
              "      <td>0</td>\n",
              "      <td>0</td>\n",
              "      <td>Yes</td>\n",
              "      <td>Govt_job</td>\n",
              "      <td>Urban</td>\n",
              "      <td>68.17</td>\n",
              "      <td>29.3</td>\n",
              "      <td>smokes</td>\n",
              "      <td>0</td>\n",
              "    </tr>\n",
              "  </tbody>\n",
              "</table>\n",
              "</div>\n",
              "      <button class=\"colab-df-convert\" onclick=\"convertToInteractive('df-3e6e6f5b-16f0-4800-abc1-562dcaee323e')\"\n",
              "              title=\"Convert this dataframe to an interactive table.\"\n",
              "              style=\"display:none;\">\n",
              "        \n",
              "  <svg xmlns=\"http://www.w3.org/2000/svg\" height=\"24px\"viewBox=\"0 0 24 24\"\n",
              "       width=\"24px\">\n",
              "    <path d=\"M0 0h24v24H0V0z\" fill=\"none\"/>\n",
              "    <path d=\"M18.56 5.44l.94 2.06.94-2.06 2.06-.94-2.06-.94-.94-2.06-.94 2.06-2.06.94zm-11 1L8.5 8.5l.94-2.06 2.06-.94-2.06-.94L8.5 2.5l-.94 2.06-2.06.94zm10 10l.94 2.06.94-2.06 2.06-.94-2.06-.94-.94-2.06-.94 2.06-2.06.94z\"/><path d=\"M17.41 7.96l-1.37-1.37c-.4-.4-.92-.59-1.43-.59-.52 0-1.04.2-1.43.59L10.3 9.45l-7.72 7.72c-.78.78-.78 2.05 0 2.83L4 21.41c.39.39.9.59 1.41.59.51 0 1.02-.2 1.41-.59l7.78-7.78 2.81-2.81c.8-.78.8-2.07 0-2.86zM5.41 20L4 18.59l7.72-7.72 1.47 1.35L5.41 20z\"/>\n",
              "  </svg>\n",
              "      </button>\n",
              "      \n",
              "  <style>\n",
              "    .colab-df-container {\n",
              "      display:flex;\n",
              "      flex-wrap:wrap;\n",
              "      gap: 12px;\n",
              "    }\n",
              "\n",
              "    .colab-df-convert {\n",
              "      background-color: #E8F0FE;\n",
              "      border: none;\n",
              "      border-radius: 50%;\n",
              "      cursor: pointer;\n",
              "      display: none;\n",
              "      fill: #1967D2;\n",
              "      height: 32px;\n",
              "      padding: 0 0 0 0;\n",
              "      width: 32px;\n",
              "    }\n",
              "\n",
              "    .colab-df-convert:hover {\n",
              "      background-color: #E2EBFA;\n",
              "      box-shadow: 0px 1px 2px rgba(60, 64, 67, 0.3), 0px 1px 3px 1px rgba(60, 64, 67, 0.15);\n",
              "      fill: #174EA6;\n",
              "    }\n",
              "\n",
              "    [theme=dark] .colab-df-convert {\n",
              "      background-color: #3B4455;\n",
              "      fill: #D2E3FC;\n",
              "    }\n",
              "\n",
              "    [theme=dark] .colab-df-convert:hover {\n",
              "      background-color: #434B5C;\n",
              "      box-shadow: 0px 1px 3px 1px rgba(0, 0, 0, 0.15);\n",
              "      filter: drop-shadow(0px 1px 2px rgba(0, 0, 0, 0.3));\n",
              "      fill: #FFFFFF;\n",
              "    }\n",
              "  </style>\n",
              "\n",
              "      <script>\n",
              "        const buttonEl =\n",
              "          document.querySelector('#df-3e6e6f5b-16f0-4800-abc1-562dcaee323e button.colab-df-convert');\n",
              "        buttonEl.style.display =\n",
              "          google.colab.kernel.accessAllowed ? 'block' : 'none';\n",
              "\n",
              "        async function convertToInteractive(key) {\n",
              "          const element = document.querySelector('#df-3e6e6f5b-16f0-4800-abc1-562dcaee323e');\n",
              "          const dataTable =\n",
              "            await google.colab.kernel.invokeFunction('convertToInteractive',\n",
              "                                                     [key], {});\n",
              "          if (!dataTable) return;\n",
              "\n",
              "          const docLinkHtml = 'Like what you see? Visit the ' +\n",
              "            '<a target=\"_blank\" href=https://colab.research.google.com/notebooks/data_table.ipynb>data table notebook</a>'\n",
              "            + ' to learn more about interactive tables.';\n",
              "          element.innerHTML = '';\n",
              "          dataTable['output_type'] = 'display_data';\n",
              "          await google.colab.output.renderOutput(dataTable, element);\n",
              "          const docLink = document.createElement('div');\n",
              "          docLink.innerHTML = docLinkHtml;\n",
              "          element.appendChild(docLink);\n",
              "        }\n",
              "      </script>\n",
              "    </div>\n",
              "  </div>\n",
              "  "
            ]
          },
          "metadata": {},
          "execution_count": 134
        }
      ]
    },
    {
      "cell_type": "markdown",
      "source": [
        "Checking my data head and tail. \n"
      ],
      "metadata": {
        "id": "vKtQuCh0BnaF"
      }
    },
    {
      "cell_type": "code",
      "source": [
        "df_train.tail(10)"
      ],
      "metadata": {
        "colab": {
          "base_uri": "https://localhost:8080/",
          "height": 461
        },
        "id": "hQ0v_GynWt3w",
        "outputId": "36e559d1-087e-471b-e9bb-ec6bf3c52971"
      },
      "execution_count": 135,
      "outputs": [
        {
          "output_type": "execute_result",
          "data": {
            "text/plain": [
              "       Gender Age  Hypertension  Heart_Disease Ever_Married      Work_Type  \\\n",
              "10585  Female  50             0              0          Yes        Private   \n",
              "5915     Male  18             0              0           No        Private   \n",
              "2914    Other  26             0              0           No        Private   \n",
              "34979  Female  47             0              0          Yes        Private   \n",
              "29556  Female  59             1              0          Yes  Self-employed   \n",
              "4228   Female  34             0              0           No        Private   \n",
              "38776  Female  47             0              0          Yes        Private   \n",
              "31121  Female  59             0              0          Yes        Private   \n",
              "39032  Female  45             0              0          Yes  Self-employed   \n",
              "38992  Female  49             0              0          Yes        Private   \n",
              "\n",
              "      Residence_Type  Avg_Glucose_Level   BMI   Smoking_Status  Stroke  \n",
              "10585          Urban              63.28  26.7  formerly smoked       0  \n",
              "5915           Rural              60.98  25.4     never smoked       0  \n",
              "2914           Rural             143.33  22.4  formerly smoked       0  \n",
              "34979          Urban              69.83  31.1  formerly smoked       0  \n",
              "29556          Rural              94.69  24.3     never smoked       0  \n",
              "4228           Urban              70.87  55.7  formerly smoked       0  \n",
              "38776          Urban              94.46  30.4     never smoked       0  \n",
              "31121          Urban             113.89  23.7     never smoked       0  \n",
              "39032          Urban             111.10  25.5     never smoked       0  \n",
              "38992          Urban              79.70  38.0     never smoked       0  "
            ],
            "text/html": [
              "\n",
              "  <div id=\"df-3d215576-a429-41a0-b6d0-58ead6b96e7c\">\n",
              "    <div class=\"colab-df-container\">\n",
              "      <div>\n",
              "<style scoped>\n",
              "    .dataframe tbody tr th:only-of-type {\n",
              "        vertical-align: middle;\n",
              "    }\n",
              "\n",
              "    .dataframe tbody tr th {\n",
              "        vertical-align: top;\n",
              "    }\n",
              "\n",
              "    .dataframe thead th {\n",
              "        text-align: right;\n",
              "    }\n",
              "</style>\n",
              "<table border=\"1\" class=\"dataframe\">\n",
              "  <thead>\n",
              "    <tr style=\"text-align: right;\">\n",
              "      <th></th>\n",
              "      <th>Gender</th>\n",
              "      <th>Age</th>\n",
              "      <th>Hypertension</th>\n",
              "      <th>Heart_Disease</th>\n",
              "      <th>Ever_Married</th>\n",
              "      <th>Work_Type</th>\n",
              "      <th>Residence_Type</th>\n",
              "      <th>Avg_Glucose_Level</th>\n",
              "      <th>BMI</th>\n",
              "      <th>Smoking_Status</th>\n",
              "      <th>Stroke</th>\n",
              "    </tr>\n",
              "  </thead>\n",
              "  <tbody>\n",
              "    <tr>\n",
              "      <th>10585</th>\n",
              "      <td>Female</td>\n",
              "      <td>50</td>\n",
              "      <td>0</td>\n",
              "      <td>0</td>\n",
              "      <td>Yes</td>\n",
              "      <td>Private</td>\n",
              "      <td>Urban</td>\n",
              "      <td>63.28</td>\n",
              "      <td>26.7</td>\n",
              "      <td>formerly smoked</td>\n",
              "      <td>0</td>\n",
              "    </tr>\n",
              "    <tr>\n",
              "      <th>5915</th>\n",
              "      <td>Male</td>\n",
              "      <td>18</td>\n",
              "      <td>0</td>\n",
              "      <td>0</td>\n",
              "      <td>No</td>\n",
              "      <td>Private</td>\n",
              "      <td>Rural</td>\n",
              "      <td>60.98</td>\n",
              "      <td>25.4</td>\n",
              "      <td>never smoked</td>\n",
              "      <td>0</td>\n",
              "    </tr>\n",
              "    <tr>\n",
              "      <th>2914</th>\n",
              "      <td>Other</td>\n",
              "      <td>26</td>\n",
              "      <td>0</td>\n",
              "      <td>0</td>\n",
              "      <td>No</td>\n",
              "      <td>Private</td>\n",
              "      <td>Rural</td>\n",
              "      <td>143.33</td>\n",
              "      <td>22.4</td>\n",
              "      <td>formerly smoked</td>\n",
              "      <td>0</td>\n",
              "    </tr>\n",
              "    <tr>\n",
              "      <th>34979</th>\n",
              "      <td>Female</td>\n",
              "      <td>47</td>\n",
              "      <td>0</td>\n",
              "      <td>0</td>\n",
              "      <td>Yes</td>\n",
              "      <td>Private</td>\n",
              "      <td>Urban</td>\n",
              "      <td>69.83</td>\n",
              "      <td>31.1</td>\n",
              "      <td>formerly smoked</td>\n",
              "      <td>0</td>\n",
              "    </tr>\n",
              "    <tr>\n",
              "      <th>29556</th>\n",
              "      <td>Female</td>\n",
              "      <td>59</td>\n",
              "      <td>1</td>\n",
              "      <td>0</td>\n",
              "      <td>Yes</td>\n",
              "      <td>Self-employed</td>\n",
              "      <td>Rural</td>\n",
              "      <td>94.69</td>\n",
              "      <td>24.3</td>\n",
              "      <td>never smoked</td>\n",
              "      <td>0</td>\n",
              "    </tr>\n",
              "    <tr>\n",
              "      <th>4228</th>\n",
              "      <td>Female</td>\n",
              "      <td>34</td>\n",
              "      <td>0</td>\n",
              "      <td>0</td>\n",
              "      <td>No</td>\n",
              "      <td>Private</td>\n",
              "      <td>Urban</td>\n",
              "      <td>70.87</td>\n",
              "      <td>55.7</td>\n",
              "      <td>formerly smoked</td>\n",
              "      <td>0</td>\n",
              "    </tr>\n",
              "    <tr>\n",
              "      <th>38776</th>\n",
              "      <td>Female</td>\n",
              "      <td>47</td>\n",
              "      <td>0</td>\n",
              "      <td>0</td>\n",
              "      <td>Yes</td>\n",
              "      <td>Private</td>\n",
              "      <td>Urban</td>\n",
              "      <td>94.46</td>\n",
              "      <td>30.4</td>\n",
              "      <td>never smoked</td>\n",
              "      <td>0</td>\n",
              "    </tr>\n",
              "    <tr>\n",
              "      <th>31121</th>\n",
              "      <td>Female</td>\n",
              "      <td>59</td>\n",
              "      <td>0</td>\n",
              "      <td>0</td>\n",
              "      <td>Yes</td>\n",
              "      <td>Private</td>\n",
              "      <td>Urban</td>\n",
              "      <td>113.89</td>\n",
              "      <td>23.7</td>\n",
              "      <td>never smoked</td>\n",
              "      <td>0</td>\n",
              "    </tr>\n",
              "    <tr>\n",
              "      <th>39032</th>\n",
              "      <td>Female</td>\n",
              "      <td>45</td>\n",
              "      <td>0</td>\n",
              "      <td>0</td>\n",
              "      <td>Yes</td>\n",
              "      <td>Self-employed</td>\n",
              "      <td>Urban</td>\n",
              "      <td>111.10</td>\n",
              "      <td>25.5</td>\n",
              "      <td>never smoked</td>\n",
              "      <td>0</td>\n",
              "    </tr>\n",
              "    <tr>\n",
              "      <th>38992</th>\n",
              "      <td>Female</td>\n",
              "      <td>49</td>\n",
              "      <td>0</td>\n",
              "      <td>0</td>\n",
              "      <td>Yes</td>\n",
              "      <td>Private</td>\n",
              "      <td>Urban</td>\n",
              "      <td>79.70</td>\n",
              "      <td>38.0</td>\n",
              "      <td>never smoked</td>\n",
              "      <td>0</td>\n",
              "    </tr>\n",
              "  </tbody>\n",
              "</table>\n",
              "</div>\n",
              "      <button class=\"colab-df-convert\" onclick=\"convertToInteractive('df-3d215576-a429-41a0-b6d0-58ead6b96e7c')\"\n",
              "              title=\"Convert this dataframe to an interactive table.\"\n",
              "              style=\"display:none;\">\n",
              "        \n",
              "  <svg xmlns=\"http://www.w3.org/2000/svg\" height=\"24px\"viewBox=\"0 0 24 24\"\n",
              "       width=\"24px\">\n",
              "    <path d=\"M0 0h24v24H0V0z\" fill=\"none\"/>\n",
              "    <path d=\"M18.56 5.44l.94 2.06.94-2.06 2.06-.94-2.06-.94-.94-2.06-.94 2.06-2.06.94zm-11 1L8.5 8.5l.94-2.06 2.06-.94-2.06-.94L8.5 2.5l-.94 2.06-2.06.94zm10 10l.94 2.06.94-2.06 2.06-.94-2.06-.94-.94-2.06-.94 2.06-2.06.94z\"/><path d=\"M17.41 7.96l-1.37-1.37c-.4-.4-.92-.59-1.43-.59-.52 0-1.04.2-1.43.59L10.3 9.45l-7.72 7.72c-.78.78-.78 2.05 0 2.83L4 21.41c.39.39.9.59 1.41.59.51 0 1.02-.2 1.41-.59l7.78-7.78 2.81-2.81c.8-.78.8-2.07 0-2.86zM5.41 20L4 18.59l7.72-7.72 1.47 1.35L5.41 20z\"/>\n",
              "  </svg>\n",
              "      </button>\n",
              "      \n",
              "  <style>\n",
              "    .colab-df-container {\n",
              "      display:flex;\n",
              "      flex-wrap:wrap;\n",
              "      gap: 12px;\n",
              "    }\n",
              "\n",
              "    .colab-df-convert {\n",
              "      background-color: #E8F0FE;\n",
              "      border: none;\n",
              "      border-radius: 50%;\n",
              "      cursor: pointer;\n",
              "      display: none;\n",
              "      fill: #1967D2;\n",
              "      height: 32px;\n",
              "      padding: 0 0 0 0;\n",
              "      width: 32px;\n",
              "    }\n",
              "\n",
              "    .colab-df-convert:hover {\n",
              "      background-color: #E2EBFA;\n",
              "      box-shadow: 0px 1px 2px rgba(60, 64, 67, 0.3), 0px 1px 3px 1px rgba(60, 64, 67, 0.15);\n",
              "      fill: #174EA6;\n",
              "    }\n",
              "\n",
              "    [theme=dark] .colab-df-convert {\n",
              "      background-color: #3B4455;\n",
              "      fill: #D2E3FC;\n",
              "    }\n",
              "\n",
              "    [theme=dark] .colab-df-convert:hover {\n",
              "      background-color: #434B5C;\n",
              "      box-shadow: 0px 1px 3px 1px rgba(0, 0, 0, 0.15);\n",
              "      filter: drop-shadow(0px 1px 2px rgba(0, 0, 0, 0.3));\n",
              "      fill: #FFFFFF;\n",
              "    }\n",
              "  </style>\n",
              "\n",
              "      <script>\n",
              "        const buttonEl =\n",
              "          document.querySelector('#df-3d215576-a429-41a0-b6d0-58ead6b96e7c button.colab-df-convert');\n",
              "        buttonEl.style.display =\n",
              "          google.colab.kernel.accessAllowed ? 'block' : 'none';\n",
              "\n",
              "        async function convertToInteractive(key) {\n",
              "          const element = document.querySelector('#df-3d215576-a429-41a0-b6d0-58ead6b96e7c');\n",
              "          const dataTable =\n",
              "            await google.colab.kernel.invokeFunction('convertToInteractive',\n",
              "                                                     [key], {});\n",
              "          if (!dataTable) return;\n",
              "\n",
              "          const docLinkHtml = 'Like what you see? Visit the ' +\n",
              "            '<a target=\"_blank\" href=https://colab.research.google.com/notebooks/data_table.ipynb>data table notebook</a>'\n",
              "            + ' to learn more about interactive tables.';\n",
              "          element.innerHTML = '';\n",
              "          dataTable['output_type'] = 'display_data';\n",
              "          await google.colab.output.renderOutput(dataTable, element);\n",
              "          const docLink = document.createElement('div');\n",
              "          docLink.innerHTML = docLinkHtml;\n",
              "          element.appendChild(docLink);\n",
              "        }\n",
              "      </script>\n",
              "    </div>\n",
              "  </div>\n",
              "  "
            ]
          },
          "metadata": {},
          "execution_count": 135
        }
      ]
    },
    {
      "cell_type": "markdown",
      "source": [
        "Re-checking if all the values are properly update after replacing them and dropping them."
      ],
      "metadata": {
        "id": "nRns49FDBrWh"
      }
    },
    {
      "cell_type": "code",
      "source": [
        "for i in df_train.columns:\n",
        "  print(i)\n",
        "  print(df_train[i].unique(),\"\\n\")"
      ],
      "metadata": {
        "colab": {
          "base_uri": "https://localhost:8080/"
        },
        "id": "cvolbboSWt1q",
        "outputId": "8ae450bb-297b-48ed-f82f-2057b198ca25"
      },
      "execution_count": 136,
      "outputs": [
        {
          "output_type": "stream",
          "name": "stdout",
          "text": [
            "Gender\n",
            "['Female' 'Male' 'Other'] \n",
            "\n",
            "Age\n",
            "[53 61 79 38 28 74 37 60 72 57 80 17 41 43 32 50 63 44 20 62 47 73 22 69\n",
            " 36 76 64 19 48 81 45 39 29 59 26 31 52 78 56 15 33 54 58 46 55 51 21 49\n",
            " 27 13 25 23 67 68 66 75 34 40 24 30 70 35 18 82 71 42 16 77 65 12 14 11\n",
            " 10] \n",
            "\n",
            "Hypertension\n",
            "[0 1] \n",
            "\n",
            "Heart_Disease\n",
            "[0 1] \n",
            "\n",
            "Ever_Married\n",
            "['Yes' 'No'] \n",
            "\n",
            "Work_Type\n",
            "['Private' 'Self-employed' 'Govt_job' 'Never_worked' 'children'] \n",
            "\n",
            "Residence_Type\n",
            "['Urban' 'Rural'] \n",
            "\n",
            "Avg_Glucose_Level\n",
            "[79.38 97.49 74.56 ... 94.69 70.87 79.7 ] \n",
            "\n",
            "BMI\n",
            "[21.5 36.2 43.2 57.3 25.9 33.5 32.8 38.9 36.  29.3 18.6 24.1 50.6 28.8\n",
            " 18.9 36.6 28.9 28.1 23.1 24.  26.2 21.8 32.9 25.6 22.7 28.2 22.4 30.4\n",
            " 23.2 22.8 31.4 24.3 41.1 30.6 27.1 25.3 31.3 21.3 30.1 27.9 24.9 28.5\n",
            " 22.  23.8 29.1 29.8 30.5 39.  35.6 35.5 19.5 26.8 23.7 25.  18.5 19.1\n",
            " 31.1 39.2 37.9 38.2 46.9 24.2 21.1 39.1 26.1 42.4 21.2 38.7 17.1 20.9\n",
            " 44.7 35.2 41.  33.3 39.5 33.8 22.1 30.8 20.8 29.4 33.1 34.8 24.7 27.\n",
            " 32.1 26.7 21.6 23.9 39.8 23.  30.7 19.9 43.8 31.  44.2 39.7 24.6 25.8\n",
            " 28.6 28.7 34.9 28.  36.1 28.4 37.2 28.3 22.2 24.8 29.7 25.7 15.  31.7\n",
            " 27.8 34.7 37.5 32.2 26.3 35.  30.9 23.3 35.1 30.  38.1 43.4 27.7 47.9\n",
            " 27.3 29.9 19.4 34.6 34.4 24.5 42.7 40.2 46.1 31.5 48.1 33.2 38.  26.9\n",
            " 33.  36.3 19.6 26.4 32.5 34.  25.5 29.6 34.3 22.6 40.1 27.2 36.9 40.9\n",
            " 21.4 35.3 53.8 27.5 20.5 31.9 31.8 34.2 40.4 26.5 32.3 40.6 38.5 52.1\n",
            " 22.5 37.  23.6 33.7 38.4 35.7 27.4 38.8 19.  36.7 44.8 25.4 45.6 29.5\n",
            " 41.4 31.6 39.9 45.3 42.2 19.8 47.7 35.8 31.2 43.5 37.4 38.6 30.2 37.1\n",
            " 44.  53.6 33.9 19.7 20.7 41.2 62.2 32.4 29.2 30.3 14.3 49.1 21.7 40.\n",
            " 27.6 23.5 39.6 36.5 20.  51.7 44.9 18.7 45.9 21.  47.6 26.  26.6 35.4\n",
            " 22.3 29.  39.4 52.  44.1 20.4 32.6 25.2 32.  41.9 36.8 20.1 25.1 47.2\n",
            " 20.2 16.5 50.3 52.8 47.  37.3 32.7 21.9 22.9 37.6 55.  33.6 37.8 55.2\n",
            " 33.4 37.7 47.5 20.3 35.9 36.4 50.5 41.6 41.5 51.  45.8 18.1 20.6 34.1\n",
            " 23.4 24.4 46.  14.1 52.4 42.6 19.3 18.8 41.3 43.7 50.  46.8 14.8 47.4\n",
            " 56.2 50.2 52.7 42.  45.7 46.7 43.3 45.4 39.3 17.5 34.5 18.4 65.5 47.1\n",
            " 16.2 40.7 38.3 19.2 41.8 50.8 42.1 45.5 64.8 17.  42.5 54.5 48.4 47.8\n",
            " 16.1 15.7 15.6 44.3 42.9 17.8 43.1 49.7 50.4 40.8 45.2 55.5 40.3 42.3\n",
            " 49.3 50.9 15.2 45.  43.9 44.4 46.3 48.9 58.3 61.9 46.2 43.  56.1 16.7\n",
            " 44.5 40.5 48.2 54.  42.8 17.6 16.9 45.1 63.2 49.8 49.2 53.4 50.1 17.9\n",
            " 48.6 49.5 18.  41.7 78.  17.2 55.6 59.1 44.6 18.3 47.3 51.8 54.9 56.\n",
            " 46.5 48.5 64.  46.6 15.4 52.3 56.7 61.1 52.9 59.9 51.1 48.  57.6 46.4\n",
            " 60.5 51.5 43.6 65.3 49.6 58.2 57.5 54.8 16.4 54.1 18.2 15.9 17.3 51.3\n",
            " 13.1 14.6 49.9 15.1 51.4 17.4 48.8 16.  55.7] \n",
            "\n",
            "Smoking_Status\n",
            "['smokes' 'formerly smoked' 'never smoked'] \n",
            "\n",
            "Stroke\n",
            "[0 1] \n",
            "\n"
          ]
        }
      ]
    },
    {
      "cell_type": "markdown",
      "source": [],
      "metadata": {
        "id": "7h6rpt4sV2k3"
      }
    },
    {
      "cell_type": "code",
      "source": [
        "x_train = df_train.drop([\"Stroke\"], axis=1)   \n",
        "y_train = df_train[\"Stroke\"]\n",
        "\n",
        "x_test = df_test.drop([\"Stroke\"], axis=1)   \n",
        "y_test = df_test[\"Stroke\"]\n",
        "\n",
        "print(\"x_train size:\", x_train.shape)\n",
        "print(\"y_train size:\", y_train.shape)\n",
        "print(\"x_test size:\", x_test.shape)\n",
        "print(\"y_test size:\", y_test.shape)"
      ],
      "metadata": {
        "colab": {
          "base_uri": "https://localhost:8080/"
        },
        "id": "JWFQBLvJXmBt",
        "outputId": "596637c2-6b55-4591-a832-f64e4bae518d"
      },
      "execution_count": 137,
      "outputs": [
        {
          "output_type": "stream",
          "name": "stdout",
          "text": [
            "x_train size: (5025, 10)\n",
            "y_train size: (5025,)\n",
            "x_test size: (1658, 10)\n",
            "y_test size: (1658,)\n"
          ]
        }
      ]
    },
    {
      "cell_type": "markdown",
      "source": [],
      "metadata": {
        "id": "w5hjOj1eV7hI"
      }
    },
    {
      "cell_type": "code",
      "source": [
        "## Encoding categorical Attributes\n",
        "\n",
        "from sklearn.preprocessing import OneHotEncoder\n",
        "\n",
        "#Building the one-hot encoder model\n",
        "encode = OneHotEncoder(handle_unknown='ignore')\n",
        "encode.fit(x_train)\n",
        "\n",
        "#Encoding the categorical attributes of training data\n",
        "x_train = encode.transform(x_train)\n",
        "\n",
        "#Encoding the categorical attributes of test data\n",
        "x_test = encode.transform(x_test)\n",
        "\n",
        "print(\"x_train :\", x_train.shape)\n"
      ],
      "metadata": {
        "colab": {
          "base_uri": "https://localhost:8080/"
        },
        "id": "1YOyt39aCLRc",
        "outputId": "79e84724-03ca-4f5f-d5f2-e7a0ad00542f"
      },
      "execution_count": 138,
      "outputs": [
        {
          "output_type": "stream",
          "name": "stdout",
          "text": [
            "x_train : (5025, 4386)\n"
          ]
        }
      ]
    },
    {
      "cell_type": "code",
      "source": [
        "# Building a standardization model\n",
        "\n",
        "scaler = sklearn.preprocessing.StandardScaler(with_mean=False)\n",
        "scaler.fit(x_train)\n",
        "\n",
        "# scaling the training features\n",
        "x_train = scaler.transform(x_train)\n",
        "\n",
        "# Reducing the number of test features\n",
        "X_test = scaler.transform(x_test)\n",
        "print(\"X train:\", x_train.shape)\n"
      ],
      "metadata": {
        "colab": {
          "base_uri": "https://localhost:8080/"
        },
        "id": "n5BrywAqX3X6",
        "outputId": "91692e16-66ee-4f47-b7eb-134793419c9d"
      },
      "execution_count": 139,
      "outputs": [
        {
          "output_type": "stream",
          "name": "stdout",
          "text": [
            "X train: (5025, 4386)\n"
          ]
        }
      ]
    },
    {
      "cell_type": "code",
      "source": [
        "## Balancing the Data\n",
        "## handling imbalanced classes \n",
        "\n",
        "sm = imblearn.over_sampling.SMOTE(random_state=42)\n",
        "\n",
        "x_train_resampled, y_train_resampled = sm.fit_resample(x_train, y_train)\n",
        "y_train.value_counts()\n",
        "\n",
        "print(\"X train resampled size:\", x_train_resampled.shape)\n",
        "print(\"Y train resampled size:\", y_train_resampled.shape)"
      ],
      "metadata": {
        "colab": {
          "base_uri": "https://localhost:8080/"
        },
        "id": "KY4iW8pmX3Vi",
        "outputId": "d036ce7e-fabc-47b1-aa01-1547e64ef2fa"
      },
      "execution_count": 140,
      "outputs": [
        {
          "output_type": "stream",
          "name": "stdout",
          "text": [
            "X train resampled size: (9852, 4386)\n",
            "Y train resampled size: (9852,)\n"
          ]
        }
      ]
    },
    {
      "cell_type": "code",
      "source": [
        "##  reducing the dimensionality \n",
        "\n",
        "#Building PCA model\n",
        "\n",
        "pca = sklearn.decomposition.PCA(n_components=150)\n",
        "pca.fit(x_train_resampled.toarray())\n",
        "\n",
        "#Reducing the number of training features\n",
        "x_train_resampled_pca = pca.transform(x_train_resampled.toarray())\n",
        "\n",
        "#Reducing the number of test features\n",
        "x_test_pca = pca.transform(x_test.toarray())\n",
        "\n",
        "print(\"X train:\", x_train_resampled_pca.shape)\n",
        "print(\"X Test:\", x_test_pca.shape)\n"
      ],
      "metadata": {
        "colab": {
          "base_uri": "https://localhost:8080/"
        },
        "id": "65LLTNChFELP",
        "outputId": "943a5cf3-59f1-4d23-b1f2-81c34a2bc7a3"
      },
      "execution_count": 141,
      "outputs": [
        {
          "output_type": "stream",
          "name": "stdout",
          "text": [
            "X train: (9852, 150)\n",
            "X Test: (1658, 150)\n"
          ]
        }
      ]
    },
    {
      "cell_type": "code",
      "source": [
        "model_tree = sklearn.tree.DecisionTreeClassifier()\n",
        "model_svm = sklearn.svm.SVC()\n",
        "model_Lr = sklearn.linear_model.LogisticRegression()"
      ],
      "metadata": {
        "id": "lb1mGMWHX3Tf"
      },
      "execution_count": 143,
      "outputs": []
    },
    {
      "cell_type": "code",
      "source": [
        "parameters_svm = {'kernel':('linear', 'rbf'), 'C':[0.1, 1 , 3,5]}\n",
        "model_svm = sklearn.svm.SVC()\n",
        "clf_svm = sklearn.model_selection.GridSearchCV(model_svm, parameters_svm, cv=5,n_jobs=-1, scoring=\"accuracy\")\n",
        "clf_svm.fit(x_train_resampled_pca,y_train_resampled)\n",
        "print(\"The Accuracy through SVM model = {}\".format(clf_svm.best_score_))\n",
        "print(\"best parameter = {}\".format(clf_svm.best_params_))\n"
      ],
      "metadata": {
        "colab": {
          "base_uri": "https://localhost:8080/"
        },
        "id": "y5oY1WhAX3RM",
        "outputId": "a78721fc-655a-4577-8bdb-25b797efe99d"
      },
      "execution_count": 144,
      "outputs": [
        {
          "output_type": "stream",
          "name": "stdout",
          "text": [
            "The Accuracy through SVM model = 0.9974623925086341\n",
            "best parameter = {'C': 1, 'kernel': 'linear'}\n"
          ]
        }
      ]
    },
    {
      "cell_type": "code",
      "source": [
        "parameters_tree = {'criterion' :('gini', 'entropy'), 'min_samples_leaf':[1,2,4],'min_samples_split':[2,4,6],'max_depth': [5,7,10]}\n",
        "model_tree = sklearn.tree.DecisionTreeClassifier()\n",
        "clf_tree = sklearn.model_selection.GridSearchCV(model_tree, parameters_tree,cv=5,n_jobs=-1,scoring=\"accuracy\")\n",
        "clf_tree.fit(x_train_resampled_pca,y_train_resampled)\n",
        "print(\"The Accuracy through decision tree model = {}\".format(clf_tree.best_score_))\n",
        "print(\"best parameter = {}\".format(clf_tree.best_params_))\n",
        "\n"
      ],
      "metadata": {
        "colab": {
          "base_uri": "https://localhost:8080/"
        },
        "id": "vkSgucI1X3Mb",
        "outputId": "38b77a38-4ad3-4ae0-c9b5-5cf7080b6751"
      },
      "execution_count": 145,
      "outputs": [
        {
          "output_type": "stream",
          "name": "stdout",
          "text": [
            "The Accuracy through decision tree model = 0.9972597073813958\n",
            "best parameter = {'criterion': 'entropy', 'max_depth': 10, 'min_samples_leaf': 1, 'min_samples_split': 2}\n"
          ]
        }
      ]
    },
    {
      "cell_type": "code",
      "source": [
        "parameters_Lr = {'C':[0.1,0.2,0.3,0.4,0.5] , 'multi_class':('auto', 'ovr'),'solver':('lbfgs', 'liblinear', 'newton-cg', 'newton-cholesky', 'sag', 'saga')}\n",
        "model_Lr = sklearn.linear_model.LogisticRegression(max_iter=5000)\n",
        "clf_Lr = sklearn.model_selection.GridSearchCV(model_Lr, parameters_Lr,cv=5,n_jobs=-1,scoring=\"accuracy\")\n",
        "clf_Lr.fit(x_train_resampled_pca,y_train_resampled)\n",
        "print(\"The Accuracy through Logistic model = {}\".format(clf_Lr.best_score_))\n",
        "print(\"best parameter = {}\".format(clf_Lr.best_params_))"
      ],
      "metadata": {
        "colab": {
          "base_uri": "https://localhost:8080/"
        },
        "id": "bcMGHF01au1u",
        "outputId": "62f2a9ce-ab1d-4e21-e0c2-91908ad6bf10"
      },
      "execution_count": 148,
      "outputs": [
        {
          "output_type": "stream",
          "name": "stdout",
          "text": [
            "The Accuracy through Logistic model = 0.9965486869248776\n",
            "best parameter = {'C': 0.5, 'multi_class': 'auto', 'solver': 'lbfgs'}\n"
          ]
        }
      ]
    },
    {
      "cell_type": "code",
      "source": [
        "y_preds = clf_Lr.predict(x_test_pca)\n",
        "accuracy = sklearn.metrics.accuracy_score(y_preds, y_test)\n",
        "print(accuracy)"
      ],
      "metadata": {
        "colab": {
          "base_uri": "https://localhost:8080/"
        },
        "id": "p2YjvxtEauwx",
        "outputId": "fd3b0f4b-be92-46ac-ea84-5aa04169278c"
      },
      "execution_count": 153,
      "outputs": [
        {
          "output_type": "stream",
          "name": "stdout",
          "text": [
            "0.9752714113389626\n"
          ]
        }
      ]
    },
    {
      "cell_type": "code",
      "source": [
        "y_predss = clf_svm.predict(x_test_pca)\n",
        "accuracys = sklearn.metrics.accuracy_score(y_predss, y_test)\n",
        "print(accuracys)"
      ],
      "metadata": {
        "colab": {
          "base_uri": "https://localhost:8080/"
        },
        "id": "WqfLBymlXPIb",
        "outputId": "abd32f96-df5f-4638-bc74-e6123c2f3b4c"
      },
      "execution_count": 154,
      "outputs": [
        {
          "output_type": "stream",
          "name": "stdout",
          "text": [
            "0.9752714113389626\n"
          ]
        }
      ]
    }
  ]
}