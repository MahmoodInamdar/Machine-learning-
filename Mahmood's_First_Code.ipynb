{
  "nbformat": 4,
  "nbformat_minor": 0,
  "metadata": {
    "colab": {
      "provenance": [],
      "authorship_tag": "ABX9TyOZxpG6DoWdZXqoLIY/V0tw",
      "include_colab_link": true
    },
    "kernelspec": {
      "name": "python3",
      "display_name": "Python 3"
    },
    "language_info": {
      "name": "python"
    }
  },
  "cells": [
    {
      "cell_type": "markdown",
      "metadata": {
        "id": "view-in-github",
        "colab_type": "text"
      },
      "source": [
        "<a href=\"https://colab.research.google.com/github/MahmoodInamdar/Python-projects-MI/blob/main/Mahmood's_First_Code.ipynb\" target=\"_parent\"><img src=\"https://colab.research.google.com/assets/colab-badge.svg\" alt=\"Open In Colab\"/></a>"
      ]
    },
    {
      "cell_type": "markdown",
      "source": [
        "*This is my first program*"
      ],
      "metadata": {
        "id": "clCmleQfbv-J"
      }
    },
    {
      "cell_type": "code",
      "execution_count": null,
      "metadata": {
        "colab": {
          "base_uri": "https://localhost:8080/"
        },
        "id": "OB_KKH7Ya8Ji",
        "outputId": "495b1eb3-0634-4456-abc5-05b5ff9f064e"
      },
      "outputs": [
        {
          "output_type": "stream",
          "name": "stdout",
          "text": [
            "hello world\n",
            "What is 2 times 3 ?\n",
            "Answer :\n",
            "6\n"
          ]
        }
      ],
      "source": [
        "print (\"hello world\")\n",
        "print (\"What is 2 times 3 ?\")\n",
        "print (\"Answer :\")\n",
        "print (2*3)"
      ]
    },
    {
      "cell_type": "code",
      "source": [
        "# this is comment\n",
        "print (\"@!#!\")"
      ],
      "metadata": {
        "colab": {
          "base_uri": "https://localhost:8080/"
        },
        "id": "XPAe5Z4GdlY9",
        "outputId": "1427a7e9-c65c-4232-ed70-955e13cd70db"
      },
      "execution_count": null,
      "outputs": [
        {
          "output_type": "stream",
          "name": "stdout",
          "text": [
            "@!#!\n"
          ]
        }
      ]
    },
    {
      "cell_type": "code",
      "source": [
        "print(\"What is up Germany ?\")"
      ],
      "metadata": {
        "colab": {
          "base_uri": "https://localhost:8080/"
        },
        "id": "2xPLFoL2cKsz",
        "outputId": "1d412f08-cfa4-4aa5-dd03-919fbe101cab"
      },
      "execution_count": null,
      "outputs": [
        {
          "output_type": "stream",
          "name": "stdout",
          "text": [
            "What is up Germany ?\n"
          ]
        }
      ]
    }
  ]
}