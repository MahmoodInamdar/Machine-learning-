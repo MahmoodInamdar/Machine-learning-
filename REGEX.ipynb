{
  "nbformat": 4,
  "nbformat_minor": 0,
  "metadata": {
    "colab": {
      "provenance": [],
      "authorship_tag": "ABX9TyOeINm0hmNkargech3ivNV9",
      "include_colab_link": true
    },
    "kernelspec": {
      "name": "python3",
      "display_name": "Python 3"
    },
    "language_info": {
      "name": "python"
    }
  },
  "cells": [
    {
      "cell_type": "markdown",
      "metadata": {
        "id": "view-in-github",
        "colab_type": "text"
      },
      "source": [
        "<a href=\"https://colab.research.google.com/github/MahmoodInamdar/Python-projects-MI/blob/main/REGEX.ipynb\" target=\"_parent\"><img src=\"https://colab.research.google.com/assets/colab-badge.svg\" alt=\"Open In Colab\"/></a>"
      ]
    },
    {
      "cell_type": "code",
      "execution_count": 3,
      "metadata": {
        "id": "Hx9cZCUj-ygI"
      },
      "outputs": [],
      "source": [
        "import re"
      ]
    },
    {
      "cell_type": "code",
      "source": [
        "chat1 = 'teri maki chut mera contact number hai 2356722222 aur name emaAil_1@xxx.com teri maki chut mera contact number hai 23567222222 aur name Mahmood and Order 62367267'\n",
        "chat2 = 'Mera email id hai mahmoodinamdar@yahoo.com and number (235)-672-2222 & Mera email id hai mahmoodinamdar@yahoo.com and number (235)-672-2222, Order number 62367267'\n",
        "chat3 = 'Order id 62367267 and emaail_1@xxx.com & Order id 62367267 and Order #62367267 & order id 62367267'\n",
        "\n",
        "chat = chat1+chat2+chat3"
      ],
      "metadata": {
        "id": "_jLi8oE7B8zw"
      },
      "execution_count": 30,
      "outputs": []
    },
    {
      "cell_type": "code",
      "source": [
        "pattern = '\\d{10}'\n",
        "matches = re.findall( pattern, chat1)\n",
        "matches\n"
      ],
      "metadata": {
        "colab": {
          "base_uri": "https://localhost:8080/"
        },
        "id": "xupwaa7AB8v_",
        "outputId": "af19df68-295b-4e62-92d2-797cfc232555"
      },
      "execution_count": 20,
      "outputs": [
        {
          "output_type": "execute_result",
          "data": {
            "text/plain": [
              "['2356722222']"
            ]
          },
          "metadata": {},
          "execution_count": 20
        }
      ]
    },
    {
      "cell_type": "code",
      "source": [
        "pattern2 = '\\d{10}|\\(\\d{3}\\)-\\d{3}-\\d{4}'\n",
        "matches2 = re.findall( pattern2 , chat)\n",
        "matches2"
      ],
      "metadata": {
        "colab": {
          "base_uri": "https://localhost:8080/"
        },
        "id": "fN50ZFxcB8s3",
        "outputId": "a998790c-f6e5-473c-efa6-5608d93d7b9a"
      },
      "execution_count": 21,
      "outputs": [
        {
          "output_type": "execute_result",
          "data": {
            "text/plain": [
              "['2356722222', '(235)-672-2222']"
            ]
          },
          "metadata": {},
          "execution_count": 21
        }
      ]
    },
    {
      "cell_type": "code",
      "source": [
        "pattern3 = '[a-z0-9A-Z\\w]*@[a-z0-9A-Z]*\\.[a-z]*'\n",
        "matches3 = re.findall( pattern3 , chat)\n",
        "matches3"
      ],
      "metadata": {
        "colab": {
          "base_uri": "https://localhost:8080/"
        },
        "id": "d0nwyd6DFBkx",
        "outputId": "865a89a5-284e-4e5c-ba92-0992eac62efa"
      },
      "execution_count": 27,
      "outputs": [
        {
          "output_type": "execute_result",
          "data": {
            "text/plain": [
              "['emaAil_1@xxx.com', 'mahmoodinamdar@yahoo.com', 'emaail_1@xxx.com']"
            ]
          },
          "metadata": {},
          "execution_count": 27
        }
      ]
    },
    {
      "cell_type": "code",
      "source": [
        "pattern4 = '[o|O]rder[^\\d]*\\d{8}'\n",
        "matches4 = re.findall( pattern4 , chat)\n",
        "matches4"
      ],
      "metadata": {
        "colab": {
          "base_uri": "https://localhost:8080/"
        },
        "id": "7r83gb60K0Ej",
        "outputId": "37258ea2-8a41-4550-b893-2ab31dac0cef"
      },
      "execution_count": 32,
      "outputs": [
        {
          "output_type": "execute_result",
          "data": {
            "text/plain": [
              "['Order 62367267',\n",
              " 'Order number 62367267',\n",
              " 'Order id 62367267',\n",
              " 'Order id 62367267',\n",
              " 'Order #62367267',\n",
              " 'order id 62367267']"
            ]
          },
          "metadata": {},
          "execution_count": 32
        }
      ]
    },
    {
      "cell_type": "code",
      "source": [
        "pattern5 = '\\d{10}|\\(\\d{3}\\)-\\d{3}-\\d{4}'\n",
        "matches5 = re.findall(pattern5, chat)\n",
        "matches5"
      ],
      "metadata": {
        "colab": {
          "base_uri": "https://localhost:8080/"
        },
        "id": "wqgqMKmIQq7w",
        "outputId": "cc0aeb3d-213a-4b08-d36e-5722c37567bd"
      },
      "execution_count": 33,
      "outputs": [
        {
          "output_type": "execute_result",
          "data": {
            "text/plain": [
              "['2356722222', '2356722222', '(235)-672-2222', '(235)-672-2222']"
            ]
          },
          "metadata": {},
          "execution_count": 33
        }
      ]
    },
    {
      "cell_type": "code",
      "source": [
        "pattern0 = '[a-z0-9A-Z\\w]*@[a-z0-9A-Z]*\\.[a-zA-Z]*'\n",
        "matches0 = re.findall(pattern0, chat)\n",
        "matches0"
      ],
      "metadata": {
        "colab": {
          "base_uri": "https://localhost:8080/"
        },
        "id": "FDXFcVPBSD9U",
        "outputId": "129bfef1-6654-4f85-dd7f-56f848058b2e"
      },
      "execution_count": 37,
      "outputs": [
        {
          "output_type": "execute_result",
          "data": {
            "text/plain": [
              "['emaAil_1@xxx.com',\n",
              " 'mahmoodinamdar@yahoo.com',\n",
              " 'mahmoodinamdar@yahoo.com',\n",
              " 'emaail_1@xxx.com']"
            ]
          },
          "metadata": {},
          "execution_count": 37
        }
      ]
    }
  ]
}