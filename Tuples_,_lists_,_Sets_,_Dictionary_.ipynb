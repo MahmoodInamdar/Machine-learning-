{
  "nbformat": 4,
  "nbformat_minor": 0,
  "metadata": {
    "colab": {
      "provenance": [],
      "authorship_tag": "ABX9TyNxHHcC+mvUYVnC+7kZzDmG",
      "include_colab_link": true
    },
    "kernelspec": {
      "name": "python3",
      "display_name": "Python 3"
    },
    "language_info": {
      "name": "python"
    }
  },
  "cells": [
    {
      "cell_type": "markdown",
      "metadata": {
        "id": "view-in-github",
        "colab_type": "text"
      },
      "source": [
        "<a href=\"https://colab.research.google.com/github/MahmoodInamdar/Python-projects-MI/blob/main/Tuples_%2C_lists_%2C_Sets_%2C_Dictionary_.ipynb\" target=\"_parent\"><img src=\"https://colab.research.google.com/assets/colab-badge.svg\" alt=\"Open In Colab\"/></a>"
      ]
    },
    {
      "cell_type": "code",
      "execution_count": 1,
      "metadata": {
        "colab": {
          "base_uri": "https://localhost:8080/",
          "height": 35
        },
        "id": "UWoWvcGTPTWk",
        "outputId": "bb7212c0-e622-4562-a688-52658a467b36"
      },
      "outputs": [
        {
          "output_type": "execute_result",
          "data": {
            "text/plain": [
              "'mahmood'"
            ],
            "application/vnd.google.colaboratory.intrinsic+json": {
              "type": "string"
            }
          },
          "metadata": {},
          "execution_count": 1
        }
      ],
      "source": [
        "\"Mahmood\".lower()"
      ]
    },
    {
      "cell_type": "code",
      "source": [
        "\"mahmood\".upper()\n"
      ],
      "metadata": {
        "colab": {
          "base_uri": "https://localhost:8080/",
          "height": 35
        },
        "id": "yhdu16DzRZGZ",
        "outputId": "d234a092-26d5-42bb-b326-a968aac2765a"
      },
      "execution_count": 2,
      "outputs": [
        {
          "output_type": "execute_result",
          "data": {
            "text/plain": [
              "'MAHMOOD'"
            ],
            "application/vnd.google.colaboratory.intrinsic+json": {
              "type": "string"
            }
          },
          "metadata": {},
          "execution_count": 2
        }
      ]
    },
    {
      "cell_type": "code",
      "source": [
        "s = \"Today the weather is raining\"\n",
        "s.split(\"a\")\n"
      ],
      "metadata": {
        "colab": {
          "base_uri": "https://localhost:8080/"
        },
        "id": "qNgqr9JRPuLj",
        "outputId": "3c34e8b7-9259-4df6-fb4d-974cd800b895"
      },
      "execution_count": 3,
      "outputs": [
        {
          "output_type": "execute_result",
          "data": {
            "text/plain": [
              "['Tod', 'y the we', 'ther is r', 'ining']"
            ]
          },
          "metadata": {},
          "execution_count": 3
        }
      ]
    },
    {
      "cell_type": "code",
      "source": [
        "s.count(\"i\")"
      ],
      "metadata": {
        "colab": {
          "base_uri": "https://localhost:8080/"
        },
        "id": "IdKx9NhbQVcE",
        "outputId": "3fadbab5-42ff-4afa-a69b-70a5f9bff547"
      },
      "execution_count": 4,
      "outputs": [
        {
          "output_type": "execute_result",
          "data": {
            "text/plain": [
              "3"
            ]
          },
          "metadata": {},
          "execution_count": 4
        }
      ]
    },
    {
      "cell_type": "code",
      "source": [
        "s.find(\"the\")"
      ],
      "metadata": {
        "colab": {
          "base_uri": "https://localhost:8080/"
        },
        "id": "gW5tRO_DQBuJ",
        "outputId": "fe7c88d7-3ef3-4f76-f121-19658dd6ac75"
      },
      "execution_count": 5,
      "outputs": [
        {
          "output_type": "execute_result",
          "data": {
            "text/plain": [
              "6"
            ]
          },
          "metadata": {},
          "execution_count": 5
        }
      ]
    },
    {
      "cell_type": "code",
      "source": [
        "s.replace(\"i\",\"t\")"
      ],
      "metadata": {
        "colab": {
          "base_uri": "https://localhost:8080/",
          "height": 35
        },
        "id": "ii9jZmW6QvBm",
        "outputId": "5659964a-9662-4c4e-be77-b7f83f5a88d1"
      },
      "execution_count": 6,
      "outputs": [
        {
          "output_type": "execute_result",
          "data": {
            "text/plain": [
              "'Today the weather ts ratntng'"
            ],
            "application/vnd.google.colaboratory.intrinsic+json": {
              "type": "string"
            }
          },
          "metadata": {},
          "execution_count": 6
        }
      ]
    },
    {
      "cell_type": "code",
      "source": [
        "s[0] , s[6]"
      ],
      "metadata": {
        "colab": {
          "base_uri": "https://localhost:8080/"
        },
        "id": "XyJnyIqeUTNe",
        "outputId": "5cb91b82-c97c-46d3-82f8-6c01213273e2"
      },
      "execution_count": 7,
      "outputs": [
        {
          "output_type": "execute_result",
          "data": {
            "text/plain": [
              "('T', 't')"
            ]
          },
          "metadata": {},
          "execution_count": 7
        }
      ]
    },
    {
      "cell_type": "code",
      "source": [],
      "metadata": {
        "id": "4hVL0LNAUZrp"
      },
      "execution_count": 7,
      "outputs": []
    },
    {
      "cell_type": "code",
      "source": [
        "name = \"Mahmood\"\n",
        "print(f\"My name is {name}\")"
      ],
      "metadata": {
        "colab": {
          "base_uri": "https://localhost:8080/"
        },
        "id": "UqA2GNC0ScLS",
        "outputId": "926fc5d0-ae16-4031-b2d6-e310b118c166"
      },
      "execution_count": 8,
      "outputs": [
        {
          "output_type": "stream",
          "name": "stdout",
          "text": [
            "My name is Mahmood\n"
          ]
        }
      ]
    },
    {
      "cell_type": "code",
      "source": [
        "s.split(\" \")[0] = \"Hi\""
      ],
      "metadata": {
        "id": "jz1XPlvJShib"
      },
      "execution_count": 9,
      "outputs": []
    },
    {
      "cell_type": "code",
      "source": [
        "name = False\n",
        "print (name is not None)"
      ],
      "metadata": {
        "colab": {
          "base_uri": "https://localhost:8080/"
        },
        "id": "AO7HCSZkU52b",
        "outputId": "b0a544a8-d361-4ef2-ecef-9c51d82df3af"
      },
      "execution_count": 10,
      "outputs": [
        {
          "output_type": "stream",
          "name": "stdout",
          "text": [
            "True\n"
          ]
        }
      ]
    },
    {
      "cell_type": "code",
      "source": [
        "name = False\n",
        "print (name is  None)"
      ],
      "metadata": {
        "colab": {
          "base_uri": "https://localhost:8080/"
        },
        "id": "JoQA9Fc9Vx_F",
        "outputId": "b805e156-e592-4cbf-d0a8-f2d87c5685b1"
      },
      "execution_count": 11,
      "outputs": [
        {
          "output_type": "stream",
          "name": "stdout",
          "text": [
            "False\n"
          ]
        }
      ]
    },
    {
      "cell_type": "markdown",
      "source": [
        "## collection type IMP\n",
        " Tuples , \n",
        " lists** , \n",
        " Sets , \n",
        " Dictionary**."
      ],
      "metadata": {
        "id": "MKLZdMn2WEte"
      }
    },
    {
      "cell_type": "markdown",
      "source": [
        "**##Tuples**\n",
        "\n",
        "\n"
      ],
      "metadata": {
        "id": "ZoDIQTrYW8Xe"
      }
    },
    {
      "cell_type": "code",
      "source": [
        "best3 = (\"mahmood\", \"Ahmed\",\"Mitesh\")\n",
        "print(best3)"
      ],
      "metadata": {
        "colab": {
          "base_uri": "https://localhost:8080/"
        },
        "id": "nBy5AgdTWKx8",
        "outputId": "803dec40-3258-4569-cefc-b114e55cd8ec"
      },
      "execution_count": 12,
      "outputs": [
        {
          "output_type": "stream",
          "name": "stdout",
          "text": [
            "('mahmood', 'Ahmed', 'Mitesh')\n"
          ]
        }
      ]
    },
    {
      "cell_type": "code",
      "source": [
        "best4 = (\"mahmood\", \"Ahmed\",\"Mitesh\",(\"1\",\"3\",\"5\"))\n",
        "print (best4)"
      ],
      "metadata": {
        "colab": {
          "base_uri": "https://localhost:8080/"
        },
        "id": "dWRR8C8_XgRl",
        "outputId": "b161281e-fe15-4335-a93b-c6da6bfef661"
      },
      "execution_count": 13,
      "outputs": [
        {
          "output_type": "stream",
          "name": "stdout",
          "text": [
            "('mahmood', 'Ahmed', 'Mitesh', ('1', '3', '5'))\n"
          ]
        }
      ]
    },
    {
      "cell_type": "markdown",
      "source": [
        " ## 2 is the index ( index 0 is mahmood)"
      ],
      "metadata": {
        "id": "yYQMnyjYarNt"
      }
    },
    {
      "cell_type": "code",
      "source": [
        "best3[2]               "
      ],
      "metadata": {
        "colab": {
          "base_uri": "https://localhost:8080/",
          "height": 35
        },
        "id": "1NZgQ4GmXw83",
        "outputId": "0ac27505-e2d3-4561-aae9-9f2417acc492"
      },
      "execution_count": 14,
      "outputs": [
        {
          "output_type": "execute_result",
          "data": {
            "text/plain": [
              "'Mitesh'"
            ],
            "application/vnd.google.colaboratory.intrinsic+json": {
              "type": "string"
            }
          },
          "metadata": {},
          "execution_count": 14
        }
      ]
    },
    {
      "cell_type": "markdown",
      "source": [
        "## will change index 1 to alice\n",
        " ## will replace it to 2 index"
      ],
      "metadata": {
        "id": "jLn7vLBbalNd"
      }
    },
    {
      "cell_type": "code",
      "source": [
        "best_students = [\"mahmood\", \"Ahmed\",\"Mitesh\"]\n",
        "best_students[1] = \"Alice\"     \n",
        "best3 = tuple(best_students[:3]) \n",
        "print(best3)"
      ],
      "metadata": {
        "colab": {
          "base_uri": "https://localhost:8080/"
        },
        "id": "MMxKURFbYGXH",
        "outputId": "2fe3643c-a23a-479d-85bb-f2eedfaedce0"
      },
      "execution_count": 15,
      "outputs": [
        {
          "output_type": "stream",
          "name": "stdout",
          "text": [
            "('mahmood', 'Alice', 'Mitesh')\n"
          ]
        }
      ]
    },
    {
      "cell_type": "code",
      "source": [
        "print(len(best3))"
      ],
      "metadata": {
        "colab": {
          "base_uri": "https://localhost:8080/"
        },
        "id": "6YiNplAdYGPe",
        "outputId": "da9ac5a2-7192-4973-a543-10376f3c7b2f"
      },
      "execution_count": 16,
      "outputs": [
        {
          "output_type": "stream",
          "name": "stdout",
          "text": [
            "3\n"
          ]
        }
      ]
    },
    {
      "cell_type": "markdown",
      "source": [
        " ## will find the index of mitesh"
      ],
      "metadata": {
        "id": "x-V6u9j6ag1G"
      }
    },
    {
      "cell_type": "code",
      "source": [
        "best3.index(\"Mitesh\")"
      ],
      "metadata": {
        "colab": {
          "base_uri": "https://localhost:8080/"
        },
        "id": "nBGRmDWSZSGk",
        "outputId": "b5fad5cd-71ce-4feb-f03b-e81d29da2c77"
      },
      "execution_count": 17,
      "outputs": [
        {
          "output_type": "execute_result",
          "data": {
            "text/plain": [
              "2"
            ]
          },
          "metadata": {},
          "execution_count": 17
        }
      ]
    },
    {
      "cell_type": "markdown",
      "source": [
        "## tuple to list"
      ],
      "metadata": {
        "id": "3TWZnYg-abGx"
      }
    },
    {
      "cell_type": "code",
      "source": [
        "best3_list = list(best3) "
      ],
      "metadata": {
        "id": "o6Af4t8KZXTF"
      },
      "execution_count": 18,
      "outputs": []
    },
    {
      "cell_type": "code",
      "source": [
        "best_students = [\"mahmood\", \"Ahmed\",\"Mitesh\"]\n",
        "best_students.append(\"Alice\")"
      ],
      "metadata": {
        "id": "XLPMr4ADaBUf"
      },
      "execution_count": 24,
      "outputs": []
    },
    {
      "cell_type": "code",
      "source": [
        "other_students = [\"om\" , \"sai\"]"
      ],
      "metadata": {
        "id": "1FdZFL6xbFB-"
      },
      "execution_count": 25,
      "outputs": []
    },
    {
      "cell_type": "code",
      "source": [
        "best_students.extend(other_students)\n",
        "print(best_students)"
      ],
      "metadata": {
        "colab": {
          "base_uri": "https://localhost:8080/"
        },
        "id": "sjkka0EdbTiw",
        "outputId": "732795f1-b3fa-4698-c3d8-71a380eecd26"
      },
      "execution_count": 28,
      "outputs": [
        {
          "output_type": "stream",
          "name": "stdout",
          "text": [
            "['mahmood', 'Ahmed', 'Mitesh', 'Alice', 'om', 'om', 'sai']\n"
          ]
        }
      ]
    },
    {
      "cell_type": "code",
      "source": [
        "best_students.pop(-1)"
      ],
      "metadata": {
        "colab": {
          "base_uri": "https://localhost:8080/",
          "height": 35
        },
        "id": "JYYW5mCHbaVC",
        "outputId": "75ca846b-d792-469a-aac6-62f6de7f3dda"
      },
      "execution_count": 27,
      "outputs": [
        {
          "output_type": "execute_result",
          "data": {
            "text/plain": [
              "'sai'"
            ],
            "application/vnd.google.colaboratory.intrinsic+json": {
              "type": "string"
            }
          },
          "metadata": {},
          "execution_count": 27
        }
      ]
    },
    {
      "cell_type": "code",
      "source": [
        "best_students.remove(\"sai\")\n"
      ],
      "metadata": {
        "id": "Elp06Ptwbrgh"
      },
      "execution_count": 35,
      "outputs": []
    },
    {
      "cell_type": "code",
      "source": [
        "print(best_students)"
      ],
      "metadata": {
        "colab": {
          "base_uri": "https://localhost:8080/"
        },
        "id": "_0mdDzHrcBn2",
        "outputId": "c3073e38-4b45-4785-c29a-1a7eb97322ba"
      },
      "execution_count": 36,
      "outputs": [
        {
          "output_type": "stream",
          "name": "stdout",
          "text": [
            "['mahmood', 'Ahmed', 'Mitesh', 'om']\n"
          ]
        }
      ]
    },
    {
      "cell_type": "code",
      "source": [
        "best_students.sort()\n",
        "print(best_students)"
      ],
      "metadata": {
        "colab": {
          "base_uri": "https://localhost:8080/"
        },
        "id": "hvbcRlRLcIrj",
        "outputId": "8c9a0e56-3887-4996-fcf7-39f50877457a"
      },
      "execution_count": 38,
      "outputs": [
        {
          "output_type": "stream",
          "name": "stdout",
          "text": [
            "['Ahmed', 'Mitesh', 'mahmood', 'om']\n"
          ]
        }
      ]
    },
    {
      "cell_type": "code",
      "source": [
        "testList = [\"abc\",\"bbb\",\"AAA\",\"aaa\"]\n",
        "testList.sort()\n",
        "print (testList)"
      ],
      "metadata": {
        "colab": {
          "base_uri": "https://localhost:8080/"
        },
        "id": "MnIf8YbEcSu6",
        "outputId": "5e931554-69b6-46c1-e01e-46bf62afabc0"
      },
      "execution_count": 41,
      "outputs": [
        {
          "output_type": "stream",
          "name": "stdout",
          "text": [
            "['AAA', 'aaa', 'abc', 'bbb']\n"
          ]
        }
      ]
    },
    {
      "cell_type": "code",
      "source": [
        "testList.reverse()\n",
        "print(testList.reverse())"
      ],
      "metadata": {
        "colab": {
          "base_uri": "https://localhost:8080/"
        },
        "id": "NAXPziKRdBuh",
        "outputId": "921db3bd-5ca9-4502-b956-5eb78e47d6c2"
      },
      "execution_count": 43,
      "outputs": [
        {
          "output_type": "stream",
          "name": "stdout",
          "text": [
            "None\n"
          ]
        }
      ]
    },
    {
      "cell_type": "markdown",
      "source": [
        "## Sets\n"
      ],
      "metadata": {
        "id": "1vM3HJ1CjOMi"
      }
    },
    {
      "cell_type": "code",
      "source": [
        "s1 = {1,2,3,5,6,7,4}"
      ],
      "metadata": {
        "id": "ENlAS0zNjQRK"
      },
      "execution_count": 79,
      "outputs": []
    },
    {
      "cell_type": "code",
      "source": [
        "print(8 not in s1)"
      ],
      "metadata": {
        "colab": {
          "base_uri": "https://localhost:8080/"
        },
        "id": "y3k3RPSljuzP",
        "outputId": "9710d28a-5451-43e5-a82c-af83e2b99f24"
      },
      "execution_count": 80,
      "outputs": [
        {
          "output_type": "stream",
          "name": "stdout",
          "text": [
            "True\n"
          ]
        }
      ]
    },
    {
      "cell_type": "code",
      "source": [
        "s1.update([8,10])"
      ],
      "metadata": {
        "id": "yPNJ1g2Wjurh"
      },
      "execution_count": 81,
      "outputs": []
    },
    {
      "cell_type": "code",
      "source": [
        "print(s1)"
      ],
      "metadata": {
        "colab": {
          "base_uri": "https://localhost:8080/"
        },
        "id": "xXIho8CEj_he",
        "outputId": "0da8000d-f36d-46e3-c95c-0cadceadf860"
      },
      "execution_count": 82,
      "outputs": [
        {
          "output_type": "stream",
          "name": "stdout",
          "text": [
            "{1, 2, 3, 4, 5, 6, 7, 8, 10}\n"
          ]
        }
      ]
    },
    {
      "cell_type": "code",
      "source": [
        "s1.remove(8)"
      ],
      "metadata": {
        "id": "LkCJ6j18kKIv"
      },
      "execution_count": 83,
      "outputs": []
    },
    {
      "cell_type": "code",
      "source": [
        "print(s1)"
      ],
      "metadata": {
        "colab": {
          "base_uri": "https://localhost:8080/"
        },
        "id": "qb6HyBh1kdck",
        "outputId": "4844b07e-013d-45bc-fa07-7869468dc3a7"
      },
      "execution_count": 84,
      "outputs": [
        {
          "output_type": "stream",
          "name": "stdout",
          "text": [
            "{1, 2, 3, 4, 5, 6, 7, 10}\n"
          ]
        }
      ]
    },
    {
      "cell_type": "code",
      "source": [
        "s2={11,12,13}\n"
      ],
      "metadata": {
        "id": "v9Y9BsT-kfYS"
      },
      "execution_count": 85,
      "outputs": []
    },
    {
      "cell_type": "code",
      "source": [
        "print(s1.union(s2))\n",
        "print(s2.union(s1))"
      ],
      "metadata": {
        "colab": {
          "base_uri": "https://localhost:8080/"
        },
        "id": "oy5tEDrqkvLG",
        "outputId": "8e524866-1bb5-4216-cad3-12954e6bfb97"
      },
      "execution_count": 86,
      "outputs": [
        {
          "output_type": "stream",
          "name": "stdout",
          "text": [
            "{1, 2, 3, 4, 5, 6, 7, 10, 11, 12, 13}\n",
            "{1, 2, 3, 4, 5, 6, 7, 10, 11, 12, 13}\n"
          ]
        }
      ]
    },
    {
      "cell_type": "code",
      "source": [
        "print(s1 | s2)"
      ],
      "metadata": {
        "colab": {
          "base_uri": "https://localhost:8080/"
        },
        "id": "dDC_XCPFlF_5",
        "outputId": "848593dc-4b05-49da-d04a-c33e1aaae491"
      },
      "execution_count": 87,
      "outputs": [
        {
          "output_type": "stream",
          "name": "stdout",
          "text": [
            "{1, 2, 3, 4, 5, 6, 7, 10, 11, 12, 13}\n"
          ]
        }
      ]
    },
    {
      "cell_type": "code",
      "source": [
        "s1 = {1,2,3,5,6,7,4}\n",
        "s2 = {1,11,12,13}\n",
        "\n",
        "print(s1.intersection(s2))\n",
        "print(s1 & s2)"
      ],
      "metadata": {
        "colab": {
          "base_uri": "https://localhost:8080/"
        },
        "id": "dYcxPDfvlMzA",
        "outputId": "995ed14f-3ad9-4a9f-80e7-22a7af2d3a58"
      },
      "execution_count": 97,
      "outputs": [
        {
          "output_type": "stream",
          "name": "stdout",
          "text": [
            "{1}\n",
            "{1}\n"
          ]
        }
      ]
    },
    {
      "cell_type": "code",
      "source": [
        "print(s1.difference(s2))\n",
        "print(s1 - s2)"
      ],
      "metadata": {
        "colab": {
          "base_uri": "https://localhost:8080/"
        },
        "id": "qfXPyuitl2gT",
        "outputId": "e2669d10-559b-475a-e8b2-86f1dbe33daf"
      },
      "execution_count": 96,
      "outputs": [
        {
          "output_type": "stream",
          "name": "stdout",
          "text": [
            "{2, 3, 4, 5, 6, 7}\n",
            "{2, 3, 4, 5, 6, 7}\n"
          ]
        }
      ]
    },
    {
      "cell_type": "code",
      "source": [
        "print(s1.symmetric_difference(s2))\n",
        "print(s2.symmetric_difference(s1))\n",
        "print(s1^s2)\n",
        "print(s2^s1)\n"
      ],
      "metadata": {
        "colab": {
          "base_uri": "https://localhost:8080/"
        },
        "id": "045_FsVgmHQs",
        "outputId": "3bdcca23-eee5-4986-9bfd-488a160cbebb"
      },
      "execution_count": 101,
      "outputs": [
        {
          "output_type": "stream",
          "name": "stdout",
          "text": [
            "{2, 3, 4, 5, 6, 7, 11, 12, 13}\n",
            "{2, 3, 4, 5, 6, 7, 11, 12, 13}\n",
            "{2, 3, 4, 5, 6, 7, 11, 12, 13}\n",
            "{2, 3, 4, 5, 6, 7, 11, 12, 13}\n"
          ]
        }
      ]
    },
    {
      "cell_type": "code",
      "source": [
        "print((s1-s2)|(s2-s1))\n",
        "print((s1-s2) & (s2-s1))"
      ],
      "metadata": {
        "colab": {
          "base_uri": "https://localhost:8080/"
        },
        "id": "p25e8suamd-j",
        "outputId": "9a59030b-0401-40ae-d3da-65dd10c618ae"
      },
      "execution_count": 104,
      "outputs": [
        {
          "output_type": "stream",
          "name": "stdout",
          "text": [
            "{2, 3, 4, 5, 6, 7, 11, 12, 13}\n",
            "set()\n"
          ]
        }
      ]
    },
    {
      "cell_type": "markdown",
      "source": [
        "## dictionary"
      ],
      "metadata": {
        "id": "Y--UB6N2mvKO"
      }
    },
    {
      "cell_type": "code",
      "source": [
        "capital = {\"germany\": \"berlin\",\"India\" : \"Delhi\"}\n",
        "print(capital[\"germany\"])\n",
        "capital[\"India\"] = \"New delhi\"\n",
        "print(capital[\"India\"])\n"
      ],
      "metadata": {
        "colab": {
          "base_uri": "https://localhost:8080/"
        },
        "id": "zipxnPuRmu1z",
        "outputId": "c99aa979-0d9c-49b6-f742-66823ad7329b"
      },
      "execution_count": 121,
      "outputs": [
        {
          "output_type": "stream",
          "name": "stdout",
          "text": [
            "berlin\n",
            "New delhi\n"
          ]
        }
      ]
    },
    {
      "cell_type": "code",
      "source": [
        "capital[\"Italy\"] = \"Rome\""
      ],
      "metadata": {
        "id": "VdR76KKMnzws"
      },
      "execution_count": 122,
      "outputs": []
    },
    {
      "cell_type": "code",
      "source": [
        "print(capital[\"Italy\"])"
      ],
      "metadata": {
        "colab": {
          "base_uri": "https://localhost:8080/"
        },
        "id": "Oh9Vzsgan5Xa",
        "outputId": "b9ff488a-e58c-4db4-fe97-7c14cf340ef6"
      },
      "execution_count": 123,
      "outputs": [
        {
          "output_type": "stream",
          "name": "stdout",
          "text": [
            "Rome\n"
          ]
        }
      ]
    },
    {
      "cell_type": "code",
      "source": [
        "print(capital.pop(\"Italy\"))\n",
        "print(capital)"
      ],
      "metadata": {
        "colab": {
          "base_uri": "https://localhost:8080/"
        },
        "id": "4QDz5VqKoMmV",
        "outputId": "538bd53b-0f29-4376-e28b-39908ffacf07"
      },
      "execution_count": 124,
      "outputs": [
        {
          "output_type": "stream",
          "name": "stdout",
          "text": [
            "Rome\n",
            "{'germany': 'berlin', 'India': 'New delhi'}\n"
          ]
        }
      ]
    },
    {
      "cell_type": "code",
      "source": [
        "print (capital.keys())\n",
        "print (capital.values())\n",
        "print (capital.items())"
      ],
      "metadata": {
        "colab": {
          "base_uri": "https://localhost:8080/"
        },
        "id": "J1P9jVKaolWF",
        "outputId": "890bd97a-4391-4e33-d85c-3779c0403a31"
      },
      "execution_count": 126,
      "outputs": [
        {
          "output_type": "stream",
          "name": "stdout",
          "text": [
            "dict_keys(['germany', 'India'])\n",
            "dict_values(['berlin', 'New delhi'])\n",
            "dict_items([('germany', 'berlin'), ('India', 'New delhi')])\n"
          ]
        }
      ]
    },
    {
      "cell_type": "code",
      "source": [
        "list_capital = [(\"germany\",\"berlin\"), (\"India\",\"New delhi\")]"
      ],
      "metadata": {
        "id": "QKasrDxEo_n3"
      },
      "execution_count": 127,
      "outputs": []
    },
    {
      "cell_type": "code",
      "source": [
        "capital[\"Europe\"]= \"Brussels\"\n",
        "capital[\"Belgium\"]= \"Brussels\"\n",
        "print(capital)"
      ],
      "metadata": {
        "colab": {
          "base_uri": "https://localhost:8080/"
        },
        "id": "OqmL5INJpdlI",
        "outputId": "a4243769-371d-4124-e299-e1c7f1951ed8"
      },
      "execution_count": 130,
      "outputs": [
        {
          "output_type": "stream",
          "name": "stdout",
          "text": [
            "{'germany': 'berlin', 'India': 'New delhi', 'Europe': 'Brussels', 'Belgium': 'Brussels'}\n"
          ]
        }
      ]
    }
  ]
}