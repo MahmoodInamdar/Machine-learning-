{
  "nbformat": 4,
  "nbformat_minor": 0,
  "metadata": {
    "colab": {
      "provenance": [],
      "authorship_tag": "ABX9TyMG1hT7DgvdVrBjw6Jg9D4d",
      "include_colab_link": true
    },
    "kernelspec": {
      "name": "python3",
      "display_name": "Python 3"
    },
    "language_info": {
      "name": "python"
    }
  },
  "cells": [
    {
      "cell_type": "markdown",
      "metadata": {
        "id": "view-in-github",
        "colab_type": "text"
      },
      "source": [
        "<a href=\"https://colab.research.google.com/github/MahmoodInamdar/Python-projects-MI/blob/main/Untitled14.ipynb\" target=\"_parent\"><img src=\"https://colab.research.google.com/assets/colab-badge.svg\" alt=\"Open In Colab\"/></a>"
      ]
    },
    {
      "cell_type": "code",
      "execution_count": 3,
      "metadata": {
        "id": "o4bzxSSvEttb"
      },
      "outputs": [],
      "source": [
        "import pandas as pd\n",
        "import sklearn.model_selection\n",
        "import numpy as np\n",
        "import sklearn.svm\n",
        "import sklearn.metrics\n",
        "import sklearn.preprocessing\n",
        "import imblearn.over_sampling\n",
        "import sklearn.decomposition\n",
        "import sklearn.linear_model\n"
      ]
    },
    {
      "cell_type": "code",
      "source": [
        "df = pd.read_csv(\"Stroke.csv\")\n",
        "df = df.sample(10000)\n",
        "df = df.drop(['ID'], axis=1)\n",
        "\n",
        "df.head(10)"
      ],
      "metadata": {
        "colab": {
          "base_uri": "https://localhost:8080/",
          "height": 461
        },
        "id": "8NGJLZPwE3GF",
        "outputId": "95a13c9e-d867-4ee7-a9a4-85e11ede92e4"
      },
      "execution_count": 4,
      "outputs": [
        {
          "output_type": "execute_result",
          "data": {
            "text/plain": [
              "       Gender    Age  Hypertension  Heart_Disease Ever_Married      Work_Type  \\\n",
              "1554     Male   4.00             0              0           No       children   \n",
              "5460     Male   0.24             0              0           No       children   \n",
              "15451  Female  61.00             0              0          Yes        Private   \n",
              "6497   Female  32.00             0              0           No        Private   \n",
              "18024  Female  27.00             0              0           No  Self-employed   \n",
              "40445  Female  66.00             0              0          Yes       Govt_job   \n",
              "27933  Female  34.00             0              0          Yes        Private   \n",
              "33796  Female  30.00             0              0          Yes  Self-employed   \n",
              "3003   Female  66.00             0              0          Yes        Private   \n",
              "25330    Male  60.00             0              0          Yes        Private   \n",
              "\n",
              "      Residence_Type  Avg_Glucose_Level   BMI   Smoking_Status  Stroke  \n",
              "1554           Urban              97.51  22.0              NaN       0  \n",
              "5460           Rural              65.76  15.6              NaN       0  \n",
              "15451          Urban             146.47  31.6     never smoked       0  \n",
              "6497           Rural              65.60  26.5              NaN       0  \n",
              "18024          Rural              69.61  24.9  formerly smoked       0  \n",
              "40445          Urban             199.83  38.0     never smoked       0  \n",
              "27933          Urban              83.01  25.1     never smoked       0  \n",
              "33796          Rural              94.14  23.1     never smoked       0  \n",
              "3003           Urban              80.10  32.0     never smoked       0  \n",
              "25330          Rural              76.26  35.4           smokes       0  "
            ],
            "text/html": [
              "\n",
              "  <div id=\"df-8a21e093-5ace-4469-8a4f-7d30fd4fed9b\">\n",
              "    <div class=\"colab-df-container\">\n",
              "      <div>\n",
              "<style scoped>\n",
              "    .dataframe tbody tr th:only-of-type {\n",
              "        vertical-align: middle;\n",
              "    }\n",
              "\n",
              "    .dataframe tbody tr th {\n",
              "        vertical-align: top;\n",
              "    }\n",
              "\n",
              "    .dataframe thead th {\n",
              "        text-align: right;\n",
              "    }\n",
              "</style>\n",
              "<table border=\"1\" class=\"dataframe\">\n",
              "  <thead>\n",
              "    <tr style=\"text-align: right;\">\n",
              "      <th></th>\n",
              "      <th>Gender</th>\n",
              "      <th>Age</th>\n",
              "      <th>Hypertension</th>\n",
              "      <th>Heart_Disease</th>\n",
              "      <th>Ever_Married</th>\n",
              "      <th>Work_Type</th>\n",
              "      <th>Residence_Type</th>\n",
              "      <th>Avg_Glucose_Level</th>\n",
              "      <th>BMI</th>\n",
              "      <th>Smoking_Status</th>\n",
              "      <th>Stroke</th>\n",
              "    </tr>\n",
              "  </thead>\n",
              "  <tbody>\n",
              "    <tr>\n",
              "      <th>1554</th>\n",
              "      <td>Male</td>\n",
              "      <td>4.00</td>\n",
              "      <td>0</td>\n",
              "      <td>0</td>\n",
              "      <td>No</td>\n",
              "      <td>children</td>\n",
              "      <td>Urban</td>\n",
              "      <td>97.51</td>\n",
              "      <td>22.0</td>\n",
              "      <td>NaN</td>\n",
              "      <td>0</td>\n",
              "    </tr>\n",
              "    <tr>\n",
              "      <th>5460</th>\n",
              "      <td>Male</td>\n",
              "      <td>0.24</td>\n",
              "      <td>0</td>\n",
              "      <td>0</td>\n",
              "      <td>No</td>\n",
              "      <td>children</td>\n",
              "      <td>Rural</td>\n",
              "      <td>65.76</td>\n",
              "      <td>15.6</td>\n",
              "      <td>NaN</td>\n",
              "      <td>0</td>\n",
              "    </tr>\n",
              "    <tr>\n",
              "      <th>15451</th>\n",
              "      <td>Female</td>\n",
              "      <td>61.00</td>\n",
              "      <td>0</td>\n",
              "      <td>0</td>\n",
              "      <td>Yes</td>\n",
              "      <td>Private</td>\n",
              "      <td>Urban</td>\n",
              "      <td>146.47</td>\n",
              "      <td>31.6</td>\n",
              "      <td>never smoked</td>\n",
              "      <td>0</td>\n",
              "    </tr>\n",
              "    <tr>\n",
              "      <th>6497</th>\n",
              "      <td>Female</td>\n",
              "      <td>32.00</td>\n",
              "      <td>0</td>\n",
              "      <td>0</td>\n",
              "      <td>No</td>\n",
              "      <td>Private</td>\n",
              "      <td>Rural</td>\n",
              "      <td>65.60</td>\n",
              "      <td>26.5</td>\n",
              "      <td>NaN</td>\n",
              "      <td>0</td>\n",
              "    </tr>\n",
              "    <tr>\n",
              "      <th>18024</th>\n",
              "      <td>Female</td>\n",
              "      <td>27.00</td>\n",
              "      <td>0</td>\n",
              "      <td>0</td>\n",
              "      <td>No</td>\n",
              "      <td>Self-employed</td>\n",
              "      <td>Rural</td>\n",
              "      <td>69.61</td>\n",
              "      <td>24.9</td>\n",
              "      <td>formerly smoked</td>\n",
              "      <td>0</td>\n",
              "    </tr>\n",
              "    <tr>\n",
              "      <th>40445</th>\n",
              "      <td>Female</td>\n",
              "      <td>66.00</td>\n",
              "      <td>0</td>\n",
              "      <td>0</td>\n",
              "      <td>Yes</td>\n",
              "      <td>Govt_job</td>\n",
              "      <td>Urban</td>\n",
              "      <td>199.83</td>\n",
              "      <td>38.0</td>\n",
              "      <td>never smoked</td>\n",
              "      <td>0</td>\n",
              "    </tr>\n",
              "    <tr>\n",
              "      <th>27933</th>\n",
              "      <td>Female</td>\n",
              "      <td>34.00</td>\n",
              "      <td>0</td>\n",
              "      <td>0</td>\n",
              "      <td>Yes</td>\n",
              "      <td>Private</td>\n",
              "      <td>Urban</td>\n",
              "      <td>83.01</td>\n",
              "      <td>25.1</td>\n",
              "      <td>never smoked</td>\n",
              "      <td>0</td>\n",
              "    </tr>\n",
              "    <tr>\n",
              "      <th>33796</th>\n",
              "      <td>Female</td>\n",
              "      <td>30.00</td>\n",
              "      <td>0</td>\n",
              "      <td>0</td>\n",
              "      <td>Yes</td>\n",
              "      <td>Self-employed</td>\n",
              "      <td>Rural</td>\n",
              "      <td>94.14</td>\n",
              "      <td>23.1</td>\n",
              "      <td>never smoked</td>\n",
              "      <td>0</td>\n",
              "    </tr>\n",
              "    <tr>\n",
              "      <th>3003</th>\n",
              "      <td>Female</td>\n",
              "      <td>66.00</td>\n",
              "      <td>0</td>\n",
              "      <td>0</td>\n",
              "      <td>Yes</td>\n",
              "      <td>Private</td>\n",
              "      <td>Urban</td>\n",
              "      <td>80.10</td>\n",
              "      <td>32.0</td>\n",
              "      <td>never smoked</td>\n",
              "      <td>0</td>\n",
              "    </tr>\n",
              "    <tr>\n",
              "      <th>25330</th>\n",
              "      <td>Male</td>\n",
              "      <td>60.00</td>\n",
              "      <td>0</td>\n",
              "      <td>0</td>\n",
              "      <td>Yes</td>\n",
              "      <td>Private</td>\n",
              "      <td>Rural</td>\n",
              "      <td>76.26</td>\n",
              "      <td>35.4</td>\n",
              "      <td>smokes</td>\n",
              "      <td>0</td>\n",
              "    </tr>\n",
              "  </tbody>\n",
              "</table>\n",
              "</div>\n",
              "      <button class=\"colab-df-convert\" onclick=\"convertToInteractive('df-8a21e093-5ace-4469-8a4f-7d30fd4fed9b')\"\n",
              "              title=\"Convert this dataframe to an interactive table.\"\n",
              "              style=\"display:none;\">\n",
              "        \n",
              "  <svg xmlns=\"http://www.w3.org/2000/svg\" height=\"24px\"viewBox=\"0 0 24 24\"\n",
              "       width=\"24px\">\n",
              "    <path d=\"M0 0h24v24H0V0z\" fill=\"none\"/>\n",
              "    <path d=\"M18.56 5.44l.94 2.06.94-2.06 2.06-.94-2.06-.94-.94-2.06-.94 2.06-2.06.94zm-11 1L8.5 8.5l.94-2.06 2.06-.94-2.06-.94L8.5 2.5l-.94 2.06-2.06.94zm10 10l.94 2.06.94-2.06 2.06-.94-2.06-.94-.94-2.06-.94 2.06-2.06.94z\"/><path d=\"M17.41 7.96l-1.37-1.37c-.4-.4-.92-.59-1.43-.59-.52 0-1.04.2-1.43.59L10.3 9.45l-7.72 7.72c-.78.78-.78 2.05 0 2.83L4 21.41c.39.39.9.59 1.41.59.51 0 1.02-.2 1.41-.59l7.78-7.78 2.81-2.81c.8-.78.8-2.07 0-2.86zM5.41 20L4 18.59l7.72-7.72 1.47 1.35L5.41 20z\"/>\n",
              "  </svg>\n",
              "      </button>\n",
              "      \n",
              "  <style>\n",
              "    .colab-df-container {\n",
              "      display:flex;\n",
              "      flex-wrap:wrap;\n",
              "      gap: 12px;\n",
              "    }\n",
              "\n",
              "    .colab-df-convert {\n",
              "      background-color: #E8F0FE;\n",
              "      border: none;\n",
              "      border-radius: 50%;\n",
              "      cursor: pointer;\n",
              "      display: none;\n",
              "      fill: #1967D2;\n",
              "      height: 32px;\n",
              "      padding: 0 0 0 0;\n",
              "      width: 32px;\n",
              "    }\n",
              "\n",
              "    .colab-df-convert:hover {\n",
              "      background-color: #E2EBFA;\n",
              "      box-shadow: 0px 1px 2px rgba(60, 64, 67, 0.3), 0px 1px 3px 1px rgba(60, 64, 67, 0.15);\n",
              "      fill: #174EA6;\n",
              "    }\n",
              "\n",
              "    [theme=dark] .colab-df-convert {\n",
              "      background-color: #3B4455;\n",
              "      fill: #D2E3FC;\n",
              "    }\n",
              "\n",
              "    [theme=dark] .colab-df-convert:hover {\n",
              "      background-color: #434B5C;\n",
              "      box-shadow: 0px 1px 3px 1px rgba(0, 0, 0, 0.15);\n",
              "      filter: drop-shadow(0px 1px 2px rgba(0, 0, 0, 0.3));\n",
              "      fill: #FFFFFF;\n",
              "    }\n",
              "  </style>\n",
              "\n",
              "      <script>\n",
              "        const buttonEl =\n",
              "          document.querySelector('#df-8a21e093-5ace-4469-8a4f-7d30fd4fed9b button.colab-df-convert');\n",
              "        buttonEl.style.display =\n",
              "          google.colab.kernel.accessAllowed ? 'block' : 'none';\n",
              "\n",
              "        async function convertToInteractive(key) {\n",
              "          const element = document.querySelector('#df-8a21e093-5ace-4469-8a4f-7d30fd4fed9b');\n",
              "          const dataTable =\n",
              "            await google.colab.kernel.invokeFunction('convertToInteractive',\n",
              "                                                     [key], {});\n",
              "          if (!dataTable) return;\n",
              "\n",
              "          const docLinkHtml = 'Like what you see? Visit the ' +\n",
              "            '<a target=\"_blank\" href=https://colab.research.google.com/notebooks/data_table.ipynb>data table notebook</a>'\n",
              "            + ' to learn more about interactive tables.';\n",
              "          element.innerHTML = '';\n",
              "          dataTable['output_type'] = 'display_data';\n",
              "          await google.colab.output.renderOutput(dataTable, element);\n",
              "          const docLink = document.createElement('div');\n",
              "          docLink.innerHTML = docLinkHtml;\n",
              "          element.appendChild(docLink);\n",
              "        }\n",
              "      </script>\n",
              "    </div>\n",
              "  </div>\n",
              "  "
            ]
          },
          "metadata": {},
          "execution_count": 4
        }
      ]
    },
    {
      "cell_type": "code",
      "source": [
        "df.Age = df.Age.astype(int)"
      ],
      "metadata": {
        "id": "kMIdf3YHE3C9"
      },
      "execution_count": 5,
      "outputs": []
    },
    {
      "cell_type": "code",
      "source": [
        "df.head()"
      ],
      "metadata": {
        "colab": {
          "base_uri": "https://localhost:8080/",
          "height": 287
        },
        "id": "RPhgWTpKE3Ao",
        "outputId": "b8f59076-a467-4624-9c7d-9b97af0587db"
      },
      "execution_count": 6,
      "outputs": [
        {
          "output_type": "execute_result",
          "data": {
            "text/plain": [
              "       Gender  Age  Hypertension  Heart_Disease Ever_Married      Work_Type  \\\n",
              "1554     Male    4             0              0           No       children   \n",
              "5460     Male    0             0              0           No       children   \n",
              "15451  Female   61             0              0          Yes        Private   \n",
              "6497   Female   32             0              0           No        Private   \n",
              "18024  Female   27             0              0           No  Self-employed   \n",
              "\n",
              "      Residence_Type  Avg_Glucose_Level   BMI   Smoking_Status  Stroke  \n",
              "1554           Urban              97.51  22.0              NaN       0  \n",
              "5460           Rural              65.76  15.6              NaN       0  \n",
              "15451          Urban             146.47  31.6     never smoked       0  \n",
              "6497           Rural              65.60  26.5              NaN       0  \n",
              "18024          Rural              69.61  24.9  formerly smoked       0  "
            ],
            "text/html": [
              "\n",
              "  <div id=\"df-627be9d8-f6dc-4219-8a17-152e6ca3d903\">\n",
              "    <div class=\"colab-df-container\">\n",
              "      <div>\n",
              "<style scoped>\n",
              "    .dataframe tbody tr th:only-of-type {\n",
              "        vertical-align: middle;\n",
              "    }\n",
              "\n",
              "    .dataframe tbody tr th {\n",
              "        vertical-align: top;\n",
              "    }\n",
              "\n",
              "    .dataframe thead th {\n",
              "        text-align: right;\n",
              "    }\n",
              "</style>\n",
              "<table border=\"1\" class=\"dataframe\">\n",
              "  <thead>\n",
              "    <tr style=\"text-align: right;\">\n",
              "      <th></th>\n",
              "      <th>Gender</th>\n",
              "      <th>Age</th>\n",
              "      <th>Hypertension</th>\n",
              "      <th>Heart_Disease</th>\n",
              "      <th>Ever_Married</th>\n",
              "      <th>Work_Type</th>\n",
              "      <th>Residence_Type</th>\n",
              "      <th>Avg_Glucose_Level</th>\n",
              "      <th>BMI</th>\n",
              "      <th>Smoking_Status</th>\n",
              "      <th>Stroke</th>\n",
              "    </tr>\n",
              "  </thead>\n",
              "  <tbody>\n",
              "    <tr>\n",
              "      <th>1554</th>\n",
              "      <td>Male</td>\n",
              "      <td>4</td>\n",
              "      <td>0</td>\n",
              "      <td>0</td>\n",
              "      <td>No</td>\n",
              "      <td>children</td>\n",
              "      <td>Urban</td>\n",
              "      <td>97.51</td>\n",
              "      <td>22.0</td>\n",
              "      <td>NaN</td>\n",
              "      <td>0</td>\n",
              "    </tr>\n",
              "    <tr>\n",
              "      <th>5460</th>\n",
              "      <td>Male</td>\n",
              "      <td>0</td>\n",
              "      <td>0</td>\n",
              "      <td>0</td>\n",
              "      <td>No</td>\n",
              "      <td>children</td>\n",
              "      <td>Rural</td>\n",
              "      <td>65.76</td>\n",
              "      <td>15.6</td>\n",
              "      <td>NaN</td>\n",
              "      <td>0</td>\n",
              "    </tr>\n",
              "    <tr>\n",
              "      <th>15451</th>\n",
              "      <td>Female</td>\n",
              "      <td>61</td>\n",
              "      <td>0</td>\n",
              "      <td>0</td>\n",
              "      <td>Yes</td>\n",
              "      <td>Private</td>\n",
              "      <td>Urban</td>\n",
              "      <td>146.47</td>\n",
              "      <td>31.6</td>\n",
              "      <td>never smoked</td>\n",
              "      <td>0</td>\n",
              "    </tr>\n",
              "    <tr>\n",
              "      <th>6497</th>\n",
              "      <td>Female</td>\n",
              "      <td>32</td>\n",
              "      <td>0</td>\n",
              "      <td>0</td>\n",
              "      <td>No</td>\n",
              "      <td>Private</td>\n",
              "      <td>Rural</td>\n",
              "      <td>65.60</td>\n",
              "      <td>26.5</td>\n",
              "      <td>NaN</td>\n",
              "      <td>0</td>\n",
              "    </tr>\n",
              "    <tr>\n",
              "      <th>18024</th>\n",
              "      <td>Female</td>\n",
              "      <td>27</td>\n",
              "      <td>0</td>\n",
              "      <td>0</td>\n",
              "      <td>No</td>\n",
              "      <td>Self-employed</td>\n",
              "      <td>Rural</td>\n",
              "      <td>69.61</td>\n",
              "      <td>24.9</td>\n",
              "      <td>formerly smoked</td>\n",
              "      <td>0</td>\n",
              "    </tr>\n",
              "  </tbody>\n",
              "</table>\n",
              "</div>\n",
              "      <button class=\"colab-df-convert\" onclick=\"convertToInteractive('df-627be9d8-f6dc-4219-8a17-152e6ca3d903')\"\n",
              "              title=\"Convert this dataframe to an interactive table.\"\n",
              "              style=\"display:none;\">\n",
              "        \n",
              "  <svg xmlns=\"http://www.w3.org/2000/svg\" height=\"24px\"viewBox=\"0 0 24 24\"\n",
              "       width=\"24px\">\n",
              "    <path d=\"M0 0h24v24H0V0z\" fill=\"none\"/>\n",
              "    <path d=\"M18.56 5.44l.94 2.06.94-2.06 2.06-.94-2.06-.94-.94-2.06-.94 2.06-2.06.94zm-11 1L8.5 8.5l.94-2.06 2.06-.94-2.06-.94L8.5 2.5l-.94 2.06-2.06.94zm10 10l.94 2.06.94-2.06 2.06-.94-2.06-.94-.94-2.06-.94 2.06-2.06.94z\"/><path d=\"M17.41 7.96l-1.37-1.37c-.4-.4-.92-.59-1.43-.59-.52 0-1.04.2-1.43.59L10.3 9.45l-7.72 7.72c-.78.78-.78 2.05 0 2.83L4 21.41c.39.39.9.59 1.41.59.51 0 1.02-.2 1.41-.59l7.78-7.78 2.81-2.81c.8-.78.8-2.07 0-2.86zM5.41 20L4 18.59l7.72-7.72 1.47 1.35L5.41 20z\"/>\n",
              "  </svg>\n",
              "      </button>\n",
              "      \n",
              "  <style>\n",
              "    .colab-df-container {\n",
              "      display:flex;\n",
              "      flex-wrap:wrap;\n",
              "      gap: 12px;\n",
              "    }\n",
              "\n",
              "    .colab-df-convert {\n",
              "      background-color: #E8F0FE;\n",
              "      border: none;\n",
              "      border-radius: 50%;\n",
              "      cursor: pointer;\n",
              "      display: none;\n",
              "      fill: #1967D2;\n",
              "      height: 32px;\n",
              "      padding: 0 0 0 0;\n",
              "      width: 32px;\n",
              "    }\n",
              "\n",
              "    .colab-df-convert:hover {\n",
              "      background-color: #E2EBFA;\n",
              "      box-shadow: 0px 1px 2px rgba(60, 64, 67, 0.3), 0px 1px 3px 1px rgba(60, 64, 67, 0.15);\n",
              "      fill: #174EA6;\n",
              "    }\n",
              "\n",
              "    [theme=dark] .colab-df-convert {\n",
              "      background-color: #3B4455;\n",
              "      fill: #D2E3FC;\n",
              "    }\n",
              "\n",
              "    [theme=dark] .colab-df-convert:hover {\n",
              "      background-color: #434B5C;\n",
              "      box-shadow: 0px 1px 3px 1px rgba(0, 0, 0, 0.15);\n",
              "      filter: drop-shadow(0px 1px 2px rgba(0, 0, 0, 0.3));\n",
              "      fill: #FFFFFF;\n",
              "    }\n",
              "  </style>\n",
              "\n",
              "      <script>\n",
              "        const buttonEl =\n",
              "          document.querySelector('#df-627be9d8-f6dc-4219-8a17-152e6ca3d903 button.colab-df-convert');\n",
              "        buttonEl.style.display =\n",
              "          google.colab.kernel.accessAllowed ? 'block' : 'none';\n",
              "\n",
              "        async function convertToInteractive(key) {\n",
              "          const element = document.querySelector('#df-627be9d8-f6dc-4219-8a17-152e6ca3d903');\n",
              "          const dataTable =\n",
              "            await google.colab.kernel.invokeFunction('convertToInteractive',\n",
              "                                                     [key], {});\n",
              "          if (!dataTable) return;\n",
              "\n",
              "          const docLinkHtml = 'Like what you see? Visit the ' +\n",
              "            '<a target=\"_blank\" href=https://colab.research.google.com/notebooks/data_table.ipynb>data table notebook</a>'\n",
              "            + ' to learn more about interactive tables.';\n",
              "          element.innerHTML = '';\n",
              "          dataTable['output_type'] = 'display_data';\n",
              "          await google.colab.output.renderOutput(dataTable, element);\n",
              "          const docLink = document.createElement('div');\n",
              "          docLink.innerHTML = docLinkHtml;\n",
              "          element.appendChild(docLink);\n",
              "        }\n",
              "      </script>\n",
              "    </div>\n",
              "  </div>\n",
              "  "
            ]
          },
          "metadata": {},
          "execution_count": 6
        }
      ]
    },
    {
      "cell_type": "code",
      "source": [
        "df_train, df_test = sklearn.model_selection.train_test_split(df)\n",
        "\n",
        "print(\"df_train size:\" , df_train.shape)\n",
        "print(\"df_test size:\" , df_test.shape)"
      ],
      "metadata": {
        "colab": {
          "base_uri": "https://localhost:8080/"
        },
        "id": "NWMuD-v2E2-U",
        "outputId": "a681b531-809a-4576-a56d-3966b1bcb413"
      },
      "execution_count": 7,
      "outputs": [
        {
          "output_type": "stream",
          "name": "stdout",
          "text": [
            "df_train size: (18750, 11)\n",
            "df_test size: (6250, 11)\n"
          ]
        }
      ]
    },
    {
      "cell_type": "code",
      "source": [
        "for i in df_train.columns:\n",
        "  print(i)\n",
        "  print(df_train[i].unique(),\"\\n\")"
      ],
      "metadata": {
        "colab": {
          "base_uri": "https://localhost:8080/"
        },
        "id": "KpAp2PNoE263",
        "outputId": "0ebe9cdc-17db-4b42-ffaa-c3ac2020cf2c"
      },
      "execution_count": 8,
      "outputs": [
        {
          "output_type": "stream",
          "name": "stdout",
          "text": [
            "Gender\n",
            "['Female' 'Male' 'Other'] \n",
            "\n",
            "Age\n",
            "[15 41 65  4 34 14 64 29 35 37 69 19 30 55 73  5  1 24 57 75 51 50 23 25\n",
            " 13 72  9 82 81 31 40  0 36 32 28 54 78 79 46 76 63 33 52 10 68 71 77 26\n",
            " 42 45 80  8  2 49 59 60  3 66 17 11 39 27 62 53 38 43 48 61 20  7 18 67\n",
            " 47 16 22 56 70 58  6 44 12 21 74] \n",
            "\n",
            "Hypertension\n",
            "[0 1] \n",
            "\n",
            "Heart_Disease\n",
            "[0 1] \n",
            "\n",
            "Ever_Married\n",
            "['No' 'Yes'] \n",
            "\n",
            "Work_Type\n",
            "['children' 'Private' 'Self-employed' 'Govt_job' 'Never_worked'] \n",
            "\n",
            "Residence_Type\n",
            "['Urban' 'Rural'] \n",
            "\n",
            "Avg_Glucose_Level\n",
            "[ 71.2   98.03  77.19 ...  69.84 124.82 222.46] \n",
            "\n",
            "BMI\n",
            "[18.2 25.3 35.2 38.1 31.5 22.5 32.  31.4 27.1 37.1 39.4 30.1 36.5 20.7\n",
            " 28.9 23.9 30.6 25.4 20.3 27.8 26.4 15.2 26.6 26.1 27.4  nan 21.6 40.7\n",
            " 13.6 24.4 22.6 23.  23.3 28.3 26.7 29.4 20.1 24.5 28.2 35.  22.4 29.8\n",
            " 30.3 42.9 24.9 21.9 30.2 31.9 25.6 39.9 47.7 32.7 19.8 25.7 43.8 38.\n",
            " 18.4 20.2 25.8 24.1 30.8 29.9 38.2 25.  19.7 13.3 23.8 28.  15.8 13.7\n",
            " 29.6 33.6 23.7 23.1 27.2 31.7 18.8 39.6 29.  29.5 29.3 47.3 31.  30.9\n",
            " 25.2 20.4 18.  22.2 32.6 24.3 17.1 27.9 33.8 28.6 22.  30.5 26.2 40.8\n",
            " 26.5 41.5 36.9 42.  24.6 49.  28.8 35.1 24.7 25.9 37.7 26.  37.4 51.2\n",
            " 32.5 23.6 33.9 22.1 21.  36.6 21.5 22.3 39.  32.8 20.8 24.  16.6 55.7\n",
            " 22.8 34.2 37.  41.7 30.7 21.2 49.9 35.4 23.2 37.8 24.2 22.9 34.5 32.9\n",
            " 12.8 26.8 50.1 33.3 32.3 41.  36.8 18.1 40.9 44.4 21.1 27.7 30.  35.7\n",
            " 18.3 34.3 45.5 17.3 24.8 58.  36.2 33.1 38.7 32.4 42.4 27.6 19.1 28.5\n",
            " 16.7 33.7 25.5 37.6 35.8 19.2 26.3 28.4 21.3 21.8 38.8 16.8 14.7 52.6\n",
            " 33.  16.9 15.5 45.3 28.7 15.4 42.8 34.  19.5 52.2 40.4 25.1 18.7 21.4\n",
            " 34.7 17.7 20.  49.3 42.3 13.2 28.1 22.7 39.7 29.2 32.2 14.3 31.6 29.1\n",
            " 47.  20.9 47.6 31.8 23.5 31.3 34.8 27.3 16.2 40.  41.4 18.6 31.1 42.5\n",
            " 42.7 36.  36.4 36.7 50.  45.  43.2 37.9 44.2 30.4 40.3 51.8 17.5 17.8\n",
            " 17.9 34.4 29.7 41.8 27.5 40.1 43.3 14.4 41.3 14.5 16.4 15.6 41.9 27.\n",
            " 17.  41.1 16.  15.1 31.2 23.4 19.  37.3 40.5 35.6 39.3 43.6 65.7 20.6\n",
            " 47.2 19.6 15.7 26.9 53.4 18.9 34.9 38.3 32.1 42.6 33.4 19.3 38.5 35.5\n",
            " 52.9 52.8 34.1 46.1 42.2 49.4 21.7 51.7 10.8 18.5 43.5 36.3 13.5 19.9\n",
            " 41.2 41.6 36.1 54.5 17.4 17.2 14.2 35.9 19.4 33.2 34.6 46.4 39.5 16.1\n",
            " 37.5 48.8 35.3 42.1 17.6 55.  20.5 40.2 61.9 39.2 61.3 38.6 14.8 44.6\n",
            " 45.1 44.1 53.6 14.6 61.8 43.9 43.7 16.3 15.3 48.3 64.2 47.1 16.5 33.5\n",
            " 38.9 61.6 37.2 43.1 46.9 59.9 44.7 39.1 49.8 45.9 53.2 45.2 52.4 13.8\n",
            " 55.3 44.  46.6 44.8 13.1 50.2 38.4 53.3 40.6 51.  13.  59.6 47.4 49.6\n",
            " 58.2 51.6 45.8 50.3 57.5 44.5 39.8 14.1 11.9 15.9 43.  50.7 52.  14.9\n",
            " 53.9 50.5 46.3 11.  46.5 51.3 55.4 45.7 45.6 48.5 48.4 54.3 69.4 55.6\n",
            " 48.  53.  46.7 51.9 60.2 44.9 58.7 65.5 54.  48.9 46.8 49.2 50.6 52.5\n",
            " 60.1 71.5 52.3 11.4 44.3 49.1 50.8 54.7 62.9 15.  60.5 47.9 56.6 12.6\n",
            " 13.4 45.4 46.2 48.1 43.4 88.6 46.  55.2 12.1 48.7 47.8 59.2 89.  56.4\n",
            " 57.6 14.  12.9 55.5 50.9 58.3 59.7 53.1 54.1 12.7 47.5 49.5 54.8 57.1\n",
            " 60.9 11.6 13.9 55.9 50.4 52.7 12.  58.1 64.9 54.4 51.1 58.4 56.3 53.8\n",
            " 56.2 57.  12.5 11.7 10.6 66.3 69.8 59.  63.8 65.9 10.5 49.7 61.1 52.1\n",
            " 63.2 70.6 10.1 53.5 57.2 48.6 48.2 56.5 10.3 12.4 51.5 68.5 68.6 60.6\n",
            " 54.9 58.6 62.2 12.3 61.2 51.4 59.1 56.1 70.3 78.  55.8 11.3 57.4] \n",
            "\n",
            "Smoking_Status\n",
            "[nan 'never smoked' 'formerly smoked' 'smokes'] \n",
            "\n",
            "Stroke\n",
            "[0 1] \n",
            "\n"
          ]
        }
      ]
    },
    {
      "cell_type": "code",
      "source": [
        "for i in df_test.columns:\n",
        "  print(i)\n",
        "  print(df_test[i].unique(),\"\\n\")"
      ],
      "metadata": {
        "colab": {
          "base_uri": "https://localhost:8080/"
        },
        "id": "xUcTuA_lE24h",
        "outputId": "3c88363b-5381-4e96-b47d-68e1a4537ff1"
      },
      "execution_count": 9,
      "outputs": [
        {
          "output_type": "stream",
          "name": "stdout",
          "text": [
            "Gender\n",
            "['Male' 'Female' 'Other'] \n",
            "\n",
            "Age\n",
            "[42 24 54 61 43 64 56 21 16 30 53 57 39 67  2  3 68 37 63 80 44 20 73 62\n",
            " 12 19 15 14 70 58 59 40 71 78 35 50 51 32 10 11  4 45 34 38 75 26 66  0\n",
            " 33 17 47 48 79  5 23  9 25 49 72 46 65 82 13  1 60 55 18 22 74 36 41 31\n",
            " 76 28  7 77 29 81 27  6  8 52 69] \n",
            "\n",
            "Hypertension\n",
            "[0 1] \n",
            "\n",
            "Heart_Disease\n",
            "[0 1] \n",
            "\n",
            "Ever_Married\n",
            "['Yes' 'No'] \n",
            "\n",
            "Work_Type\n",
            "['Private' 'Govt_job' 'Self-employed' 'children' 'Never_worked'] \n",
            "\n",
            "Residence_Type\n",
            "['Urban' 'Rural'] \n",
            "\n",
            "Avg_Glucose_Level\n",
            "[ 75.46 123.65  84.34 ... 185.11  97.    85.4 ] \n",
            "\n",
            "BMI\n",
            "[32.5 22.  34.7 42.6 30.4 38.1 22.1 31.6 20.3 59.7 44.  25.7 29.2 38.6\n",
            " 23.6 25.8 18.1 20.5 27.9 33.  37.  27.4 21.5 43.9 24.  28.2 25.6 21.9\n",
            " 32.8 22.9 34.  25.5 35.   nan 39.1 27.8 34.2 32.7 29.  23.2 26.4 26.7\n",
            " 23.  31.9 41.4 41.9 32.2 45.7 26.3 19.1 16.4 16.3 20.2 17.1 29.4 52.8\n",
            " 48.2 29.7 28.5 25.2 21.  24.9 37.9 29.1 19.4 25.3 23.4 26.5 30.8 22.3\n",
            " 19.2 28.7 35.3 35.2 37.2 25.9 29.8 22.5 27.6 30.7 28.6 18.7 25.4 25.1\n",
            " 40.4 24.5 16.8 18.5 27.  23.8 44.3 32.1 30.5 36.7 24.6 33.5 18.  32.\n",
            " 22.6 34.9 26.8 33.7 27.7 30.2 28.3 55.8 39.6 19.  39.2 16.  31.5 17.3\n",
            " 23.5 24.7 29.5 34.5 43.  22.4 21.3 35.7 55.1 15.9 24.2 26.6 32.6 26.1\n",
            " 15.7 26.2 20.  34.8 36.4 39.3 14.2 20.4 19.5 17.5 17.4 31.7 21.6 24.8\n",
            " 30.6 22.2 50.3 42.9 31.2 56.3 36.3 41.8 16.9 51.  26.9 35.5 32.4 31.3\n",
            " 28.1 27.5 17.9 19.8 43.4 15.6 22.7 38.7 39.  29.3 31.4 30.3 21.4 42.4\n",
            " 43.8 26.  19.3 24.3 16.2 46.9 16.1 28.8 28.4 35.1 38.2 35.4 36.5 46.8\n",
            " 24.1 33.4 29.6 21.1 38.  18.4 23.1 15.3 31.  49.3 20.8 33.1 50.2 27.2\n",
            " 21.8 30.  39.4 40.1 33.6 34.3 22.8 19.7 35.8 57.7 24.4 33.3 36.9 15.1\n",
            " 27.1 15.  40.3 34.1 31.8 23.3 37.1 20.6 29.9 28.9 19.9 46.3 42.8 39.7\n",
            " 39.8 38.5 23.9 58.1 18.6 47.7 23.7 42.5 40.5 47.1 20.1 39.5 42.7 40.9\n",
            " 14.  28.  41.  25.  57.8 16.6 19.6 43.2 27.3 44.6 32.9 31.1 17.8 20.9\n",
            " 21.7 62.3 14.7 18.2 41.5 41.1 30.1 47.4 37.7 16.7 18.9 36.  40.7 44.7\n",
            " 15.4 47.3 15.2 14.3 30.9 21.2 33.8 46.4 33.2 60.  17.6 38.9 36.8 41.2\n",
            " 36.6 50.5 20.7 44.5 51.5 49.2 42.3 89.1 35.6 44.2 37.6 48.9 38.8 15.8\n",
            " 58.6 34.4 42.2 37.3 37.8 49.9 38.4 17.2 35.9 18.3 43.3 14.4 46.7 40.\n",
            " 54.6 41.3 54.  34.6 33.9 38.3 45.5 45.3 37.4 57.3 60.5 68.  13.8 32.3\n",
            " 48.3 17.  55.9 47.  52.7 17.7 40.8 44.9 46.5 16.5 53.5 14.1 18.8 37.5\n",
            " 43.1 14.6 45.4 48.7 49.7 63.6 13.4 51.1 56.  43.7 36.1 44.8 46.6 52.3\n",
            " 13.3 47.2 41.6 51.2 42.  44.1 13.9 53.9 45.2 49.5 15.5 48.6 39.9 41.7\n",
            " 55.2 50.4 40.2 47.8 36.2 48.1 44.4 58.2 49.1 51.9 12.3 14.5 43.6 48.8\n",
            " 13.1 40.6 42.1 59.3 43.5 14.9 56.7 45.6 52.4 45.  13.6 46.1 47.9 47.5\n",
            " 12.7 56.8 58.5 57.6 57.1 49.6 45.8 50.  54.1 14.8 53.6 58.9 48.  49.\n",
            " 12.2 62.  71.7 60.9 46.2 48.5 97.6 13.5 60.7 57.9 11.2 47.6 52.9 49.4] \n",
            "\n",
            "Smoking_Status\n",
            "['never smoked' 'smokes' nan 'formerly smoked'] \n",
            "\n",
            "Stroke\n",
            "[0 1] \n",
            "\n"
          ]
        }
      ]
    },
    {
      "cell_type": "code",
      "source": [
        "df_train = df_train.replace(\" \", pd.NaT)   \n",
        "df_train = df_train.dropna()\n",
        "\n",
        "df_test = df_test.replace(\" \", pd.NaT)     \n",
        "df_test = df_test.dropna()\n",
        "\n",
        "print(\"df_train size:\", df_train.shape)\n",
        "print(\"df_test size:\", df_test.shape)"
      ],
      "metadata": {
        "colab": {
          "base_uri": "https://localhost:8080/"
        },
        "id": "RkOg1QkOE217",
        "outputId": "0bfd93b0-6ab8-40eb-ec38-1b3475ff9df1"
      },
      "execution_count": 10,
      "outputs": [
        {
          "output_type": "stream",
          "name": "stdout",
          "text": [
            "df_train size: (12493, 11)\n",
            "df_test size: (4213, 11)\n"
          ]
        }
      ]
    },
    {
      "cell_type": "code",
      "source": [
        "df_test = df_test.reset_index()\n",
        "df_train = df_train.reset_index()"
      ],
      "metadata": {
        "id": "WMLOVMeOE2zk"
      },
      "execution_count": 11,
      "outputs": []
    },
    {
      "cell_type": "code",
      "source": [
        "x_train = df_train.drop([\"Stroke\"], axis=1)   \n",
        "y_train = df_train[\"Stroke\"]\n",
        "\n",
        "x_test = df_test.drop([\"Stroke\"], axis=1)   \n",
        "y_test = df_test[\"Stroke\"]\n",
        "\n",
        "print(\"x_train size:\", x_train.shape)\n",
        "print(\"y_train size:\", y_train.shape)\n",
        "print(\"x_test size:\", x_test.shape)\n",
        "print(\"y_test size:\", y_test.shape)"
      ],
      "metadata": {
        "colab": {
          "base_uri": "https://localhost:8080/"
        },
        "id": "gGeG5mRvE2xN",
        "outputId": "74b5a9c2-e6f5-4ea5-acd4-bb05a76fc3fd"
      },
      "execution_count": 12,
      "outputs": [
        {
          "output_type": "stream",
          "name": "stdout",
          "text": [
            "x_train size: (12493, 11)\n",
            "y_train size: (12493,)\n",
            "x_test size: (4213, 11)\n",
            "y_test size: (4213,)\n"
          ]
        }
      ]
    },
    {
      "cell_type": "code",
      "source": [
        "## Encoding categorical Attributes\n",
        "\n",
        "from sklearn.preprocessing import OneHotEncoder\n",
        "\n",
        "#Building the one-hot encoder model\n",
        "encode = OneHotEncoder(handle_unknown='ignore')\n",
        "encode.fit(x_train)\n",
        "\n",
        "#Encoding the categorical attributes of training data\n",
        "x_train = encode.transform(x_train)\n",
        "\n",
        "#Encoding the categorical attributes of test data\n",
        "x_test = encode.transform(x_test)\n",
        "\n",
        "print(\"x_train :\", x_train.shape)\n",
        "print(\"x_test :\", x_test.shape)"
      ],
      "metadata": {
        "colab": {
          "base_uri": "https://localhost:8080/"
        },
        "id": "q0CgwjXeE2u2",
        "outputId": "e3c305b8-a4bb-4fe4-d4ce-244851231e56"
      },
      "execution_count": 13,
      "outputs": [
        {
          "output_type": "stream",
          "name": "stdout",
          "text": [
            "x_train : (12493, 20337)\n",
            "x_test : (4213, 20337)\n"
          ]
        }
      ]
    },
    {
      "cell_type": "code",
      "source": [
        "# Building a standardization model\n",
        "\n",
        "scaler = sklearn.preprocessing.StandardScaler(with_mean=False)\n",
        "scaler.fit(x_train)\n",
        "\n",
        "# scaling the training features\n",
        "x_train = scaler.transform(x_train)\n",
        "\n",
        "# Reducing the number of test features\n",
        "X_test = scaler.transform(x_test)\n",
        "print(\"X train:\", x_train.shape)\n",
        "print(\"X test:\", x_test.shape)"
      ],
      "metadata": {
        "colab": {
          "base_uri": "https://localhost:8080/"
        },
        "id": "AyrgbvdNkhYb",
        "outputId": "36e5e40d-af8b-41b6-b55b-cd922955c510"
      },
      "execution_count": 14,
      "outputs": [
        {
          "output_type": "stream",
          "name": "stdout",
          "text": [
            "X train: (12493, 20337)\n",
            "X test: (4213, 20337)\n"
          ]
        }
      ]
    },
    {
      "cell_type": "code",
      "source": [
        "##  reducing the dimensionality \n",
        "\n",
        "#Building PCA model\n",
        "\n",
        "pca = sklearn.decomposition.PCA(n_components=100)\n",
        "pca.fit(x_train.toarray())\n",
        "\n",
        "#Reducing the number of training features\n",
        "x_train = pca.transform(x_train.toarray())\n",
        "\n",
        "#Reducing the number of test features\n",
        "x_test = pca.transform(x_test.toarray())\n",
        "\n",
        "print(\"X train:\", x_train.shape)\n",
        "print(\"X test:\", x_test.shape)"
      ],
      "metadata": {
        "colab": {
          "base_uri": "https://localhost:8080/"
        },
        "id": "HZe9RrA4khWb",
        "outputId": "0dc0c6c9-f3ec-4d6f-b4e8-a4c110c5bf05"
      },
      "execution_count": 15,
      "outputs": [
        {
          "output_type": "stream",
          "name": "stdout",
          "text": [
            "X train: (12493, 100)\n",
            "X test: (4213, 100)\n"
          ]
        }
      ]
    },
    {
      "cell_type": "code",
      "source": [
        "## Balancing the Data\n",
        "## handling imbalanced classes \n",
        "\n",
        "sm = imblearn.over_sampling.SMOTE(random_state=42)\n",
        "\n",
        "x_train, y_train = sm.fit_resample(x_train, y_train)\n",
        "y_train.value_counts()\n",
        "\n",
        "#print(\"X train resampled size:\", x_train_resampled.shape)\n",
        "#print(\"Y train resampled size:\", y_train_resampled.shape)"
      ],
      "metadata": {
        "colab": {
          "base_uri": "https://localhost:8080/"
        },
        "id": "5MufK1S2khT8",
        "outputId": "4572bfd8-876c-4abd-9876-5655eb37f777"
      },
      "execution_count": 16,
      "outputs": [
        {
          "output_type": "execute_result",
          "data": {
            "text/plain": [
              "0    12251\n",
              "1    12251\n",
              "Name: Stroke, dtype: int64"
            ]
          },
          "metadata": {},
          "execution_count": 16
        }
      ]
    },
    {
      "cell_type": "code",
      "source": [
        "model_knn = sklearn.neighbors.KNeighborsClassifier()\n",
        "model_tree = sklearn.tree.DecisionTreeClassifier()\n",
        "model_svm = sklearn.svm.SVC()"
      ],
      "metadata": {
        "id": "PYgnLjDmkhRO"
      },
      "execution_count": 17,
      "outputs": []
    },
    {
      "cell_type": "code",
      "source": [
        "parameters_svm = {'kernel':('linear', 'rbf'), 'C':[0.1, 1 , 3,5]}\n",
        "model_svm = sklearn.svm.SVC()\n",
        "clf_svm = sklearn.model_selection.GridSearchCV(model_svm, parameters_svm)\n",
        "clf_svm.fit(x_train,y_train)\n",
        "y_preds = clf_svm.predict(x_test)\n",
        "accuracy = sklearn.metrics.accuracy_score(y_preds, y_test)\n",
        "print(accuracy)"
      ],
      "metadata": {
        "id": "0HkGpDQKE2s0"
      },
      "execution_count": null,
      "outputs": []
    },
    {
      "cell_type": "code",
      "source": [
        "parameters_knn = {'weights':('uniform', 'distance'), 'n_neighbors' :[2,3,4,5],'n_jobs' :[-1]}\n",
        "model_knn = sklearn.neighbors.KNeighborsClassifier()\n",
        "clf_knn = sklearn.model_selection.GridSearchCV(model_knn, parameters_knn)\n",
        "clf_knn.fit(x_train,y_train)\n",
        "y_predss = clf_knn.predict(x_test)\n",
        "accuracy = sklearn.metrics.accuracy_score(y_predss, y_test)\n",
        "print(accuracy)"
      ],
      "metadata": {
        "id": "mxipGIUDE2qr"
      },
      "execution_count": null,
      "outputs": []
    },
    {
      "cell_type": "code",
      "source": [
        "parameters_tree = {'criterion' :('gini', 'entropy'), 'min_samples_leaf':[1,2,4],'min_samples_split':[2,4,6],'max_depth': [5,7,10,13,15]}\n",
        "model_tree = sklearn.tree.DecisionTreeClassifier()\n",
        "clf_tree = sklearn.model_selection.GridSearchCV(model_tree, parameters_tree)\n",
        "clf_tree.fit(x_train,y_train)\n",
        "y_predsss = clf_tree.predict(x_test)\n",
        "accuracy = sklearn.metrics.accuracy_score(y_predsss, y_test)\n",
        "print(accuracy)"
      ],
      "metadata": {
        "id": "yFM1rHq7E2oo"
      },
      "execution_count": null,
      "outputs": []
    },
    {
      "cell_type": "code",
      "source": [
        "parameters_Lr = {'penalty': (‘l1’, ‘l2’), 'C':[0.1,0.5,1]}\n",
        "model_Lr = sklearn.linear_model.LogisticRegression()\n",
        "clf_Lr = sklearn.model_selection.GridSearchCV(model_Lr, parameters_Lr)\n",
        "clf_Lr.fit(x_train,y_train)\n",
        "y_predssss = clf_Lr.predict(x_test)\n",
        "accuracy = sklearn.metrics.accuracy_score(y_predssss, y_test)\n",
        "print(accuracy)"
      ],
      "metadata": {
        "id": "oiz3KL2bE2mG"
      },
      "execution_count": null,
      "outputs": []
    }
  ]
}