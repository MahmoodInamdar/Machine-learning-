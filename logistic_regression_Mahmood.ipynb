{
  "cells": [
    {
      "cell_type": "markdown",
      "metadata": {
        "id": "view-in-github",
        "colab_type": "text"
      },
      "source": [
        "<a href=\"https://colab.research.google.com/github/MahmoodInamdar/Python-projects-MI/blob/main/logistic_regression_Mahmood.ipynb\" target=\"_parent\"><img src=\"https://colab.research.google.com/assets/colab-badge.svg\" alt=\"Open In Colab\"/></a>"
      ]
    },
    {
      "cell_type": "markdown",
      "id": "korean-wednesday",
      "metadata": {
        "id": "korean-wednesday"
      },
      "source": [
        "# Logistic Regression\n",
        "You should build a machine learning pipeline using a logistic regression model. In particular, you should do the following:\n",
        "- Load the `mnist` dataset using [Pandas](https://pandas.pydata.org/docs/reference/api/pandas.read_csv.html). You can find this dataset in the datasets folder.\n",
        "- Split the dataset into training and test sets using [Scikit-Learn](https://scikit-learn.org/stable/modules/generated/sklearn.model_selection.train_test_split.html). \n",
        "- Train and test a logistic regression model using [Scikit-Learn](https://scikit-learn.org/stable/modules/generated/sklearn.linear_model.LogisticRegression.html).\n",
        "- Check the documentation to identify the most important hyperparameters, attributes, and methods of the model. Use them in practice."
      ]
    },
    {
      "cell_type": "markdown",
      "source": [
        "## Import libraries "
      ],
      "metadata": {
        "id": "WK09cF2WwbPT"
      },
      "id": "WK09cF2WwbPT"
    },
    {
      "cell_type": "code",
      "source": [
        "import pandas as pd\n",
        "import sklearn.model_selection\n",
        "import sklearn.linear_model\n",
        "import sklearn.metrics\n"
      ],
      "metadata": {
        "id": "admOHwylwyS4"
      },
      "id": "admOHwylwyS4",
      "execution_count": 14,
      "outputs": []
    },
    {
      "cell_type": "markdown",
      "source": [
        "## load data\n"
      ],
      "metadata": {
        "id": "rdL0ZEF1wbSr"
      },
      "id": "rdL0ZEF1wbSr"
    },
    {
      "cell_type": "code",
      "source": [
        "df = pd.read_csv('mnist.csv')\n",
        "df.head()"
      ],
      "metadata": {
        "colab": {
          "base_uri": "https://localhost:8080/",
          "height": 299
        },
        "id": "1S32WvaHwzBC",
        "outputId": "7b2339bc-6879-4020-a398-020600008535"
      },
      "id": "1S32WvaHwzBC",
      "execution_count": 4,
      "outputs": [
        {
          "output_type": "execute_result",
          "data": {
            "text/plain": [
              "      id  class  pixel1  pixel2  pixel3  pixel4  pixel5  pixel6  pixel7  \\\n",
              "0  31953      5       0       0       0       0       0       0       0   \n",
              "1  34452      8       0       0       0       0       0       0       0   \n",
              "2  60897      5       0       0       0       0       0       0       0   \n",
              "3  36953      0       0       0       0       0       0       0       0   \n",
              "4   1981      3       0       0       0       0       0       0       0   \n",
              "\n",
              "   pixel8  ...  pixel775  pixel776  pixel777  pixel778  pixel779  pixel780  \\\n",
              "0       0  ...         0         0         0         0         0         0   \n",
              "1       0  ...         0         0         0         0         0         0   \n",
              "2       0  ...         0         0         0         0         0         0   \n",
              "3       0  ...         0         0         0         0         0         0   \n",
              "4       0  ...         0         0         0         0         0         0   \n",
              "\n",
              "   pixel781  pixel782  pixel783  pixel784  \n",
              "0         0         0         0         0  \n",
              "1         0         0         0         0  \n",
              "2         0         0         0         0  \n",
              "3         0         0         0         0  \n",
              "4         0         0         0         0  \n",
              "\n",
              "[5 rows x 786 columns]"
            ],
            "text/html": [
              "\n",
              "  <div id=\"df-72825cf8-8114-4451-8f9e-a09cede63cfb\">\n",
              "    <div class=\"colab-df-container\">\n",
              "      <div>\n",
              "<style scoped>\n",
              "    .dataframe tbody tr th:only-of-type {\n",
              "        vertical-align: middle;\n",
              "    }\n",
              "\n",
              "    .dataframe tbody tr th {\n",
              "        vertical-align: top;\n",
              "    }\n",
              "\n",
              "    .dataframe thead th {\n",
              "        text-align: right;\n",
              "    }\n",
              "</style>\n",
              "<table border=\"1\" class=\"dataframe\">\n",
              "  <thead>\n",
              "    <tr style=\"text-align: right;\">\n",
              "      <th></th>\n",
              "      <th>id</th>\n",
              "      <th>class</th>\n",
              "      <th>pixel1</th>\n",
              "      <th>pixel2</th>\n",
              "      <th>pixel3</th>\n",
              "      <th>pixel4</th>\n",
              "      <th>pixel5</th>\n",
              "      <th>pixel6</th>\n",
              "      <th>pixel7</th>\n",
              "      <th>pixel8</th>\n",
              "      <th>...</th>\n",
              "      <th>pixel775</th>\n",
              "      <th>pixel776</th>\n",
              "      <th>pixel777</th>\n",
              "      <th>pixel778</th>\n",
              "      <th>pixel779</th>\n",
              "      <th>pixel780</th>\n",
              "      <th>pixel781</th>\n",
              "      <th>pixel782</th>\n",
              "      <th>pixel783</th>\n",
              "      <th>pixel784</th>\n",
              "    </tr>\n",
              "  </thead>\n",
              "  <tbody>\n",
              "    <tr>\n",
              "      <th>0</th>\n",
              "      <td>31953</td>\n",
              "      <td>5</td>\n",
              "      <td>0</td>\n",
              "      <td>0</td>\n",
              "      <td>0</td>\n",
              "      <td>0</td>\n",
              "      <td>0</td>\n",
              "      <td>0</td>\n",
              "      <td>0</td>\n",
              "      <td>0</td>\n",
              "      <td>...</td>\n",
              "      <td>0</td>\n",
              "      <td>0</td>\n",
              "      <td>0</td>\n",
              "      <td>0</td>\n",
              "      <td>0</td>\n",
              "      <td>0</td>\n",
              "      <td>0</td>\n",
              "      <td>0</td>\n",
              "      <td>0</td>\n",
              "      <td>0</td>\n",
              "    </tr>\n",
              "    <tr>\n",
              "      <th>1</th>\n",
              "      <td>34452</td>\n",
              "      <td>8</td>\n",
              "      <td>0</td>\n",
              "      <td>0</td>\n",
              "      <td>0</td>\n",
              "      <td>0</td>\n",
              "      <td>0</td>\n",
              "      <td>0</td>\n",
              "      <td>0</td>\n",
              "      <td>0</td>\n",
              "      <td>...</td>\n",
              "      <td>0</td>\n",
              "      <td>0</td>\n",
              "      <td>0</td>\n",
              "      <td>0</td>\n",
              "      <td>0</td>\n",
              "      <td>0</td>\n",
              "      <td>0</td>\n",
              "      <td>0</td>\n",
              "      <td>0</td>\n",
              "      <td>0</td>\n",
              "    </tr>\n",
              "    <tr>\n",
              "      <th>2</th>\n",
              "      <td>60897</td>\n",
              "      <td>5</td>\n",
              "      <td>0</td>\n",
              "      <td>0</td>\n",
              "      <td>0</td>\n",
              "      <td>0</td>\n",
              "      <td>0</td>\n",
              "      <td>0</td>\n",
              "      <td>0</td>\n",
              "      <td>0</td>\n",
              "      <td>...</td>\n",
              "      <td>0</td>\n",
              "      <td>0</td>\n",
              "      <td>0</td>\n",
              "      <td>0</td>\n",
              "      <td>0</td>\n",
              "      <td>0</td>\n",
              "      <td>0</td>\n",
              "      <td>0</td>\n",
              "      <td>0</td>\n",
              "      <td>0</td>\n",
              "    </tr>\n",
              "    <tr>\n",
              "      <th>3</th>\n",
              "      <td>36953</td>\n",
              "      <td>0</td>\n",
              "      <td>0</td>\n",
              "      <td>0</td>\n",
              "      <td>0</td>\n",
              "      <td>0</td>\n",
              "      <td>0</td>\n",
              "      <td>0</td>\n",
              "      <td>0</td>\n",
              "      <td>0</td>\n",
              "      <td>...</td>\n",
              "      <td>0</td>\n",
              "      <td>0</td>\n",
              "      <td>0</td>\n",
              "      <td>0</td>\n",
              "      <td>0</td>\n",
              "      <td>0</td>\n",
              "      <td>0</td>\n",
              "      <td>0</td>\n",
              "      <td>0</td>\n",
              "      <td>0</td>\n",
              "    </tr>\n",
              "    <tr>\n",
              "      <th>4</th>\n",
              "      <td>1981</td>\n",
              "      <td>3</td>\n",
              "      <td>0</td>\n",
              "      <td>0</td>\n",
              "      <td>0</td>\n",
              "      <td>0</td>\n",
              "      <td>0</td>\n",
              "      <td>0</td>\n",
              "      <td>0</td>\n",
              "      <td>0</td>\n",
              "      <td>...</td>\n",
              "      <td>0</td>\n",
              "      <td>0</td>\n",
              "      <td>0</td>\n",
              "      <td>0</td>\n",
              "      <td>0</td>\n",
              "      <td>0</td>\n",
              "      <td>0</td>\n",
              "      <td>0</td>\n",
              "      <td>0</td>\n",
              "      <td>0</td>\n",
              "    </tr>\n",
              "  </tbody>\n",
              "</table>\n",
              "<p>5 rows × 786 columns</p>\n",
              "</div>\n",
              "      <button class=\"colab-df-convert\" onclick=\"convertToInteractive('df-72825cf8-8114-4451-8f9e-a09cede63cfb')\"\n",
              "              title=\"Convert this dataframe to an interactive table.\"\n",
              "              style=\"display:none;\">\n",
              "        \n",
              "  <svg xmlns=\"http://www.w3.org/2000/svg\" height=\"24px\"viewBox=\"0 0 24 24\"\n",
              "       width=\"24px\">\n",
              "    <path d=\"M0 0h24v24H0V0z\" fill=\"none\"/>\n",
              "    <path d=\"M18.56 5.44l.94 2.06.94-2.06 2.06-.94-2.06-.94-.94-2.06-.94 2.06-2.06.94zm-11 1L8.5 8.5l.94-2.06 2.06-.94-2.06-.94L8.5 2.5l-.94 2.06-2.06.94zm10 10l.94 2.06.94-2.06 2.06-.94-2.06-.94-.94-2.06-.94 2.06-2.06.94z\"/><path d=\"M17.41 7.96l-1.37-1.37c-.4-.4-.92-.59-1.43-.59-.52 0-1.04.2-1.43.59L10.3 9.45l-7.72 7.72c-.78.78-.78 2.05 0 2.83L4 21.41c.39.39.9.59 1.41.59.51 0 1.02-.2 1.41-.59l7.78-7.78 2.81-2.81c.8-.78.8-2.07 0-2.86zM5.41 20L4 18.59l7.72-7.72 1.47 1.35L5.41 20z\"/>\n",
              "  </svg>\n",
              "      </button>\n",
              "      \n",
              "  <style>\n",
              "    .colab-df-container {\n",
              "      display:flex;\n",
              "      flex-wrap:wrap;\n",
              "      gap: 12px;\n",
              "    }\n",
              "\n",
              "    .colab-df-convert {\n",
              "      background-color: #E8F0FE;\n",
              "      border: none;\n",
              "      border-radius: 50%;\n",
              "      cursor: pointer;\n",
              "      display: none;\n",
              "      fill: #1967D2;\n",
              "      height: 32px;\n",
              "      padding: 0 0 0 0;\n",
              "      width: 32px;\n",
              "    }\n",
              "\n",
              "    .colab-df-convert:hover {\n",
              "      background-color: #E2EBFA;\n",
              "      box-shadow: 0px 1px 2px rgba(60, 64, 67, 0.3), 0px 1px 3px 1px rgba(60, 64, 67, 0.15);\n",
              "      fill: #174EA6;\n",
              "    }\n",
              "\n",
              "    [theme=dark] .colab-df-convert {\n",
              "      background-color: #3B4455;\n",
              "      fill: #D2E3FC;\n",
              "    }\n",
              "\n",
              "    [theme=dark] .colab-df-convert:hover {\n",
              "      background-color: #434B5C;\n",
              "      box-shadow: 0px 1px 3px 1px rgba(0, 0, 0, 0.15);\n",
              "      filter: drop-shadow(0px 1px 2px rgba(0, 0, 0, 0.3));\n",
              "      fill: #FFFFFF;\n",
              "    }\n",
              "  </style>\n",
              "\n",
              "      <script>\n",
              "        const buttonEl =\n",
              "          document.querySelector('#df-72825cf8-8114-4451-8f9e-a09cede63cfb button.colab-df-convert');\n",
              "        buttonEl.style.display =\n",
              "          google.colab.kernel.accessAllowed ? 'block' : 'none';\n",
              "\n",
              "        async function convertToInteractive(key) {\n",
              "          const element = document.querySelector('#df-72825cf8-8114-4451-8f9e-a09cede63cfb');\n",
              "          const dataTable =\n",
              "            await google.colab.kernel.invokeFunction('convertToInteractive',\n",
              "                                                     [key], {});\n",
              "          if (!dataTable) return;\n",
              "\n",
              "          const docLinkHtml = 'Like what you see? Visit the ' +\n",
              "            '<a target=\"_blank\" href=https://colab.research.google.com/notebooks/data_table.ipynb>data table notebook</a>'\n",
              "            + ' to learn more about interactive tables.';\n",
              "          element.innerHTML = '';\n",
              "          dataTable['output_type'] = 'display_data';\n",
              "          await google.colab.output.renderOutput(dataTable, element);\n",
              "          const docLink = document.createElement('div');\n",
              "          docLink.innerHTML = docLinkHtml;\n",
              "          element.appendChild(docLink);\n",
              "        }\n",
              "      </script>\n",
              "    </div>\n",
              "  </div>\n",
              "  "
            ]
          },
          "metadata": {},
          "execution_count": 4
        }
      ]
    },
    {
      "cell_type": "markdown",
      "source": [
        "## Split the dataset into training and test sets"
      ],
      "metadata": {
        "id": "u6YOgHfMwbeY"
      },
      "id": "u6YOgHfMwbeY"
    },
    {
      "cell_type": "code",
      "source": [
        "x = df.drop([\"class\",\"id\"], axis=1)\n",
        "y = df[\"class\"]\n",
        "\n",
        "x_train, x_test, y_train, y_test = sklearn.model_selection.train_test_split(x,y)\n",
        "print(\"df:\" , df.shape)\n",
        "print(\"x_train:\" , x_train.shape)\n",
        "print(\"x_test:\" , x_test.shape)\n",
        "print(\"y_train:\" , y_train.shape)\n",
        "print(\"y_test:\" , y_test.shape)\n"
      ],
      "metadata": {
        "colab": {
          "base_uri": "https://localhost:8080/"
        },
        "id": "JVdVyM18wzqR",
        "outputId": "9753b270-a956-4abc-890f-84e22252ba31"
      },
      "id": "JVdVyM18wzqR",
      "execution_count": 6,
      "outputs": [
        {
          "output_type": "stream",
          "name": "stdout",
          "text": [
            "df: (4000, 786)\n",
            "x_train: (3000, 784)\n",
            "x_test: (1000, 784)\n",
            "y_train: (3000,)\n",
            "y_test: (1000,)\n"
          ]
        }
      ]
    },
    {
      "cell_type": "markdown",
      "source": [
        "## Train the data\n"
      ],
      "metadata": {
        "id": "f7MgfuVSwbku"
      },
      "id": "f7MgfuVSwbku"
    },
    {
      "cell_type": "code",
      "source": [
        "model = sklearn.linear_model.LogisticRegression(max_iter = 10000)\n",
        "model.fit(x_train , y_train)"
      ],
      "metadata": {
        "colab": {
          "base_uri": "https://localhost:8080/"
        },
        "id": "MQJyyogrw0SY",
        "outputId": "09f4c3c7-ddc6-474b-bceb-a11fe0087c84"
      },
      "id": "MQJyyogrw0SY",
      "execution_count": 9,
      "outputs": [
        {
          "output_type": "execute_result",
          "data": {
            "text/plain": [
              "LogisticRegression(max_iter=10000)"
            ]
          },
          "metadata": {},
          "execution_count": 9
        }
      ]
    },
    {
      "cell_type": "markdown",
      "source": [
        "## test the data\n"
      ],
      "metadata": {
        "id": "hbx5KVgmwbt2"
      },
      "id": "hbx5KVgmwbt2"
    },
    {
      "cell_type": "code",
      "source": [
        "y_predicted = model.predict(x_test)\n",
        "y_predicted"
      ],
      "metadata": {
        "colab": {
          "base_uri": "https://localhost:8080/"
        },
        "id": "WcSEHevs4xCr",
        "outputId": "45b3a12f-29c2-481a-eca3-f8854356c508"
      },
      "id": "WcSEHevs4xCr",
      "execution_count": 17,
      "outputs": [
        {
          "output_type": "execute_result",
          "data": {
            "text/plain": [
              "array([5, 6, 0, 9, 8, 6, 1, 3, 0, 0, 5, 3, 2, 8, 5, 1, 2, 3, 4, 7, 5, 2,\n",
              "       5, 7, 2, 2, 2, 4, 6, 3, 6, 9, 1, 3, 5, 8, 6, 2, 6, 5, 4, 4, 4, 3,\n",
              "       4, 4, 8, 0, 1, 1, 1, 4, 9, 5, 3, 9, 8, 9, 9, 1, 2, 8, 4, 2, 7, 6,\n",
              "       0, 8, 9, 6, 7, 4, 1, 9, 3, 7, 4, 1, 5, 4, 7, 5, 1, 8, 6, 4, 6, 4,\n",
              "       6, 6, 0, 7, 7, 7, 4, 1, 2, 9, 6, 8, 3, 1, 1, 1, 4, 3, 9, 1, 5, 1,\n",
              "       8, 7, 2, 0, 0, 2, 7, 0, 5, 0, 6, 1, 1, 8, 9, 6, 7, 3, 5, 5, 9, 6,\n",
              "       8, 7, 3, 8, 3, 9, 2, 1, 2, 7, 1, 3, 2, 4, 6, 8, 8, 5, 1, 2, 4, 8,\n",
              "       9, 5, 1, 9, 5, 4, 1, 8, 9, 9, 0, 3, 2, 0, 4, 0, 8, 0, 2, 4, 7, 2,\n",
              "       6, 4, 4, 5, 0, 9, 5, 1, 2, 5, 1, 7, 5, 6, 6, 1, 0, 7, 4, 1, 4, 6,\n",
              "       4, 5, 1, 2, 0, 2, 1, 7, 7, 6, 1, 8, 1, 1, 2, 4, 1, 6, 7, 6, 2, 8,\n",
              "       2, 4, 9, 8, 7, 5, 3, 4, 1, 3, 6, 7, 4, 0, 0, 3, 3, 6, 3, 5, 1, 1,\n",
              "       6, 3, 6, 7, 1, 0, 0, 9, 8, 1, 1, 9, 3, 0, 3, 7, 1, 8, 7, 5, 1, 7,\n",
              "       7, 6, 4, 0, 4, 0, 2, 8, 1, 4, 7, 6, 3, 2, 0, 1, 0, 1, 8, 4, 6, 6,\n",
              "       7, 2, 7, 4, 7, 1, 4, 3, 7, 4, 4, 6, 2, 7, 5, 9, 6, 9, 0, 7, 5, 2,\n",
              "       7, 9, 7, 2, 5, 3, 3, 5, 9, 7, 9, 6, 7, 0, 0, 3, 6, 0, 2, 7, 4, 1,\n",
              "       6, 4, 2, 4, 2, 0, 8, 5, 7, 6, 0, 6, 4, 4, 1, 8, 3, 0, 6, 9, 9, 9,\n",
              "       1, 8, 1, 1, 6, 2, 1, 0, 6, 7, 5, 0, 0, 3, 6, 5, 0, 9, 2, 0, 7, 9,\n",
              "       6, 6, 2, 8, 3, 0, 7, 1, 5, 5, 8, 0, 4, 7, 6, 3, 8, 8, 0, 5, 5, 4,\n",
              "       3, 0, 4, 4, 8, 6, 5, 1, 5, 6, 7, 9, 0, 5, 3, 1, 8, 0, 4, 7, 5, 2,\n",
              "       9, 1, 1, 1, 8, 2, 6, 8, 1, 3, 6, 1, 9, 1, 8, 2, 8, 9, 4, 8, 7, 3,\n",
              "       8, 1, 8, 4, 3, 1, 7, 3, 2, 3, 3, 8, 5, 6, 2, 5, 0, 9, 7, 6, 8, 9,\n",
              "       1, 1, 7, 8, 1, 8, 1, 6, 8, 3, 7, 7, 2, 2, 9, 0, 6, 9, 7, 6, 1, 9,\n",
              "       7, 9, 2, 7, 2, 4, 6, 7, 1, 5, 9, 2, 0, 1, 9, 9, 7, 8, 9, 0, 0, 7,\n",
              "       0, 8, 7, 0, 5, 8, 5, 4, 2, 5, 3, 2, 6, 4, 9, 0, 6, 4, 8, 2, 7, 7,\n",
              "       2, 0, 8, 2, 9, 6, 8, 6, 3, 3, 7, 3, 3, 6, 9, 0, 1, 0, 1, 0, 1, 1,\n",
              "       6, 9, 1, 0, 7, 1, 5, 3, 4, 2, 9, 0, 7, 2, 0, 7, 2, 6, 7, 8, 5, 8,\n",
              "       3, 1, 3, 2, 1, 8, 3, 2, 6, 0, 9, 1, 9, 9, 1, 3, 2, 3, 8, 0, 1, 3,\n",
              "       6, 6, 2, 6, 2, 3, 0, 7, 5, 2, 4, 8, 9, 8, 9, 0, 5, 6, 9, 3, 1, 9,\n",
              "       3, 2, 6, 9, 6, 5, 4, 5, 4, 8, 2, 1, 3, 5, 6, 4, 6, 4, 0, 0, 1, 2,\n",
              "       1, 6, 1, 3, 1, 5, 3, 5, 3, 3, 2, 7, 6, 3, 3, 8, 5, 9, 3, 6, 2, 9,\n",
              "       4, 5, 5, 8, 2, 3, 6, 2, 7, 1, 7, 2, 0, 2, 3, 0, 2, 7, 7, 5, 2, 8,\n",
              "       8, 9, 5, 6, 3, 3, 4, 0, 3, 1, 0, 5, 4, 1, 1, 1, 8, 2, 1, 6, 2, 7,\n",
              "       7, 1, 2, 5, 9, 1, 7, 6, 6, 0, 9, 5, 1, 6, 7, 3, 8, 9, 3, 3, 4, 2,\n",
              "       8, 7, 8, 1, 9, 3, 5, 1, 9, 4, 8, 1, 6, 3, 5, 7, 0, 9, 5, 2, 1, 1,\n",
              "       1, 1, 9, 4, 9, 7, 3, 3, 9, 3, 3, 1, 6, 8, 5, 6, 2, 8, 8, 3, 9, 4,\n",
              "       6, 3, 5, 2, 1, 6, 2, 7, 9, 5, 1, 6, 0, 5, 4, 0, 5, 3, 4, 5, 3, 9,\n",
              "       5, 3, 5, 8, 5, 1, 2, 5, 1, 1, 4, 3, 6, 4, 6, 2, 4, 0, 8, 2, 9, 3,\n",
              "       3, 2, 3, 9, 6, 5, 0, 9, 8, 6, 9, 2, 3, 2, 1, 4, 8, 8, 2, 1, 6, 4,\n",
              "       8, 0, 4, 0, 8, 7, 7, 2, 8, 1, 5, 2, 3, 6, 5, 5, 7, 8, 7, 4, 5, 1,\n",
              "       5, 1, 8, 8, 2, 3, 9, 5, 1, 0, 9, 8, 1, 2, 1, 5, 2, 7, 1, 6, 6, 2,\n",
              "       6, 6, 8, 3, 3, 8, 0, 2, 9, 4, 2, 8, 9, 3, 8, 0, 8, 9, 4, 4, 5, 3,\n",
              "       3, 0, 8, 3, 8, 1, 7, 7, 7, 6, 3, 4, 7, 2, 9, 7, 3, 5, 6, 3, 2, 8,\n",
              "       4, 2, 8, 9, 8, 0, 9, 1, 2, 4, 1, 7, 3, 3, 7, 9, 7, 5, 3, 8, 6, 7,\n",
              "       2, 2, 7, 8, 4, 0, 7, 0, 2, 7, 3, 1, 7, 4, 3, 1, 1, 3, 4, 2, 7, 6,\n",
              "       0, 8, 1, 4, 9, 7, 0, 9, 4, 0, 2, 1, 6, 7, 6, 8, 1, 7, 3, 1, 3, 5,\n",
              "       6, 8, 4, 4, 6, 4, 6, 4, 2, 7])"
            ]
          },
          "metadata": {},
          "execution_count": 17
        }
      ]
    },
    {
      "cell_type": "markdown",
      "source": [
        "## Accuracy Test\n",
        "\n"
      ],
      "metadata": {
        "id": "_Xd1UwDd5Rh1"
      },
      "id": "_Xd1UwDd5Rh1"
    },
    {
      "cell_type": "code",
      "source": [
        "from sklearn.metrics import accuracy_score\n",
        "accuracy_score(y_test,y_predicted)"
      ],
      "metadata": {
        "colab": {
          "base_uri": "https://localhost:8080/"
        },
        "id": "Hc0LPViZ450n",
        "outputId": "fec03590-cedd-44c7-bca5-e94c1691f59d"
      },
      "id": "Hc0LPViZ450n",
      "execution_count": 19,
      "outputs": [
        {
          "output_type": "execute_result",
          "data": {
            "text/plain": [
              "0.867"
            ]
          },
          "metadata": {},
          "execution_count": 19
        }
      ]
    }
  ],
  "metadata": {
    "kernelspec": {
      "display_name": "Python 3",
      "language": "python",
      "name": "python3"
    },
    "language_info": {
      "codemirror_mode": {
        "name": "ipython",
        "version": 3
      },
      "file_extension": ".py",
      "mimetype": "text/x-python",
      "name": "python",
      "nbconvert_exporter": "python",
      "pygments_lexer": "ipython3",
      "version": "3.8.5"
    },
    "colab": {
      "provenance": [],
      "include_colab_link": true
    }
  },
  "nbformat": 4,
  "nbformat_minor": 5
}