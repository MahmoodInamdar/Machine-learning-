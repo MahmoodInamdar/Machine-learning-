{
  "cells": [
    {
      "cell_type": "markdown",
      "metadata": {
        "id": "view-in-github",
        "colab_type": "text"
      },
      "source": [
        "<a href=\"https://colab.research.google.com/github/MahmoodInamdar/Python-projects-MI/blob/main/naive_bayes_mahmood.ipynb\" target=\"_parent\"><img src=\"https://colab.research.google.com/assets/colab-badge.svg\" alt=\"Open In Colab\"/></a>"
      ]
    },
    {
      "cell_type": "markdown",
      "id": "korean-wednesday",
      "metadata": {
        "id": "korean-wednesday"
      },
      "source": [
        "# Naive Bayes\n",
        "You should build a machine learning pipeline using a naive bayes model. In particular, you should do the following:\n",
        "- Load the `mnist` dataset using [Pandas](https://pandas.pydata.org/docs/reference/api/pandas.read_csv.html). You can find this dataset in the datasets folder.\n",
        "- Split the dataset into training and test sets using [Scikit-Learn](https://scikit-learn.org/stable/modules/generated/sklearn.model_selection.train_test_split.html). \n",
        "- Train and test a naive bayes model using [Scikit-Learn](https://scikit-learn.org/stable/modules/generated/sklearn.naive_bayes.GaussianNB.html).\n",
        "- Check the documentation to identify the most important hyperparameters, attributes, and methods of the model. Use them in practice."
      ]
    },
    {
      "cell_type": "markdown",
      "source": [
        "## library"
      ],
      "metadata": {
        "id": "2Al2dXdoU3Dh"
      },
      "id": "2Al2dXdoU3Dh"
    },
    {
      "cell_type": "code",
      "source": [
        "import pandas as pd\n",
        "import sklearn.model_selection\n",
        "import sklearn.naive_bayes"
      ],
      "metadata": {
        "id": "vNIBSOiEVGjH"
      },
      "id": "vNIBSOiEVGjH",
      "execution_count": 19,
      "outputs": []
    },
    {
      "cell_type": "markdown",
      "source": [
        "##load data"
      ],
      "metadata": {
        "id": "NImXS8_sU3GI"
      },
      "id": "NImXS8_sU3GI"
    },
    {
      "cell_type": "code",
      "source": [
        "df = pd.read_csv(\"mnist.csv\")\n",
        "df = df.set_index(\"id\")\n",
        "df.head()"
      ],
      "metadata": {
        "colab": {
          "base_uri": "https://localhost:8080/",
          "height": 331
        },
        "id": "gX2H4HTKVHQd",
        "outputId": "2c9d682f-3b23-4ab2-89e4-6ff5873ad775"
      },
      "id": "gX2H4HTKVHQd",
      "execution_count": 17,
      "outputs": [
        {
          "output_type": "execute_result",
          "data": {
            "text/plain": [
              "       class  pixel1  pixel2  pixel3  pixel4  pixel5  pixel6  pixel7  pixel8  \\\n",
              "id                                                                             \n",
              "31953      5       0       0       0       0       0       0       0       0   \n",
              "34452      8       0       0       0       0       0       0       0       0   \n",
              "60897      5       0       0       0       0       0       0       0       0   \n",
              "36953      0       0       0       0       0       0       0       0       0   \n",
              "1981       3       0       0       0       0       0       0       0       0   \n",
              "\n",
              "       pixel9  ...  pixel775  pixel776  pixel777  pixel778  pixel779  \\\n",
              "id             ...                                                     \n",
              "31953       0  ...         0         0         0         0         0   \n",
              "34452       0  ...         0         0         0         0         0   \n",
              "60897       0  ...         0         0         0         0         0   \n",
              "36953       0  ...         0         0         0         0         0   \n",
              "1981        0  ...         0         0         0         0         0   \n",
              "\n",
              "       pixel780  pixel781  pixel782  pixel783  pixel784  \n",
              "id                                                       \n",
              "31953         0         0         0         0         0  \n",
              "34452         0         0         0         0         0  \n",
              "60897         0         0         0         0         0  \n",
              "36953         0         0         0         0         0  \n",
              "1981          0         0         0         0         0  \n",
              "\n",
              "[5 rows x 785 columns]"
            ],
            "text/html": [
              "\n",
              "  <div id=\"df-50c86422-7990-4899-b7ec-fb4cf9d5dcd5\">\n",
              "    <div class=\"colab-df-container\">\n",
              "      <div>\n",
              "<style scoped>\n",
              "    .dataframe tbody tr th:only-of-type {\n",
              "        vertical-align: middle;\n",
              "    }\n",
              "\n",
              "    .dataframe tbody tr th {\n",
              "        vertical-align: top;\n",
              "    }\n",
              "\n",
              "    .dataframe thead th {\n",
              "        text-align: right;\n",
              "    }\n",
              "</style>\n",
              "<table border=\"1\" class=\"dataframe\">\n",
              "  <thead>\n",
              "    <tr style=\"text-align: right;\">\n",
              "      <th></th>\n",
              "      <th>class</th>\n",
              "      <th>pixel1</th>\n",
              "      <th>pixel2</th>\n",
              "      <th>pixel3</th>\n",
              "      <th>pixel4</th>\n",
              "      <th>pixel5</th>\n",
              "      <th>pixel6</th>\n",
              "      <th>pixel7</th>\n",
              "      <th>pixel8</th>\n",
              "      <th>pixel9</th>\n",
              "      <th>...</th>\n",
              "      <th>pixel775</th>\n",
              "      <th>pixel776</th>\n",
              "      <th>pixel777</th>\n",
              "      <th>pixel778</th>\n",
              "      <th>pixel779</th>\n",
              "      <th>pixel780</th>\n",
              "      <th>pixel781</th>\n",
              "      <th>pixel782</th>\n",
              "      <th>pixel783</th>\n",
              "      <th>pixel784</th>\n",
              "    </tr>\n",
              "    <tr>\n",
              "      <th>id</th>\n",
              "      <th></th>\n",
              "      <th></th>\n",
              "      <th></th>\n",
              "      <th></th>\n",
              "      <th></th>\n",
              "      <th></th>\n",
              "      <th></th>\n",
              "      <th></th>\n",
              "      <th></th>\n",
              "      <th></th>\n",
              "      <th></th>\n",
              "      <th></th>\n",
              "      <th></th>\n",
              "      <th></th>\n",
              "      <th></th>\n",
              "      <th></th>\n",
              "      <th></th>\n",
              "      <th></th>\n",
              "      <th></th>\n",
              "      <th></th>\n",
              "      <th></th>\n",
              "    </tr>\n",
              "  </thead>\n",
              "  <tbody>\n",
              "    <tr>\n",
              "      <th>31953</th>\n",
              "      <td>5</td>\n",
              "      <td>0</td>\n",
              "      <td>0</td>\n",
              "      <td>0</td>\n",
              "      <td>0</td>\n",
              "      <td>0</td>\n",
              "      <td>0</td>\n",
              "      <td>0</td>\n",
              "      <td>0</td>\n",
              "      <td>0</td>\n",
              "      <td>...</td>\n",
              "      <td>0</td>\n",
              "      <td>0</td>\n",
              "      <td>0</td>\n",
              "      <td>0</td>\n",
              "      <td>0</td>\n",
              "      <td>0</td>\n",
              "      <td>0</td>\n",
              "      <td>0</td>\n",
              "      <td>0</td>\n",
              "      <td>0</td>\n",
              "    </tr>\n",
              "    <tr>\n",
              "      <th>34452</th>\n",
              "      <td>8</td>\n",
              "      <td>0</td>\n",
              "      <td>0</td>\n",
              "      <td>0</td>\n",
              "      <td>0</td>\n",
              "      <td>0</td>\n",
              "      <td>0</td>\n",
              "      <td>0</td>\n",
              "      <td>0</td>\n",
              "      <td>0</td>\n",
              "      <td>...</td>\n",
              "      <td>0</td>\n",
              "      <td>0</td>\n",
              "      <td>0</td>\n",
              "      <td>0</td>\n",
              "      <td>0</td>\n",
              "      <td>0</td>\n",
              "      <td>0</td>\n",
              "      <td>0</td>\n",
              "      <td>0</td>\n",
              "      <td>0</td>\n",
              "    </tr>\n",
              "    <tr>\n",
              "      <th>60897</th>\n",
              "      <td>5</td>\n",
              "      <td>0</td>\n",
              "      <td>0</td>\n",
              "      <td>0</td>\n",
              "      <td>0</td>\n",
              "      <td>0</td>\n",
              "      <td>0</td>\n",
              "      <td>0</td>\n",
              "      <td>0</td>\n",
              "      <td>0</td>\n",
              "      <td>...</td>\n",
              "      <td>0</td>\n",
              "      <td>0</td>\n",
              "      <td>0</td>\n",
              "      <td>0</td>\n",
              "      <td>0</td>\n",
              "      <td>0</td>\n",
              "      <td>0</td>\n",
              "      <td>0</td>\n",
              "      <td>0</td>\n",
              "      <td>0</td>\n",
              "    </tr>\n",
              "    <tr>\n",
              "      <th>36953</th>\n",
              "      <td>0</td>\n",
              "      <td>0</td>\n",
              "      <td>0</td>\n",
              "      <td>0</td>\n",
              "      <td>0</td>\n",
              "      <td>0</td>\n",
              "      <td>0</td>\n",
              "      <td>0</td>\n",
              "      <td>0</td>\n",
              "      <td>0</td>\n",
              "      <td>...</td>\n",
              "      <td>0</td>\n",
              "      <td>0</td>\n",
              "      <td>0</td>\n",
              "      <td>0</td>\n",
              "      <td>0</td>\n",
              "      <td>0</td>\n",
              "      <td>0</td>\n",
              "      <td>0</td>\n",
              "      <td>0</td>\n",
              "      <td>0</td>\n",
              "    </tr>\n",
              "    <tr>\n",
              "      <th>1981</th>\n",
              "      <td>3</td>\n",
              "      <td>0</td>\n",
              "      <td>0</td>\n",
              "      <td>0</td>\n",
              "      <td>0</td>\n",
              "      <td>0</td>\n",
              "      <td>0</td>\n",
              "      <td>0</td>\n",
              "      <td>0</td>\n",
              "      <td>0</td>\n",
              "      <td>...</td>\n",
              "      <td>0</td>\n",
              "      <td>0</td>\n",
              "      <td>0</td>\n",
              "      <td>0</td>\n",
              "      <td>0</td>\n",
              "      <td>0</td>\n",
              "      <td>0</td>\n",
              "      <td>0</td>\n",
              "      <td>0</td>\n",
              "      <td>0</td>\n",
              "    </tr>\n",
              "  </tbody>\n",
              "</table>\n",
              "<p>5 rows × 785 columns</p>\n",
              "</div>\n",
              "      <button class=\"colab-df-convert\" onclick=\"convertToInteractive('df-50c86422-7990-4899-b7ec-fb4cf9d5dcd5')\"\n",
              "              title=\"Convert this dataframe to an interactive table.\"\n",
              "              style=\"display:none;\">\n",
              "        \n",
              "  <svg xmlns=\"http://www.w3.org/2000/svg\" height=\"24px\"viewBox=\"0 0 24 24\"\n",
              "       width=\"24px\">\n",
              "    <path d=\"M0 0h24v24H0V0z\" fill=\"none\"/>\n",
              "    <path d=\"M18.56 5.44l.94 2.06.94-2.06 2.06-.94-2.06-.94-.94-2.06-.94 2.06-2.06.94zm-11 1L8.5 8.5l.94-2.06 2.06-.94-2.06-.94L8.5 2.5l-.94 2.06-2.06.94zm10 10l.94 2.06.94-2.06 2.06-.94-2.06-.94-.94-2.06-.94 2.06-2.06.94z\"/><path d=\"M17.41 7.96l-1.37-1.37c-.4-.4-.92-.59-1.43-.59-.52 0-1.04.2-1.43.59L10.3 9.45l-7.72 7.72c-.78.78-.78 2.05 0 2.83L4 21.41c.39.39.9.59 1.41.59.51 0 1.02-.2 1.41-.59l7.78-7.78 2.81-2.81c.8-.78.8-2.07 0-2.86zM5.41 20L4 18.59l7.72-7.72 1.47 1.35L5.41 20z\"/>\n",
              "  </svg>\n",
              "      </button>\n",
              "      \n",
              "  <style>\n",
              "    .colab-df-container {\n",
              "      display:flex;\n",
              "      flex-wrap:wrap;\n",
              "      gap: 12px;\n",
              "    }\n",
              "\n",
              "    .colab-df-convert {\n",
              "      background-color: #E8F0FE;\n",
              "      border: none;\n",
              "      border-radius: 50%;\n",
              "      cursor: pointer;\n",
              "      display: none;\n",
              "      fill: #1967D2;\n",
              "      height: 32px;\n",
              "      padding: 0 0 0 0;\n",
              "      width: 32px;\n",
              "    }\n",
              "\n",
              "    .colab-df-convert:hover {\n",
              "      background-color: #E2EBFA;\n",
              "      box-shadow: 0px 1px 2px rgba(60, 64, 67, 0.3), 0px 1px 3px 1px rgba(60, 64, 67, 0.15);\n",
              "      fill: #174EA6;\n",
              "    }\n",
              "\n",
              "    [theme=dark] .colab-df-convert {\n",
              "      background-color: #3B4455;\n",
              "      fill: #D2E3FC;\n",
              "    }\n",
              "\n",
              "    [theme=dark] .colab-df-convert:hover {\n",
              "      background-color: #434B5C;\n",
              "      box-shadow: 0px 1px 3px 1px rgba(0, 0, 0, 0.15);\n",
              "      filter: drop-shadow(0px 1px 2px rgba(0, 0, 0, 0.3));\n",
              "      fill: #FFFFFF;\n",
              "    }\n",
              "  </style>\n",
              "\n",
              "      <script>\n",
              "        const buttonEl =\n",
              "          document.querySelector('#df-50c86422-7990-4899-b7ec-fb4cf9d5dcd5 button.colab-df-convert');\n",
              "        buttonEl.style.display =\n",
              "          google.colab.kernel.accessAllowed ? 'block' : 'none';\n",
              "\n",
              "        async function convertToInteractive(key) {\n",
              "          const element = document.querySelector('#df-50c86422-7990-4899-b7ec-fb4cf9d5dcd5');\n",
              "          const dataTable =\n",
              "            await google.colab.kernel.invokeFunction('convertToInteractive',\n",
              "                                                     [key], {});\n",
              "          if (!dataTable) return;\n",
              "\n",
              "          const docLinkHtml = 'Like what you see? Visit the ' +\n",
              "            '<a target=\"_blank\" href=https://colab.research.google.com/notebooks/data_table.ipynb>data table notebook</a>'\n",
              "            + ' to learn more about interactive tables.';\n",
              "          element.innerHTML = '';\n",
              "          dataTable['output_type'] = 'display_data';\n",
              "          await google.colab.output.renderOutput(dataTable, element);\n",
              "          const docLink = document.createElement('div');\n",
              "          docLink.innerHTML = docLinkHtml;\n",
              "          element.appendChild(docLink);\n",
              "        }\n",
              "      </script>\n",
              "    </div>\n",
              "  </div>\n",
              "  "
            ]
          },
          "metadata": {},
          "execution_count": 17
        }
      ]
    },
    {
      "cell_type": "markdown",
      "source": [
        "## split"
      ],
      "metadata": {
        "id": "LMVFzQSMU3Ih"
      },
      "id": "LMVFzQSMU3Ih"
    },
    {
      "cell_type": "code",
      "source": [
        "x = df.drop([\"class\"], axis=1)\n",
        "y = df[\"class\"]\n",
        "\n",
        "X_train, X_test, y_train, y_test = sklearn.model_selection.train_test_split(x,y)\n",
        "\n",
        "print(\"df:\" , df.shape)\n",
        "print(\"X_train:\" , X_train.shape)\n",
        "print(\"X_test:\" , X_test.shape)\n",
        "print(\"y_train:\" , y_train.shape)\n",
        "print(\"y_test:\" , y_test.shape)\n",
        "\n"
      ],
      "metadata": {
        "colab": {
          "base_uri": "https://localhost:8080/"
        },
        "id": "tBP_3P0LVHxc",
        "outputId": "0a77c1b1-3739-46df-f8c9-dd84cf77c0c7"
      },
      "id": "tBP_3P0LVHxc",
      "execution_count": 18,
      "outputs": [
        {
          "output_type": "stream",
          "name": "stdout",
          "text": [
            "df: (4000, 785)\n",
            "X_train: (3000, 784)\n",
            "X_test: (1000, 784)\n",
            "y_train: (3000,)\n",
            "y_test: (1000,)\n"
          ]
        }
      ]
    },
    {
      "cell_type": "markdown",
      "source": [
        "## train\n"
      ],
      "metadata": {
        "id": "UHBCAAVhU3LI"
      },
      "id": "UHBCAAVhU3LI"
    },
    {
      "cell_type": "code",
      "source": [
        "model = sklearn.naive_bayes.GaussianNB()\n",
        "model.fit(X_train,y_train)"
      ],
      "metadata": {
        "colab": {
          "base_uri": "https://localhost:8080/"
        },
        "id": "dQT4UDYsVIbE",
        "outputId": "1f5bf188-a3aa-4d01-ad42-0ae5ab4eeca7"
      },
      "id": "dQT4UDYsVIbE",
      "execution_count": 21,
      "outputs": [
        {
          "output_type": "execute_result",
          "data": {
            "text/plain": [
              "GaussianNB()"
            ]
          },
          "metadata": {},
          "execution_count": 21
        }
      ]
    },
    {
      "cell_type": "markdown",
      "source": [
        "## test\n"
      ],
      "metadata": {
        "id": "hy3sLQ9tU3Nh"
      },
      "id": "hy3sLQ9tU3Nh"
    },
    {
      "cell_type": "code",
      "source": [
        "y_predicted = model.predict(X_test)\n",
        "y_predicted"
      ],
      "metadata": {
        "colab": {
          "base_uri": "https://localhost:8080/"
        },
        "id": "nf_MK-yQVI89",
        "outputId": "473071eb-2fc2-4fd6-f8eb-269b3ed2c6fe"
      },
      "id": "nf_MK-yQVI89",
      "execution_count": 22,
      "outputs": [
        {
          "output_type": "execute_result",
          "data": {
            "text/plain": [
              "array([0, 0, 6, 6, 6, 8, 9, 6, 8, 9, 8, 3, 6, 1, 1, 1, 0, 9, 7, 3, 0, 1,\n",
              "       1, 7, 9, 8, 6, 6, 9, 1, 0, 1, 9, 9, 3, 0, 6, 0, 9, 2, 9, 7, 7, 9,\n",
              "       2, 9, 9, 6, 8, 6, 2, 9, 9, 6, 8, 8, 1, 1, 5, 3, 8, 6, 6, 7, 1, 0,\n",
              "       1, 7, 6, 9, 1, 9, 9, 1, 8, 3, 8, 9, 6, 6, 1, 9, 4, 8, 4, 1, 1, 0,\n",
              "       0, 6, 8, 8, 9, 9, 6, 0, 9, 1, 1, 5, 1, 0, 4, 9, 7, 8, 4, 0, 9, 4,\n",
              "       8, 8, 9, 6, 7, 1, 4, 2, 1, 1, 0, 0, 6, 8, 3, 0, 6, 0, 0, 1, 0, 8,\n",
              "       9, 9, 8, 0, 6, 9, 6, 4, 3, 8, 0, 4, 7, 1, 1, 3, 0, 0, 1, 1, 3, 0,\n",
              "       2, 1, 1, 6, 3, 9, 6, 6, 9, 1, 9, 6, 6, 1, 1, 8, 9, 9, 1, 9, 1, 8,\n",
              "       7, 6, 1, 9, 1, 0, 0, 1, 6, 0, 8, 1, 1, 6, 1, 1, 1, 8, 8, 4, 2, 5,\n",
              "       4, 6, 8, 6, 0, 8, 0, 4, 0, 4, 7, 9, 8, 8, 0, 8, 8, 1, 7, 1, 8, 7,\n",
              "       6, 8, 1, 9, 9, 6, 3, 1, 2, 1, 1, 6, 6, 0, 9, 9, 7, 8, 9, 8, 9, 7,\n",
              "       9, 1, 2, 0, 6, 6, 9, 0, 1, 9, 9, 0, 9, 1, 0, 8, 1, 3, 1, 3, 6, 9,\n",
              "       7, 0, 0, 9, 8, 8, 7, 3, 6, 3, 9, 9, 0, 1, 5, 5, 6, 8, 6, 1, 6, 6,\n",
              "       4, 9, 7, 1, 8, 9, 0, 8, 8, 8, 6, 9, 1, 9, 4, 3, 9, 1, 4, 0, 1, 9,\n",
              "       9, 1, 0, 8, 1, 4, 9, 1, 9, 6, 0, 1, 4, 0, 7, 0, 9, 1, 9, 3, 1, 8,\n",
              "       1, 9, 8, 3, 0, 9, 0, 9, 3, 6, 1, 1, 7, 3, 9, 1, 7, 7, 1, 5, 4, 1,\n",
              "       0, 2, 6, 9, 9, 1, 9, 2, 6, 8, 4, 0, 1, 6, 6, 2, 0, 6, 8, 9, 1, 2,\n",
              "       8, 0, 1, 4, 0, 0, 9, 0, 1, 3, 7, 9, 2, 8, 1, 3, 0, 6, 1, 5, 8, 1,\n",
              "       2, 1, 0, 9, 4, 7, 6, 0, 8, 3, 7, 9, 1, 7, 2, 6, 3, 9, 6, 1, 1, 1,\n",
              "       1, 0, 1, 9, 6, 1, 8, 6, 0, 0, 6, 8, 1, 1, 0, 8, 8, 1, 3, 7, 9, 3,\n",
              "       6, 1, 0, 0, 0, 6, 9, 1, 1, 9, 0, 4, 0, 0, 0, 9, 9, 7, 2, 8, 0, 9,\n",
              "       1, 8, 1, 0, 3, 6, 0, 9, 0, 9, 8, 9, 1, 6, 8, 0, 6, 1, 9, 8, 6, 9,\n",
              "       0, 1, 6, 8, 8, 0, 1, 9, 9, 0, 0, 9, 1, 1, 9, 0, 8, 9, 1, 8, 0, 6,\n",
              "       1, 0, 9, 2, 9, 4, 9, 3, 6, 8, 3, 7, 6, 0, 1, 9, 9, 9, 9, 6, 5, 0,\n",
              "       2, 1, 9, 6, 9, 7, 7, 1, 9, 6, 4, 0, 9, 8, 8, 6, 0, 8, 8, 1, 0, 9,\n",
              "       0, 0, 6, 4, 6, 4, 0, 8, 9, 9, 4, 8, 1, 9, 1, 0, 9, 4, 1, 9, 8, 2,\n",
              "       9, 0, 0, 9, 9, 7, 6, 1, 3, 0, 0, 6, 9, 1, 7, 6, 9, 8, 7, 6, 6, 7,\n",
              "       6, 1, 9, 8, 6, 6, 0, 6, 6, 1, 7, 8, 1, 1, 8, 8, 4, 5, 9, 1, 3, 1,\n",
              "       1, 8, 6, 6, 9, 6, 2, 1, 4, 8, 7, 1, 8, 1, 7, 0, 6, 2, 8, 8, 9, 9,\n",
              "       1, 2, 2, 2, 1, 6, 6, 9, 9, 0, 6, 9, 0, 6, 7, 9, 7, 3, 0, 2, 4, 9,\n",
              "       8, 1, 8, 0, 9, 6, 2, 6, 1, 1, 9, 6, 6, 9, 9, 4, 9, 1, 8, 1, 8, 0,\n",
              "       4, 0, 6, 5, 9, 6, 0, 1, 1, 6, 6, 0, 0, 5, 8, 5, 4, 3, 1, 1, 8, 1,\n",
              "       3, 9, 1, 1, 2, 0, 5, 9, 4, 9, 4, 8, 1, 6, 8, 4, 6, 3, 0, 1, 6, 1,\n",
              "       9, 3, 1, 9, 9, 9, 1, 6, 1, 1, 9, 7, 8, 9, 4, 1, 8, 1, 7, 6, 6, 7,\n",
              "       0, 6, 8, 9, 5, 1, 0, 9, 0, 6, 1, 1, 6, 1, 0, 4, 2, 9, 6, 1, 9, 1,\n",
              "       9, 1, 1, 8, 0, 9, 6, 9, 1, 1, 2, 4, 8, 0, 2, 1, 6, 8, 0, 1, 6, 0,\n",
              "       4, 2, 9, 8, 7, 5, 9, 2, 0, 3, 9, 1, 9, 6, 9, 1, 6, 9, 8, 0, 6, 0,\n",
              "       1, 3, 9, 1, 1, 8, 1, 9, 6, 8, 9, 8, 8, 0, 8, 8, 9, 2, 9, 9, 6, 2,\n",
              "       6, 6, 6, 1, 8, 6, 6, 9, 2, 0, 0, 6, 9, 6, 0, 1, 9, 1, 6, 0, 6, 5,\n",
              "       3, 0, 0, 9, 4, 8, 6, 9, 8, 6, 9, 9, 1, 9, 9, 9, 1, 4, 1, 9, 9, 4,\n",
              "       1, 8, 6, 6, 7, 3, 0, 0, 1, 9, 4, 0, 9, 0, 8, 9, 6, 7, 1, 9, 1, 6,\n",
              "       9, 0, 9, 1, 8, 4, 9, 5, 4, 9, 8, 4, 9, 6, 1, 6, 8, 1, 0, 0, 0, 6,\n",
              "       9, 8, 1, 1, 0, 0, 8, 9, 2, 7, 3, 4, 1, 6, 7, 0, 1, 9, 9, 6, 9, 6,\n",
              "       1, 1, 6, 1, 0, 9, 4, 0, 1, 6, 0, 7, 9, 9, 9, 3, 4, 1, 0, 6, 0, 0,\n",
              "       3, 9, 9, 9, 8, 0, 0, 9, 8, 8, 6, 8, 4, 1, 2, 6, 5, 6, 4, 8, 8, 2,\n",
              "       0, 0, 9, 6, 0, 9, 1, 4, 2, 0])"
            ]
          },
          "metadata": {},
          "execution_count": 22
        }
      ]
    },
    {
      "cell_type": "code",
      "source": [
        "from sklearn.metrics import accuracy_score\n",
        "accuracy_score(y_test,y_predicted)"
      ],
      "metadata": {
        "colab": {
          "base_uri": "https://localhost:8080/"
        },
        "id": "XeV8oXTRXt7N",
        "outputId": "31db36fb-f118-4f34-d558-7ac2df0a26b3"
      },
      "id": "XeV8oXTRXt7N",
      "execution_count": 23,
      "outputs": [
        {
          "output_type": "execute_result",
          "data": {
            "text/plain": [
              "0.591"
            ]
          },
          "metadata": {},
          "execution_count": 23
        }
      ]
    }
  ],
  "metadata": {
    "kernelspec": {
      "display_name": "Python 3",
      "language": "python",
      "name": "python3"
    },
    "language_info": {
      "codemirror_mode": {
        "name": "ipython",
        "version": 3
      },
      "file_extension": ".py",
      "mimetype": "text/x-python",
      "name": "python",
      "nbconvert_exporter": "python",
      "pygments_lexer": "ipython3",
      "version": "3.8.5"
    },
    "colab": {
      "provenance": [],
      "include_colab_link": true
    }
  },
  "nbformat": 4,
  "nbformat_minor": 5
}