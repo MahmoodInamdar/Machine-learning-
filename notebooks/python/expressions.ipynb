{
  "cells": [
    {
      "cell_type": "markdown",
      "id": "loved-gallery",
      "metadata": {
        "id": "loved-gallery"
      },
      "source": [
        "# Expressions"
      ]
    },
    {
      "cell_type": "markdown",
      "id": "false-documentary",
      "metadata": {
        "id": "false-documentary"
      },
      "source": [
        "## Count Seconds in a Decade\n",
        "Write a Python program to calculate the number of seconds in 10 years. Assume that we have 2 leap years in this period. Assign the result into a variable named `seconds_in_10_years`."
      ]
    },
    {
      "cell_type": "code",
      "execution_count": null,
      "id": "prescribed-faculty",
      "metadata": {
        "id": "prescribed-faculty",
        "outputId": "a0daf5fe-6dec-46f0-a39b-45e9cec4fd60",
        "colab": {
          "base_uri": "https://localhost:8080/"
        }
      },
      "outputs": [
        {
          "output_type": "stream",
          "name": "stdout",
          "text": [
            "seconds_in_10_years:315532800\n"
          ]
        }
      ],
      "source": [
        "days_in_10_years = 365 * 10+ 2\n",
        "Seconds_in_10_years = 24 * 60 * 60\n",
        "seconds_in_10_years = days_in_10_years * Seconds_in_10_years\n",
        "# we use formated string to print the results\n",
        "# formated string pattern is like this: f\" some text {name of variable}\"\n",
        "# it takes values of the variable and adds in string\n",
        "print (f\"seconds_in_10_years:{seconds_in_10_years}\")"
      ]
    },
    {
      "cell_type": "markdown",
      "id": "sealed-mouth",
      "metadata": {
        "id": "sealed-mouth"
      },
      "source": [
        "## Compute the Area of a Circle\n",
        "Write a Python program that computes the area of a circle based on a given radius. The area of circle can be computed by the following formula: $ a = \\pi r^2 $."
      ]
    },
    {
      "cell_type": "code",
      "execution_count": null,
      "id": "amber-macedonia",
      "metadata": {
        "id": "amber-macedonia",
        "outputId": "7d3e1169-64b0-43fb-d113-95ac61421c09",
        "colab": {
          "base_uri": "https://localhost:8080/"
        }
      },
      "outputs": [
        {
          "output_type": "stream",
          "name": "stdout",
          "text": [
            "area of circle with radius 4: 50.285714285714285\n",
            "area of circle with radi 4 has area 50.285714285714285\n"
          ]
        }
      ],
      "source": [
        "r = 4\n",
        "pi = 22/7\n",
        "a = pi * r**2\n",
        "print (f\"area of circle with radius 4: {a}\")\n",
        "print (f\"area of circle with radi\", r, \"has area\", a )"
      ]
    },
    {
      "cell_type": "markdown",
      "id": "attached-cleaning",
      "metadata": {
        "id": "attached-cleaning"
      },
      "source": [
        "## Compute Maximum of Numbers\n",
        "Write a Python program that computes the maximum of two inputs: \n",
        "- The first input should be the absolute of -4. \n",
        "- The second input should be the length of the string `\"abc\"`."
      ]
    },
    {
      "cell_type": "code",
      "execution_count": 8,
      "id": "aware-resort",
      "metadata": {
        "id": "aware-resort",
        "outputId": "de392cb8-fd4a-40c7-dfa9-e6a220a6146a",
        "colab": {
          "base_uri": "https://localhost:8080/"
        }
      },
      "outputs": [
        {
          "output_type": "stream",
          "name": "stdout",
          "text": [
            "4\n",
            "3\n"
          ]
        }
      ],
      "source": [
        "print(max(abs(-4),len(\"abc\")))\n",
        "\n",
        "a = \"abc\"\n",
        "print(len(a))\n"
      ]
    },
    {
      "cell_type": "code",
      "source": [],
      "metadata": {
        "id": "xcQQl2-jPQ8k"
      },
      "id": "xcQQl2-jPQ8k",
      "execution_count": null,
      "outputs": []
    },
    {
      "cell_type": "markdown",
      "id": "cooperative-request",
      "metadata": {
        "id": "cooperative-request"
      },
      "source": [
        "## Compute Euclidean Distance\n",
        "Write a Python program to compute the Euclidean distance between two given points $ (x_1, y_1) $ and $ (x_2, y_2) $, which is $ \\sqrt{(x_1 - x_2)^2 + (y_1 - y_2)^2} $."
      ]
    },
    {
      "cell_type": "code",
      "execution_count": null,
      "id": "killing-shore",
      "metadata": {
        "id": "killing-shore",
        "outputId": "76cdb22d-f60f-48a9-d07d-26494826e88e",
        "colab": {
          "base_uri": "https://localhost:8080/"
        }
      },
      "outputs": [
        {
          "output_type": "stream",
          "name": "stdout",
          "text": [
            " Python program to compute the Euclidean distance between two given points  (𝑥1,𝑦1)  and  (𝑥2,𝑦2) where x1 = 0 ,x2 = 3, y1 = 4, y2 = 0 is  5.0\n"
          ]
        }
      ],
      "source": [
        "x1 = 0\n",
        "x2 = 3\n",
        "y1 = 4\n",
        "y2 = 0\n",
        "\n",
        "\n",
        "a = (x1 - x2)**2\n",
        "b = (y1 - y2)**2\n",
        "R = (a + b)**0.5\n",
        "print (f\" Python program to compute the Euclidean distance between two given points  (𝑥1,𝑦1)  and  (𝑥2,𝑦2) where x1 = 0 ,x2 = 3, y1 = 4, y2 = 0 is \", R)"
      ]
    },
    {
      "cell_type": "markdown",
      "id": "color-texas",
      "metadata": {
        "id": "color-texas"
      },
      "source": [
        "## Convert Fahrenheit to Celsius \n",
        "Write a Python program to convert fahrenheit to celsius based on the the following formula: $ C = (F - 32) \\times \\frac{5}{9}. $"
      ]
    },
    {
      "cell_type": "code",
      "execution_count": 2,
      "id": "broad-ordinary",
      "metadata": {
        "id": "broad-ordinary",
        "outputId": "a9f8bb06-323c-4170-8c65-f79b883b5593",
        "colab": {
          "base_uri": "https://localhost:8080/"
        }
      },
      "outputs": [
        {
          "output_type": "stream",
          "name": "stdout",
          "text": [
            "celsius when fahrenheit 100 is  37.77777777777778\n"
          ]
        }
      ],
      "source": [
        "k = 5/9\n",
        "F = 100\n",
        "C = (F - 32)*k\n",
        "print(f\"celsius when fahrenheit 100 is \" , C)"
      ]
    },
    {
      "cell_type": "markdown",
      "id": "imported-yeast",
      "metadata": {
        "id": "imported-yeast"
      },
      "source": [
        "## Print User's Name\n",
        "Write a Python program which accepts the user's first and last name and prints them in reverse order with a space between them. For example, if the user enters `John Doe`, the program should print `Doe John`. Note that you can use the `input()` function to take user's inputs."
      ]
    },
    {
      "cell_type": "code",
      "execution_count": 10,
      "id": "inner-arabic",
      "metadata": {
        "id": "inner-arabic",
        "outputId": "54d9874a-a4c9-42ac-bb57-c5da123caa78",
        "colab": {
          "base_uri": "https://localhost:8080/"
        }
      },
      "outputs": [
        {
          "output_type": "stream",
          "name": "stdout",
          "text": [
            "Enter your first name :\n",
            "Mahmood\n",
            "Enter your last name :\n",
            "Inamdar\n",
            "Inamdar Mahmood\n"
          ]
        }
      ],
      "source": [
        "print(\"Enter your first name :\")\n",
        "x = input()\n",
        "print(\"Enter your last name :\")\n",
        "y = input()\n",
        "print( y ,  x)\n"
      ]
    },
    {
      "cell_type": "markdown",
      "id": "3d187e0e",
      "metadata": {
        "id": "3d187e0e"
      },
      "source": [
        "## Read a Text File\n",
        "Write a Python program that opens a text file named `my_file.txt` and writes `Hello world!` in that file."
      ]
    },
    {
      "cell_type": "code",
      "execution_count": 11,
      "id": "468bc699",
      "metadata": {
        "id": "468bc699"
      },
      "outputs": [],
      "source": [
        "with open(\"my_file.txt\", \"w\") as file:\n",
        "  file.write(\"Hello world!\")"
      ]
    }
  ],
  "metadata": {
    "kernelspec": {
      "display_name": "Python 3",
      "language": "python",
      "name": "python3"
    },
    "language_info": {
      "codemirror_mode": {
        "name": "ipython",
        "version": 3
      },
      "file_extension": ".py",
      "mimetype": "text/x-python",
      "name": "python",
      "nbconvert_exporter": "python",
      "pygments_lexer": "ipython3",
      "version": "3.8.5"
    },
    "colab": {
      "provenance": []
    }
  },
  "nbformat": 4,
  "nbformat_minor": 5
}